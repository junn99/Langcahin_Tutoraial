{
 "cells": [
  {
   "cell_type": "code",
   "execution_count": 8,
   "metadata": {},
   "outputs": [
    {
     "name": "stdout",
     "output_type": "stream",
     "text": [
      "Requirement already satisfied: tqdm in /home/jun99/miniconda3/envs/jun/lib/python3.9/site-packages (4.66.4)\n"
     ]
    }
   ],
   "source": [
    "# !pip install tqdm # 진행바 설정"
   ]
  },
  {
   "cell_type": "markdown",
   "metadata": {},
   "source": [
    "# DirectoryLoader + PyPDFLoader"
   ]
  },
  {
   "cell_type": "markdown",
   "metadata": {},
   "source": [
    "pdf 출처 : https://www.koraia.org/default/mp5/sub3.php?sub=03\n",
    "- 자료가 꽤 꾸준히 올라오기도하고, 퀄리티도 좋아서 ai관련해선 좋은 소스임\n",
    "\n",
    "Langchain Document : https://python.langchain.com/docs/how_to/document_loader_directory/"
   ]
  },
  {
   "cell_type": "code",
   "execution_count": 72,
   "metadata": {},
   "outputs": [],
   "source": [
    "from langchain_community.document_loaders import DirectoryLoader\n",
    "from langchain_community.document_loaders import PyPDFLoader\n",
    "\n",
    "# Specify the directory containing your PDF files\n",
    "pdf_folder_path = \"/home/jun99/rag/pdfdata\""
   ]
  },
  {
   "cell_type": "code",
   "execution_count": 59,
   "metadata": {},
   "outputs": [
    {
     "name": "stderr",
     "output_type": "stream",
     "text": [
      " 25%|██▌       | 3/12 [00:07<00:17,  1.98s/it]PdfReadError(\"Invalid Elementary Object starting with b'\\\\xb0' @1025546: b'F12\\\\n/BaseFont /\\\\xc4\\\\xda\\\\xbe\\\\xee \\\\xb0\\\\xed\\\\xb5\\\\xf1 E 7 ExtraBold\\\\n/Encoding /Identity-H\\\\n\\\\n/DescendantFonts ['\")\n",
      " 75%|███████▌  | 9/12 [00:38<00:17,  5.75s/it]PdfReadError(\"Invalid Elementary Object starting with b'\\\\xb5' @13704199: b'/BaseFont /\\\\xbf\\\\xa1\\\\xbd\\\\xba\\\\xc4\\\\xda\\\\xbe\\\\xee \\\\xb5\\\\xe5\\\\xb8\\\\xb2 8 Heavy\\\\n/Encoding /Identity-H\\\\n\\\\n/DescendantFonts [ 84819'\")\n",
      "100%|██████████| 12/12 [00:52<00:00,  4.35s/it]"
     ]
    },
    {
     "name": "stdout",
     "output_type": "stream",
     "text": [
      "CPU times: user 46.8 s, sys: 1.13 s, total: 48 s\n",
      "Wall time: 52.3 s\n"
     ]
    },
    {
     "name": "stderr",
     "output_type": "stream",
     "text": [
      "\n"
     ]
    }
   ],
   "source": [
    "%%time\n",
    "# Create a DirectoryLoader\n",
    "loader = DirectoryLoader(pdf_folder_path, glob=\"**/*.pdf\", loader_cls=PyPDFLoader,\n",
    "                         show_progress=True) # 진행바 추가\n",
    "# Load all PDF documents\n",
    "documents = loader.load()"
   ]
  },
  {
   "cell_type": "markdown",
   "metadata": {},
   "source": [
    "- PyPDFDirectoryLoader도 있긴한데, 확장성을 위해 DirectoryLoader사용"
   ]
  },
  {
   "cell_type": "code",
   "execution_count": 60,
   "metadata": {},
   "outputs": [
    {
     "name": "stdout",
     "output_type": "stream",
     "text": [
      "page_content='책임\u0000있는\u0000AI를\u0000위한\u0000기업의\u0000노력과\u0000시사점\n",
      "Corporate Efforts for Responsible AI and Implications\n",
      "경기도 성남시 분당구 대왕판교로 712 번길 22 글로벌 R&D 연구동 (B) 4층\n",
      "Global R&D Center 4F 22 Daewangpangyo-ro 712beon-gil, Bundang-gu, Seongnam-si, Gyeonggi-do\n",
      " \n",
      "www.spri.kr\u0000 ISSN\u00002733-6336' metadata={'source': '/home/jun99/rag/pdfdata/[이슈리포트]_책임 있는 AI를 위한 기업의 노력과 시사점.pdf', 'page': 33}\n"
     ]
    }
   ],
   "source": [
    "print(documents[-1])"
   ]
  },
  {
   "cell_type": "markdown",
   "metadata": {},
   "source": [
    "- 그런데 일단 documents를 보면, page_content에 뭐랄까 metadata같은 내용들도 있어서 조금 그럼 "
   ]
  },
  {
   "cell_type": "code",
   "execution_count": 61,
   "metadata": {},
   "outputs": [
    {
     "data": {
      "text/plain": [
       "818"
      ]
     },
     "execution_count": 61,
     "metadata": {},
     "output_type": "execute_result"
    }
   ],
   "source": [
    "len(documents) # 딱 페이지 수만큼 나옴"
   ]
  },
  {
   "cell_type": "markdown",
   "metadata": {},
   "source": [
    "#### What multithreading?\n",
    "- 여러 파일들을 동시에 병렬적으로 다운받는 기능 : 효율적임! <- 대용량에서\n",
    "- 근데 기본값으론 False인데, 안좋은점이 있는걸까? -> 안좋은건 내 노트북이였고\n"
   ]
  },
  {
   "cell_type": "code",
   "execution_count": 62,
   "metadata": {},
   "outputs": [],
   "source": [
    "# %%time\n",
    "# # 멀티스레드 활성화 : 병렬 로드 -> 하드 디스크 성능 이슈로 오히려 더 느려짐...쓰지말자 ㅠㅠ\n",
    "# loader = DirectoryLoader(pdf_folder_path, glob=\"**/*.pdf\", loader_cls=PyPDFLoader,\n",
    "#                          show_progress=True, use_multithreading=True) \n",
    "\n",
    "# docs = loader.load()"
   ]
  },
  {
   "cell_type": "markdown",
   "metadata": {},
   "source": [
    "앞으로 loader쓸 땐, 그냥 Directory로 정해서 쓰면 될 듯하다\n",
    "\n",
    "\n",
    "범용성도 커서, 유지 & 보수도 하기 쉽다"
   ]
  },
  {
   "cell_type": "markdown",
   "metadata": {},
   "source": [
    "# Text Splitter\n",
    "- RecursiveCharacterTextSplitter많이 쓰는데, 보통 chunk_size(1000~1500)으로 잡고 overlap은 15~20%로 하는 게 일반적\n",
    "\n",
    "- ref : https://github.com/langchain-ai/langchain/issues/2026"
   ]
  },
  {
   "cell_type": "code",
   "execution_count": 63,
   "metadata": {},
   "outputs": [],
   "source": [
    "from langchain.text_splitter import RecursiveCharacterTextSplitter\n",
    "\n",
    "# Create a text splitter\n",
    "text_splitter = RecursiveCharacterTextSplitter(chunk_size=1000, chunk_overlap=200)\n",
    "\n",
    "# Split the documents\n",
    "split_docs = text_splitter.split_documents(documents)"
   ]
  },
  {
   "cell_type": "code",
   "execution_count": 64,
   "metadata": {},
   "outputs": [
    {
     "data": {
      "text/plain": [
       "(list, langchain_core.documents.base.Document)"
      ]
     },
     "execution_count": 64,
     "metadata": {},
     "output_type": "execute_result"
    }
   ],
   "source": [
    "type(split_docs), type(split_docs[0])"
   ]
  },
  {
   "cell_type": "code",
   "execution_count": 65,
   "metadata": {},
   "outputs": [
    {
     "name": "stdout",
     "output_type": "stream",
     "text": [
      "=========0번째 문서========================\n",
      "page_content='ISSUE\u0000REPORT\u0000l\u00002024.08.19\u0000IS-178\n",
      "글로벌\u0000초거대\u0000AI\u0000모델\u0000현황\u0000분석\n",
      "(2020~2023년)\n",
      "An Analysis on the Global Large-scale AI Model(2020-2023)\n",
      "봉강호' metadata={'source': '/home/jun99/rag/pdfdata/(IS-178) 글로벌 초거대 AI 모델 현황 분석(2020~2023년)_SPRi_240819.pdf', 'page': 0}\n",
      "=========1번째 문서========================\n",
      "page_content='이\u0000보고서는\u0000 ｢과학기술정보통신부\u0000 정보통신진흥기금 ｣에서\u0000지원받아\u0000제작한\u0000것으로\u0000\n",
      "과학기술정보통신부의\u0000 공식의견과\u0000다를\u0000수\u0000있습니다.\n",
      "이\u0000보고서의\u0000내용은\u0000연구진의\u0000개인\u0000견해이며,\u0000본\u0000보고서와\u0000관련한\u0000의문\u0000사항\u0000또는\u0000수정·보완할\u0000\n",
      "필요가\u0000있는\u0000경우에는\u0000아래\u0000연락처로\u0000연락해\u0000주시기\u0000바랍니다.\n",
      "소프트웨어정책연구소\u0000 AI정책연구실\n",
      "봉강호\u0000선임연구원\u0000bk91@spri.kr' metadata={'source': '/home/jun99/rag/pdfdata/(IS-178) 글로벌 초거대 AI 모델 현황 분석(2020~2023년)_SPRi_240819.pdf', 'page': 1}\n",
      "=========2번째 문서========================\n",
      "page_content='SPRi\u0000이슈리포트\u0000IS-178 글로벌\u0000초거대\u0000AI\u0000모델\u0000현황\u0000분석(2020~2023년)\n",
      "\u0000\u0000CONTENT\n",
      "\u0000\u0000\u0000\u0000\n",
      "Ⅰ.\u0000서론 P.1\n",
      "Ⅱ.\u0000글로벌\u0000초거대\u0000AI\u0000모델\u0000현황 P.4\n",
      "III.\u0000요약\u0000및\u0000정책적\u0000시사점 P.12\n",
      "참고문헌 P.16' metadata={'source': '/home/jun99/rag/pdfdata/(IS-178) 글로벌 초거대 AI 모델 현황 분석(2020~2023년)_SPRi_240819.pdf', 'page': 2}\n",
      "=========3번째 문서========================\n",
      "page_content='SPRi\u0000이슈리포트\u0000IS-178 글로벌\u0000초거대\u0000AI\u0000모델\u0000현황\u0000분석(2020~2023년)\n",
      "요\u0000약\u0000문\n",
      "인공지능(AI)\u0000기술은\u0000급격한\u0000속도로\u0000발전해왔으며,\u0000특히\u00002020년대에\u0000들어서면서\u0000초거대\u0000AI\u0000\n",
      "모델이\u0000경쟁적으로\u0000등장하고\u0000있다.\u0000여기서\u0000초거대\u0000AI\u0000모델은\u0000대용량\u0000연산\u0000인프라를\u0000바탕으로\u0000\n",
      "방대한\u0000데이터를\u0000학습해\u0000인간처럼\u0000종합적인\u0000인지·판단·추론이\u0000가능해진\u0000‘큰\u0000규모’의\u0000AI\u0000모델을\u0000\n",
      "의미한다.\u0000특정\u0000목적에\u0000따라\u0000개별의\u0000데이터를\u0000수집·학습하여\u0000만들어지는\u0000기존의\u0000일반\u0000AI는\u0000학\n",
      "습된\u0000과업(task)에\u0000한하여\u0000수행이\u0000가능한\u0000반면,\u0000초거대\u0000AI는\u0000더욱\u0000복잡하고\u0000광범위한\u0000분야에서\u0000\n",
      "과업을\u0000수행할\u0000수\u0000있다.\n",
      "본고에서는\u00002020년부터\u00002023년까지\u0000전\u0000세계에\u0000출시된\u0000초거대\u0000AI\u0000모델\u0000현황을\u0000분석하고,\u0000\n",
      "글로벌\u0000기술\u0000동향과\u0000트렌드를\u0000살펴보았다.\u0000구체적으로,\u0000미국\u0000민간\u0000연구단체인\u0000‘EPOCH\u0000AI’가\u0000\n",
      "최근\u0000업데이트(‘24년\u00007월)한\u0000초거대\u0000AI\u0000모델\u0000현황\u0000DB를\u0000통해\u0000데이터를\u0000수집하고,\u00002020년부터\u0000\n",
      "2023년까지\u0000출시된\u0000초거대\u0000AI\u0000모델에\u0000대해\u0000출시년도,\u0000국가,\u0000분야,\u0000과업유형,\u0000개발형태,\u0000개발조직\u0000\n",
      "유형\u0000등의\u0000다양한\u0000기준으로\u0000정리·분석하였다.\u0000우리나라\u0000현황에\u0000대해서도\u0000주목하고,\u0000AI\u0000분야에\u0000\n",
      "대한\u0000정책적\u0000시사점을\u0000도출하였다.\n",
      "Executive\u0000Summary\u0000\n",
      "Artificial\u0000intelligence\u0000(AI)\u0000technology\u0000is\u0000developing\u0000at\u0000a\u0000rapid\u0000pace,\u0000and\u0000\n",
      "large-scale\u0000AI\u0000models\u0000are\u0000emerging\u0000as\u0000a\u0000competitive\u0000force,\u0000especially\u0000in\u0000the\u0000\n",
      "2020s.\u0000These\u0000large-scale\u0000AI\u0000models\u0000have\u0000learnt\u0000vast\u0000amounts\u0000of\u0000data\u0000based\u0000\n",
      "on\u0000a\u0000large-capacity\u0000 computational\u0000 infrastructure,\u0000 enabling\u0000comprehensive\u0000' metadata={'source': '/home/jun99/rag/pdfdata/(IS-178) 글로벌 초거대 AI 모델 현황 분석(2020~2023년)_SPRi_240819.pdf', 'page': 3}\n",
      "=========4번째 문서========================\n",
      "page_content='2020s.\u0000These\u0000large-scale\u0000AI\u0000models\u0000have\u0000learnt\u0000vast\u0000amounts\u0000of\u0000data\u0000based\u0000\n",
      "on\u0000a\u0000large-capacity\u0000 computational\u0000 infrastructure,\u0000 enabling\u0000comprehensive\u0000\n",
      "cognition,\u0000judgement,\u0000and\u0000reasoning\u0000akin\u0000to\u0000humans.\u0000Existing\u0000general\u0000AI,\u0000which\u0000\n",
      "is\u0000created\u0000by\u0000collecting\u0000and\u0000learning\u0000discrete\u0000data\u0000for\u0000a\u0000specific\u0000purpose,\u0000can\u0000\n",
      "only\u0000be\u0000applied\u0000to\u0000the\u0000tasks\u0000it\u0000has\u0000learnt,\u0000whilst\u0000large-scale\u0000AI\u0000can\u0000be\u0000applied\u0000\n",
      "to\u0000various\u0000tasks.\n",
      "This\u0000report\u0000examines\u0000the\u0000global\u0000technology\u0000trends\u0000of\u0000large-scale\u0000AI\u0000models\u0000\n",
      "released\u0000between\u00002020\u0000and\u00002023.\u0000Statistics\u0000on\u0000global\u0000large-scale\u0000AI\u0000models\u0000\n",
      "are\u0000available\u0000by\u0000release\u0000year,\u0000country,\u0000domain,\u0000task,\u0000development\u0000type,\u0000and\u0000\n",
      "organisation\u0000type.\u0000It\u0000gives\u0000special\u0000focus\u0000to\u0000the\u0000status\u0000of\u0000South\u0000Korea\u0000and\u0000\n",
      "provides\u0000policy\u0000recommendations\u0000 for\u0000the\u0000field\u0000of\u0000AI.' metadata={'source': '/home/jun99/rag/pdfdata/(IS-178) 글로벌 초거대 AI 모델 현황 분석(2020~2023년)_SPRi_240819.pdf', 'page': 3}\n"
     ]
    }
   ],
   "source": [
    "for i,split_doc in enumerate(split_docs[0:5]):\n",
    "    print(f\"========={i}번째 문서========================\\n{split_doc}\")"
   ]
  },
  {
   "cell_type": "markdown",
   "metadata": {},
   "source": [
    "# Embedding\n",
    "https://wikidocs.net/233817\n",
    "\n",
    "https://python.langchain.com/docs/integrations/platforms/huggingface/#huggingfacebgeembeddings\n",
    "\n",
    "https://python.langchain.com/docs/integrations/text_embedding/bge_huggingface/\n",
    "\n",
    "https://huggingface.co/spaces/mteb/leaderboard\n",
    "\n",
    "자료들에 근거하여 bge임베딩 모델 사용 -> 제일 많이 기초모델로 사용됨\n",
    "- 궁금한게 애초에 bge자체가 한국어 특화가 아니면, 현재 좋은 성능인 bge기반 다른 모델써도 되려나?"
   ]
  },
  {
   "cell_type": "code",
   "execution_count": 71,
   "metadata": {},
   "outputs": [
    {
     "ename": "KeyboardInterrupt",
     "evalue": "",
     "output_type": "error",
     "traceback": [
      "\u001b[0;31m---------------------------------------------------------------------------\u001b[0m",
      "\u001b[0;31mKeyboardInterrupt\u001b[0m                         Traceback (most recent call last)",
      "File \u001b[0;32m<timed exec>:6\u001b[0m\n",
      "File \u001b[0;32m~/miniconda3/envs/jun/lib/python3.9/site-packages/langchain_community/embeddings/huggingface.py:330\u001b[0m, in \u001b[0;36mHuggingFaceBgeEmbeddings.__init__\u001b[0;34m(self, **kwargs)\u001b[0m\n\u001b[1;32m    324\u001b[0m \u001b[38;5;28;01mexcept\u001b[39;00m \u001b[38;5;167;01mImportError\u001b[39;00m \u001b[38;5;28;01mas\u001b[39;00m exc:\n\u001b[1;32m    325\u001b[0m     \u001b[38;5;28;01mraise\u001b[39;00m \u001b[38;5;167;01mImportError\u001b[39;00m(\n\u001b[1;32m    326\u001b[0m         \u001b[38;5;124m\"\u001b[39m\u001b[38;5;124mCould not import sentence_transformers python package. \u001b[39m\u001b[38;5;124m\"\u001b[39m\n\u001b[1;32m    327\u001b[0m         \u001b[38;5;124m\"\u001b[39m\u001b[38;5;124mPlease install it with `pip install sentence_transformers`.\u001b[39m\u001b[38;5;124m\"\u001b[39m\n\u001b[1;32m    328\u001b[0m     ) \u001b[38;5;28;01mfrom\u001b[39;00m \u001b[38;5;21;01mexc\u001b[39;00m\n\u001b[0;32m--> 330\u001b[0m \u001b[38;5;28mself\u001b[39m\u001b[38;5;241m.\u001b[39mclient \u001b[38;5;241m=\u001b[39m \u001b[43msentence_transformers\u001b[49m\u001b[38;5;241;43m.\u001b[39;49m\u001b[43mSentenceTransformer\u001b[49m\u001b[43m(\u001b[49m\n\u001b[1;32m    331\u001b[0m \u001b[43m    \u001b[49m\u001b[38;5;28;43mself\u001b[39;49m\u001b[38;5;241;43m.\u001b[39;49m\u001b[43mmodel_name\u001b[49m\u001b[43m,\u001b[49m\u001b[43m \u001b[49m\u001b[43mcache_folder\u001b[49m\u001b[38;5;241;43m=\u001b[39;49m\u001b[38;5;28;43mself\u001b[39;49m\u001b[38;5;241;43m.\u001b[39;49m\u001b[43mcache_folder\u001b[49m\u001b[43m,\u001b[49m\u001b[43m \u001b[49m\u001b[38;5;241;43m*\u001b[39;49m\u001b[38;5;241;43m*\u001b[39;49m\u001b[38;5;28;43mself\u001b[39;49m\u001b[38;5;241;43m.\u001b[39;49m\u001b[43mmodel_kwargs\u001b[49m\n\u001b[1;32m    332\u001b[0m \u001b[43m\u001b[49m\u001b[43m)\u001b[49m\n\u001b[1;32m    334\u001b[0m \u001b[38;5;28;01mif\u001b[39;00m \u001b[38;5;124m\"\u001b[39m\u001b[38;5;124m-zh\u001b[39m\u001b[38;5;124m\"\u001b[39m \u001b[38;5;129;01min\u001b[39;00m \u001b[38;5;28mself\u001b[39m\u001b[38;5;241m.\u001b[39mmodel_name:\n\u001b[1;32m    335\u001b[0m     \u001b[38;5;28mself\u001b[39m\u001b[38;5;241m.\u001b[39mquery_instruction \u001b[38;5;241m=\u001b[39m DEFAULT_QUERY_BGE_INSTRUCTION_ZH\n",
      "File \u001b[0;32m~/miniconda3/envs/jun/lib/python3.9/site-packages/sentence_transformers/SentenceTransformer.py:287\u001b[0m, in \u001b[0;36mSentenceTransformer.__init__\u001b[0;34m(self, model_name_or_path, modules, device, prompts, default_prompt_name, similarity_fn_name, cache_folder, trust_remote_code, revision, local_files_only, token, use_auth_token, truncate_dim, model_kwargs, tokenizer_kwargs, config_kwargs, model_card_data)\u001b[0m\n\u001b[1;32m    278\u001b[0m         model_name_or_path \u001b[38;5;241m=\u001b[39m __MODEL_HUB_ORGANIZATION__ \u001b[38;5;241m+\u001b[39m \u001b[38;5;124m\"\u001b[39m\u001b[38;5;124m/\u001b[39m\u001b[38;5;124m\"\u001b[39m \u001b[38;5;241m+\u001b[39m model_name_or_path\n\u001b[1;32m    280\u001b[0m \u001b[38;5;28;01mif\u001b[39;00m is_sentence_transformer_model(\n\u001b[1;32m    281\u001b[0m     model_name_or_path,\n\u001b[1;32m    282\u001b[0m     token,\n\u001b[0;32m   (...)\u001b[0m\n\u001b[1;32m    285\u001b[0m     local_files_only\u001b[38;5;241m=\u001b[39mlocal_files_only,\n\u001b[1;32m    286\u001b[0m ):\n\u001b[0;32m--> 287\u001b[0m     modules \u001b[38;5;241m=\u001b[39m \u001b[38;5;28;43mself\u001b[39;49m\u001b[38;5;241;43m.\u001b[39;49m\u001b[43m_load_sbert_model\u001b[49m\u001b[43m(\u001b[49m\n\u001b[1;32m    288\u001b[0m \u001b[43m        \u001b[49m\u001b[43mmodel_name_or_path\u001b[49m\u001b[43m,\u001b[49m\n\u001b[1;32m    289\u001b[0m \u001b[43m        \u001b[49m\u001b[43mtoken\u001b[49m\u001b[38;5;241;43m=\u001b[39;49m\u001b[43mtoken\u001b[49m\u001b[43m,\u001b[49m\n\u001b[1;32m    290\u001b[0m \u001b[43m        \u001b[49m\u001b[43mcache_folder\u001b[49m\u001b[38;5;241;43m=\u001b[39;49m\u001b[43mcache_folder\u001b[49m\u001b[43m,\u001b[49m\n\u001b[1;32m    291\u001b[0m \u001b[43m        \u001b[49m\u001b[43mrevision\u001b[49m\u001b[38;5;241;43m=\u001b[39;49m\u001b[43mrevision\u001b[49m\u001b[43m,\u001b[49m\n\u001b[1;32m    292\u001b[0m \u001b[43m        \u001b[49m\u001b[43mtrust_remote_code\u001b[49m\u001b[38;5;241;43m=\u001b[39;49m\u001b[43mtrust_remote_code\u001b[49m\u001b[43m,\u001b[49m\n\u001b[1;32m    293\u001b[0m \u001b[43m        \u001b[49m\u001b[43mlocal_files_only\u001b[49m\u001b[38;5;241;43m=\u001b[39;49m\u001b[43mlocal_files_only\u001b[49m\u001b[43m,\u001b[49m\n\u001b[1;32m    294\u001b[0m \u001b[43m        \u001b[49m\u001b[43mmodel_kwargs\u001b[49m\u001b[38;5;241;43m=\u001b[39;49m\u001b[43mmodel_kwargs\u001b[49m\u001b[43m,\u001b[49m\n\u001b[1;32m    295\u001b[0m \u001b[43m        \u001b[49m\u001b[43mtokenizer_kwargs\u001b[49m\u001b[38;5;241;43m=\u001b[39;49m\u001b[43mtokenizer_kwargs\u001b[49m\u001b[43m,\u001b[49m\n\u001b[1;32m    296\u001b[0m \u001b[43m        \u001b[49m\u001b[43mconfig_kwargs\u001b[49m\u001b[38;5;241;43m=\u001b[39;49m\u001b[43mconfig_kwargs\u001b[49m\u001b[43m,\u001b[49m\n\u001b[1;32m    297\u001b[0m \u001b[43m    \u001b[49m\u001b[43m)\u001b[49m\n\u001b[1;32m    298\u001b[0m \u001b[38;5;28;01melse\u001b[39;00m:\n\u001b[1;32m    299\u001b[0m     modules \u001b[38;5;241m=\u001b[39m \u001b[38;5;28mself\u001b[39m\u001b[38;5;241m.\u001b[39m_load_auto_model(\n\u001b[1;32m    300\u001b[0m         model_name_or_path,\n\u001b[1;32m    301\u001b[0m         token\u001b[38;5;241m=\u001b[39mtoken,\n\u001b[0;32m   (...)\u001b[0m\n\u001b[1;32m    308\u001b[0m         config_kwargs\u001b[38;5;241m=\u001b[39mconfig_kwargs,\n\u001b[1;32m    309\u001b[0m     )\n",
      "File \u001b[0;32m~/miniconda3/envs/jun/lib/python3.9/site-packages/sentence_transformers/SentenceTransformer.py:1487\u001b[0m, in \u001b[0;36mSentenceTransformer._load_sbert_model\u001b[0;34m(self, model_name_or_path, token, cache_folder, revision, trust_remote_code, local_files_only, model_kwargs, tokenizer_kwargs, config_kwargs)\u001b[0m\n\u001b[1;32m   1484\u001b[0m     \u001b[38;5;28;01mif\u001b[39;00m config_kwargs:\n\u001b[1;32m   1485\u001b[0m         kwargs[\u001b[38;5;124m\"\u001b[39m\u001b[38;5;124mconfig_args\u001b[39m\u001b[38;5;124m\"\u001b[39m]\u001b[38;5;241m.\u001b[39mupdate(config_kwargs)\n\u001b[0;32m-> 1487\u001b[0m     module \u001b[38;5;241m=\u001b[39m \u001b[43mTransformer\u001b[49m\u001b[43m(\u001b[49m\u001b[43mmodel_name_or_path\u001b[49m\u001b[43m,\u001b[49m\u001b[43m \u001b[49m\u001b[43mcache_dir\u001b[49m\u001b[38;5;241;43m=\u001b[39;49m\u001b[43mcache_folder\u001b[49m\u001b[43m,\u001b[49m\u001b[43m \u001b[49m\u001b[38;5;241;43m*\u001b[39;49m\u001b[38;5;241;43m*\u001b[39;49m\u001b[43mkwargs\u001b[49m\u001b[43m)\u001b[49m\n\u001b[1;32m   1488\u001b[0m \u001b[38;5;28;01melse\u001b[39;00m:\n\u001b[1;32m   1489\u001b[0m     \u001b[38;5;66;03m# Normalize does not require any files to be loaded\u001b[39;00m\n\u001b[1;32m   1490\u001b[0m     \u001b[38;5;28;01mif\u001b[39;00m module_class \u001b[38;5;241m==\u001b[39m Normalize:\n",
      "File \u001b[0;32m~/miniconda3/envs/jun/lib/python3.9/site-packages/sentence_transformers/models/Transformer.py:58\u001b[0m, in \u001b[0;36mTransformer.__init__\u001b[0;34m(self, model_name_or_path, max_seq_length, model_args, tokenizer_args, config_args, cache_dir, do_lower_case, tokenizer_name_or_path)\u001b[0m\n\u001b[1;32m     56\u001b[0m \u001b[38;5;28;01mif\u001b[39;00m max_seq_length \u001b[38;5;129;01mis\u001b[39;00m \u001b[38;5;129;01mnot\u001b[39;00m \u001b[38;5;28;01mNone\u001b[39;00m \u001b[38;5;129;01mand\u001b[39;00m \u001b[38;5;124m\"\u001b[39m\u001b[38;5;124mmodel_max_length\u001b[39m\u001b[38;5;124m\"\u001b[39m \u001b[38;5;129;01mnot\u001b[39;00m \u001b[38;5;129;01min\u001b[39;00m tokenizer_args:\n\u001b[1;32m     57\u001b[0m     tokenizer_args[\u001b[38;5;124m\"\u001b[39m\u001b[38;5;124mmodel_max_length\u001b[39m\u001b[38;5;124m\"\u001b[39m] \u001b[38;5;241m=\u001b[39m max_seq_length\n\u001b[0;32m---> 58\u001b[0m \u001b[38;5;28mself\u001b[39m\u001b[38;5;241m.\u001b[39mtokenizer \u001b[38;5;241m=\u001b[39m \u001b[43mAutoTokenizer\u001b[49m\u001b[38;5;241;43m.\u001b[39;49m\u001b[43mfrom_pretrained\u001b[49m\u001b[43m(\u001b[49m\n\u001b[1;32m     59\u001b[0m \u001b[43m    \u001b[49m\u001b[43mtokenizer_name_or_path\u001b[49m\u001b[43m \u001b[49m\u001b[38;5;28;43;01mif\u001b[39;49;00m\u001b[43m \u001b[49m\u001b[43mtokenizer_name_or_path\u001b[49m\u001b[43m \u001b[49m\u001b[38;5;129;43;01mis\u001b[39;49;00m\u001b[43m \u001b[49m\u001b[38;5;129;43;01mnot\u001b[39;49;00m\u001b[43m \u001b[49m\u001b[38;5;28;43;01mNone\u001b[39;49;00m\u001b[43m \u001b[49m\u001b[38;5;28;43;01melse\u001b[39;49;00m\u001b[43m \u001b[49m\u001b[43mmodel_name_or_path\u001b[49m\u001b[43m,\u001b[49m\n\u001b[1;32m     60\u001b[0m \u001b[43m    \u001b[49m\u001b[43mcache_dir\u001b[49m\u001b[38;5;241;43m=\u001b[39;49m\u001b[43mcache_dir\u001b[49m\u001b[43m,\u001b[49m\n\u001b[1;32m     61\u001b[0m \u001b[43m    \u001b[49m\u001b[38;5;241;43m*\u001b[39;49m\u001b[38;5;241;43m*\u001b[39;49m\u001b[43mtokenizer_args\u001b[49m\u001b[43m,\u001b[49m\n\u001b[1;32m     62\u001b[0m \u001b[43m\u001b[49m\u001b[43m)\u001b[49m\n\u001b[1;32m     64\u001b[0m \u001b[38;5;66;03m# No max_seq_length set. Try to infer from model\u001b[39;00m\n\u001b[1;32m     65\u001b[0m \u001b[38;5;28;01mif\u001b[39;00m max_seq_length \u001b[38;5;129;01mis\u001b[39;00m \u001b[38;5;28;01mNone\u001b[39;00m:\n",
      "File \u001b[0;32m~/miniconda3/envs/jun/lib/python3.9/site-packages/transformers/models/auto/tokenization_auto.py:897\u001b[0m, in \u001b[0;36mAutoTokenizer.from_pretrained\u001b[0;34m(cls, pretrained_model_name_or_path, *inputs, **kwargs)\u001b[0m\n\u001b[1;32m    893\u001b[0m     \u001b[38;5;28;01mif\u001b[39;00m tokenizer_class \u001b[38;5;129;01mis\u001b[39;00m \u001b[38;5;28;01mNone\u001b[39;00m:\n\u001b[1;32m    894\u001b[0m         \u001b[38;5;28;01mraise\u001b[39;00m \u001b[38;5;167;01mValueError\u001b[39;00m(\n\u001b[1;32m    895\u001b[0m             \u001b[38;5;124mf\u001b[39m\u001b[38;5;124m\"\u001b[39m\u001b[38;5;124mTokenizer class \u001b[39m\u001b[38;5;132;01m{\u001b[39;00mtokenizer_class_candidate\u001b[38;5;132;01m}\u001b[39;00m\u001b[38;5;124m does not exist or is not currently imported.\u001b[39m\u001b[38;5;124m\"\u001b[39m\n\u001b[1;32m    896\u001b[0m         )\n\u001b[0;32m--> 897\u001b[0m     \u001b[38;5;28;01mreturn\u001b[39;00m \u001b[43mtokenizer_class\u001b[49m\u001b[38;5;241;43m.\u001b[39;49m\u001b[43mfrom_pretrained\u001b[49m\u001b[43m(\u001b[49m\u001b[43mpretrained_model_name_or_path\u001b[49m\u001b[43m,\u001b[49m\u001b[43m \u001b[49m\u001b[38;5;241;43m*\u001b[39;49m\u001b[43minputs\u001b[49m\u001b[43m,\u001b[49m\u001b[43m \u001b[49m\u001b[38;5;241;43m*\u001b[39;49m\u001b[38;5;241;43m*\u001b[39;49m\u001b[43mkwargs\u001b[49m\u001b[43m)\u001b[49m\n\u001b[1;32m    899\u001b[0m \u001b[38;5;66;03m# Otherwise we have to be creative.\u001b[39;00m\n\u001b[1;32m    900\u001b[0m \u001b[38;5;66;03m# if model is an encoder decoder, the encoder tokenizer class is used by default\u001b[39;00m\n\u001b[1;32m    901\u001b[0m \u001b[38;5;28;01mif\u001b[39;00m \u001b[38;5;28misinstance\u001b[39m(config, EncoderDecoderConfig):\n",
      "File \u001b[0;32m~/miniconda3/envs/jun/lib/python3.9/site-packages/transformers/tokenization_utils_base.py:2271\u001b[0m, in \u001b[0;36mPreTrainedTokenizerBase.from_pretrained\u001b[0;34m(cls, pretrained_model_name_or_path, cache_dir, force_download, local_files_only, token, revision, trust_remote_code, *init_inputs, **kwargs)\u001b[0m\n\u001b[1;32m   2268\u001b[0m     \u001b[38;5;28;01melse\u001b[39;00m:\n\u001b[1;32m   2269\u001b[0m         logger\u001b[38;5;241m.\u001b[39minfo(\u001b[38;5;124mf\u001b[39m\u001b[38;5;124m\"\u001b[39m\u001b[38;5;124mloading file \u001b[39m\u001b[38;5;132;01m{\u001b[39;00mfile_path\u001b[38;5;132;01m}\u001b[39;00m\u001b[38;5;124m from cache at \u001b[39m\u001b[38;5;132;01m{\u001b[39;00mresolved_vocab_files[file_id]\u001b[38;5;132;01m}\u001b[39;00m\u001b[38;5;124m\"\u001b[39m)\n\u001b[0;32m-> 2271\u001b[0m \u001b[38;5;28;01mreturn\u001b[39;00m \u001b[38;5;28;43mcls\u001b[39;49m\u001b[38;5;241;43m.\u001b[39;49m\u001b[43m_from_pretrained\u001b[49m\u001b[43m(\u001b[49m\n\u001b[1;32m   2272\u001b[0m \u001b[43m    \u001b[49m\u001b[43mresolved_vocab_files\u001b[49m\u001b[43m,\u001b[49m\n\u001b[1;32m   2273\u001b[0m \u001b[43m    \u001b[49m\u001b[43mpretrained_model_name_or_path\u001b[49m\u001b[43m,\u001b[49m\n\u001b[1;32m   2274\u001b[0m \u001b[43m    \u001b[49m\u001b[43minit_configuration\u001b[49m\u001b[43m,\u001b[49m\n\u001b[1;32m   2275\u001b[0m \u001b[43m    \u001b[49m\u001b[38;5;241;43m*\u001b[39;49m\u001b[43minit_inputs\u001b[49m\u001b[43m,\u001b[49m\n\u001b[1;32m   2276\u001b[0m \u001b[43m    \u001b[49m\u001b[43mtoken\u001b[49m\u001b[38;5;241;43m=\u001b[39;49m\u001b[43mtoken\u001b[49m\u001b[43m,\u001b[49m\n\u001b[1;32m   2277\u001b[0m \u001b[43m    \u001b[49m\u001b[43mcache_dir\u001b[49m\u001b[38;5;241;43m=\u001b[39;49m\u001b[43mcache_dir\u001b[49m\u001b[43m,\u001b[49m\n\u001b[1;32m   2278\u001b[0m \u001b[43m    \u001b[49m\u001b[43mlocal_files_only\u001b[49m\u001b[38;5;241;43m=\u001b[39;49m\u001b[43mlocal_files_only\u001b[49m\u001b[43m,\u001b[49m\n\u001b[1;32m   2279\u001b[0m \u001b[43m    \u001b[49m\u001b[43m_commit_hash\u001b[49m\u001b[38;5;241;43m=\u001b[39;49m\u001b[43mcommit_hash\u001b[49m\u001b[43m,\u001b[49m\n\u001b[1;32m   2280\u001b[0m \u001b[43m    \u001b[49m\u001b[43m_is_local\u001b[49m\u001b[38;5;241;43m=\u001b[39;49m\u001b[43mis_local\u001b[49m\u001b[43m,\u001b[49m\n\u001b[1;32m   2281\u001b[0m \u001b[43m    \u001b[49m\u001b[43mtrust_remote_code\u001b[49m\u001b[38;5;241;43m=\u001b[39;49m\u001b[43mtrust_remote_code\u001b[49m\u001b[43m,\u001b[49m\n\u001b[1;32m   2282\u001b[0m \u001b[43m    \u001b[49m\u001b[38;5;241;43m*\u001b[39;49m\u001b[38;5;241;43m*\u001b[39;49m\u001b[43mkwargs\u001b[49m\u001b[43m,\u001b[49m\n\u001b[1;32m   2283\u001b[0m \u001b[43m\u001b[49m\u001b[43m)\u001b[49m\n",
      "File \u001b[0;32m~/miniconda3/envs/jun/lib/python3.9/site-packages/transformers/tokenization_utils_base.py:2486\u001b[0m, in \u001b[0;36mPreTrainedTokenizerBase._from_pretrained\u001b[0;34m(cls, resolved_vocab_files, pretrained_model_name_or_path, init_configuration, token, cache_dir, local_files_only, _commit_hash, _is_local, trust_remote_code, *init_inputs, **kwargs)\u001b[0m\n\u001b[1;32m   2483\u001b[0m \u001b[38;5;28;01mif\u001b[39;00m tokenizer_file \u001b[38;5;129;01mis\u001b[39;00m \u001b[38;5;129;01mnot\u001b[39;00m \u001b[38;5;28;01mNone\u001b[39;00m:\n\u001b[1;32m   2484\u001b[0m     \u001b[38;5;66;03m# This is for slow so can be done before\u001b[39;00m\n\u001b[1;32m   2485\u001b[0m     \u001b[38;5;28;01mwith\u001b[39;00m \u001b[38;5;28mopen\u001b[39m(tokenizer_file, encoding\u001b[38;5;241m=\u001b[39m\u001b[38;5;124m\"\u001b[39m\u001b[38;5;124mutf-8\u001b[39m\u001b[38;5;124m\"\u001b[39m) \u001b[38;5;28;01mas\u001b[39;00m tokenizer_file_handle:\n\u001b[0;32m-> 2486\u001b[0m         tokenizer_file_handle \u001b[38;5;241m=\u001b[39m \u001b[43mjson\u001b[49m\u001b[38;5;241;43m.\u001b[39;49m\u001b[43mload\u001b[49m\u001b[43m(\u001b[49m\u001b[43mtokenizer_file_handle\u001b[49m\u001b[43m)\u001b[49m\n\u001b[1;32m   2487\u001b[0m         added_tokens \u001b[38;5;241m=\u001b[39m tokenizer_file_handle\u001b[38;5;241m.\u001b[39mpop(\u001b[38;5;124m\"\u001b[39m\u001b[38;5;124madded_tokens\u001b[39m\u001b[38;5;124m\"\u001b[39m)\n\u001b[1;32m   2488\u001b[0m     \u001b[38;5;28;01mfor\u001b[39;00m serialized_tokens \u001b[38;5;129;01min\u001b[39;00m added_tokens:\n",
      "File \u001b[0;32m~/miniconda3/envs/jun/lib/python3.9/json/__init__.py:293\u001b[0m, in \u001b[0;36mload\u001b[0;34m(fp, cls, object_hook, parse_float, parse_int, parse_constant, object_pairs_hook, **kw)\u001b[0m\n\u001b[1;32m    274\u001b[0m \u001b[38;5;28;01mdef\u001b[39;00m \u001b[38;5;21mload\u001b[39m(fp, \u001b[38;5;241m*\u001b[39m, \u001b[38;5;28mcls\u001b[39m\u001b[38;5;241m=\u001b[39m\u001b[38;5;28;01mNone\u001b[39;00m, object_hook\u001b[38;5;241m=\u001b[39m\u001b[38;5;28;01mNone\u001b[39;00m, parse_float\u001b[38;5;241m=\u001b[39m\u001b[38;5;28;01mNone\u001b[39;00m,\n\u001b[1;32m    275\u001b[0m         parse_int\u001b[38;5;241m=\u001b[39m\u001b[38;5;28;01mNone\u001b[39;00m, parse_constant\u001b[38;5;241m=\u001b[39m\u001b[38;5;28;01mNone\u001b[39;00m, object_pairs_hook\u001b[38;5;241m=\u001b[39m\u001b[38;5;28;01mNone\u001b[39;00m, \u001b[38;5;241m*\u001b[39m\u001b[38;5;241m*\u001b[39mkw):\n\u001b[1;32m    276\u001b[0m \u001b[38;5;250m    \u001b[39m\u001b[38;5;124;03m\"\"\"Deserialize ``fp`` (a ``.read()``-supporting file-like object containing\u001b[39;00m\n\u001b[1;32m    277\u001b[0m \u001b[38;5;124;03m    a JSON document) to a Python object.\u001b[39;00m\n\u001b[1;32m    278\u001b[0m \n\u001b[0;32m   (...)\u001b[0m\n\u001b[1;32m    291\u001b[0m \u001b[38;5;124;03m    kwarg; otherwise ``JSONDecoder`` is used.\u001b[39;00m\n\u001b[1;32m    292\u001b[0m \u001b[38;5;124;03m    \"\"\"\u001b[39;00m\n\u001b[0;32m--> 293\u001b[0m     \u001b[38;5;28;01mreturn\u001b[39;00m loads(\u001b[43mfp\u001b[49m\u001b[38;5;241;43m.\u001b[39;49m\u001b[43mread\u001b[49m\u001b[43m(\u001b[49m\u001b[43m)\u001b[49m,\n\u001b[1;32m    294\u001b[0m         \u001b[38;5;28mcls\u001b[39m\u001b[38;5;241m=\u001b[39m\u001b[38;5;28mcls\u001b[39m, object_hook\u001b[38;5;241m=\u001b[39mobject_hook,\n\u001b[1;32m    295\u001b[0m         parse_float\u001b[38;5;241m=\u001b[39mparse_float, parse_int\u001b[38;5;241m=\u001b[39mparse_int,\n\u001b[1;32m    296\u001b[0m         parse_constant\u001b[38;5;241m=\u001b[39mparse_constant, object_pairs_hook\u001b[38;5;241m=\u001b[39mobject_pairs_hook, \u001b[38;5;241m*\u001b[39m\u001b[38;5;241m*\u001b[39mkw)\n",
      "File \u001b[0;32m~/miniconda3/envs/jun/lib/python3.9/codecs.py:319\u001b[0m, in \u001b[0;36mBufferedIncrementalDecoder.decode\u001b[0;34m(self, input, final)\u001b[0m\n\u001b[1;32m    314\u001b[0m \u001b[38;5;28;01mdef\u001b[39;00m \u001b[38;5;21m_buffer_decode\u001b[39m(\u001b[38;5;28mself\u001b[39m, \u001b[38;5;28minput\u001b[39m, errors, final):\n\u001b[1;32m    315\u001b[0m     \u001b[38;5;66;03m# Overwrite this method in subclasses: It must decode input\u001b[39;00m\n\u001b[1;32m    316\u001b[0m     \u001b[38;5;66;03m# and return an (output, length consumed) tuple\u001b[39;00m\n\u001b[1;32m    317\u001b[0m     \u001b[38;5;28;01mraise\u001b[39;00m \u001b[38;5;167;01mNotImplementedError\u001b[39;00m\n\u001b[0;32m--> 319\u001b[0m \u001b[38;5;28;01mdef\u001b[39;00m \u001b[38;5;21mdecode\u001b[39m(\u001b[38;5;28mself\u001b[39m, \u001b[38;5;28minput\u001b[39m, final\u001b[38;5;241m=\u001b[39m\u001b[38;5;28;01mFalse\u001b[39;00m):\n\u001b[1;32m    320\u001b[0m     \u001b[38;5;66;03m# decode input (taking the buffer into account)\u001b[39;00m\n\u001b[1;32m    321\u001b[0m     data \u001b[38;5;241m=\u001b[39m \u001b[38;5;28mself\u001b[39m\u001b[38;5;241m.\u001b[39mbuffer \u001b[38;5;241m+\u001b[39m \u001b[38;5;28minput\u001b[39m\n\u001b[1;32m    322\u001b[0m     (result, consumed) \u001b[38;5;241m=\u001b[39m \u001b[38;5;28mself\u001b[39m\u001b[38;5;241m.\u001b[39m_buffer_decode(data, \u001b[38;5;28mself\u001b[39m\u001b[38;5;241m.\u001b[39merrors, final)\n",
      "\u001b[0;31mKeyboardInterrupt\u001b[0m: "
     ]
    }
   ],
   "source": [
    "%%time\n",
    "from langchain_community.embeddings import HuggingFaceBgeEmbeddings\n",
    "\n",
    "model_name = \"BAAI/bge-m3\"\n",
    "model_kwargs = {\"device\": \"cpu\"} # cuda or cpu\n",
    "encode_kwargs = {\"normalize_embeddings\": True}\n",
    "hf_embeddings = HuggingFaceBgeEmbeddings(\n",
    "    model_name=model_name, model_kwargs=model_kwargs, encode_kwargs=encode_kwargs\n",
    ")"
   ]
  },
  {
   "cell_type": "markdown",
   "metadata": {},
   "source": [
    "- embedding에 넣을 때 어떤 객체로 들어가야하지?\n",
    "- 이거 때문에 한창 고생하긴했는데, 아직 잘 모르겠음"
   ]
  },
  {
   "cell_type": "code",
   "execution_count": 67,
   "metadata": {},
   "outputs": [],
   "source": [
    "# 임베딩 과정을 확인하고 싶은데"
   ]
  },
  {
   "cell_type": "markdown",
   "metadata": {},
   "source": [
    "# VectorDB\n",
    "Chroma Vs FAISS VS Pinecone"
   ]
  },
  {
   "cell_type": "markdown",
   "metadata": {},
   "source": [
    "### Chroma -> 요걸로 써야하나..?\n",
    "https://github.com/chroma-core/chroma/tree/main/examples : chroma git\n",
    "\n",
    "https://python.langchain.com/docs/integrations/vectorstores/chroma/ : langchain chroma\n",
    "\n",
    "https://wikidocs.net/234094 : 테디노트 chroma\n",
    "- 지속성 for 웹 어플리케이션 or 서비스 구축시\n",
    "- 지속성 및 메타데이터 필터링 기능이 내장되어 있어 챗봇 대화 내역과 컨텍스트를 관리하는 데 유용하며, 인메모리 및 SQLite 등 다양한 배포 시나리오에 편리한 스토리지 옵션의 유연성을 제공"
   ]
  },
  {
   "cell_type": "code",
   "execution_count": 78,
   "metadata": {},
   "outputs": [
    {
     "ename": "ImportError",
     "evalue": "cannot import name 'PREPARE_METHODS' from 'pydantic._internal._std_types_schema' (/home/jun99/miniconda3/envs/jun/lib/python3.9/site-packages/pydantic/_internal/_std_types_schema.py)",
     "output_type": "error",
     "traceback": [
      "\u001b[0;31m---------------------------------------------------------------------------\u001b[0m",
      "\u001b[0;31mImportError\u001b[0m                               Traceback (most recent call last)",
      "Cell \u001b[0;32mIn[78], line 1\u001b[0m\n\u001b[0;32m----> 1\u001b[0m \u001b[38;5;28;01mfrom\u001b[39;00m \u001b[38;5;21;01mlangchain_chroma\u001b[39;00m \u001b[38;5;28;01mimport\u001b[39;00m Chroma\n\u001b[1;32m      3\u001b[0m chroma_db \u001b[38;5;241m=\u001b[39m Chroma\u001b[38;5;241m.\u001b[39mfrom_documents(\n\u001b[1;32m      4\u001b[0m     documents\u001b[38;5;241m=\u001b[39msplit_docs,embedding\u001b[38;5;241m=\u001b[39mhf_embeddings,\n\u001b[1;32m      5\u001b[0m     collection_name\u001b[38;5;241m=\u001b[39m\u001b[38;5;124m\"\u001b[39m\u001b[38;5;124mchroma_db\u001b[39m\u001b[38;5;124m\"\u001b[39m,\n\u001b[1;32m      6\u001b[0m     persist_directory\u001b[38;5;241m=\u001b[39m\u001b[38;5;124m\"\u001b[39m\u001b[38;5;124m./chroma_langchain_db\u001b[39m\u001b[38;5;124m\"\u001b[39m\n\u001b[1;32m      7\u001b[0m )\n",
      "File \u001b[0;32m~/miniconda3/envs/jun/lib/python3.9/site-packages/langchain_chroma/__init__.py:6\u001b[0m\n\u001b[1;32m      1\u001b[0m \u001b[38;5;124;03m\"\"\"This is the langchain_chroma package.\u001b[39;00m\n\u001b[1;32m      2\u001b[0m \n\u001b[1;32m      3\u001b[0m \u001b[38;5;124;03mIt contains the Chroma class for handling various tasks.\u001b[39;00m\n\u001b[1;32m      4\u001b[0m \u001b[38;5;124;03m\"\"\"\u001b[39;00m\n\u001b[0;32m----> 6\u001b[0m \u001b[38;5;28;01mfrom\u001b[39;00m \u001b[38;5;21;01mlangchain_chroma\u001b[39;00m\u001b[38;5;21;01m.\u001b[39;00m\u001b[38;5;21;01mvectorstores\u001b[39;00m \u001b[38;5;28;01mimport\u001b[39;00m Chroma\n\u001b[1;32m      8\u001b[0m __all__ \u001b[38;5;241m=\u001b[39m [\n\u001b[1;32m      9\u001b[0m     \u001b[38;5;124m\"\u001b[39m\u001b[38;5;124mChroma\u001b[39m\u001b[38;5;124m\"\u001b[39m,\n\u001b[1;32m     10\u001b[0m ]\n",
      "File \u001b[0;32m~/miniconda3/envs/jun/lib/python3.9/site-packages/langchain_chroma/vectorstores.py:24\u001b[0m\n\u001b[1;32m     10\u001b[0m \u001b[38;5;28;01mimport\u001b[39;00m \u001b[38;5;21;01muuid\u001b[39;00m\n\u001b[1;32m     11\u001b[0m \u001b[38;5;28;01mfrom\u001b[39;00m \u001b[38;5;21;01mtyping\u001b[39;00m \u001b[38;5;28;01mimport\u001b[39;00m (\n\u001b[1;32m     12\u001b[0m     TYPE_CHECKING,\n\u001b[1;32m     13\u001b[0m     Any,\n\u001b[0;32m   (...)\u001b[0m\n\u001b[1;32m     21\u001b[0m     Union,\n\u001b[1;32m     22\u001b[0m )\n\u001b[0;32m---> 24\u001b[0m \u001b[38;5;28;01mimport\u001b[39;00m \u001b[38;5;21;01mchromadb\u001b[39;00m\n\u001b[1;32m     25\u001b[0m \u001b[38;5;28;01mimport\u001b[39;00m \u001b[38;5;21;01mchromadb\u001b[39;00m\u001b[38;5;21;01m.\u001b[39;00m\u001b[38;5;21;01mconfig\u001b[39;00m\n\u001b[1;32m     26\u001b[0m \u001b[38;5;28;01mimport\u001b[39;00m \u001b[38;5;21;01mnumpy\u001b[39;00m \u001b[38;5;28;01mas\u001b[39;00m \u001b[38;5;21;01mnp\u001b[39;00m\n",
      "File \u001b[0;32m~/miniconda3/envs/jun/lib/python3.9/site-packages/chromadb/__init__.py:3\u001b[0m\n\u001b[1;32m      1\u001b[0m \u001b[38;5;28;01mfrom\u001b[39;00m \u001b[38;5;21;01mtyping\u001b[39;00m \u001b[38;5;28;01mimport\u001b[39;00m Dict, Optional\n\u001b[1;32m      2\u001b[0m \u001b[38;5;28;01mimport\u001b[39;00m \u001b[38;5;21;01mlogging\u001b[39;00m\n\u001b[0;32m----> 3\u001b[0m \u001b[38;5;28;01mfrom\u001b[39;00m \u001b[38;5;21;01mchromadb\u001b[39;00m\u001b[38;5;21;01m.\u001b[39;00m\u001b[38;5;21;01mapi\u001b[39;00m\u001b[38;5;21;01m.\u001b[39;00m\u001b[38;5;21;01mclient\u001b[39;00m \u001b[38;5;28;01mimport\u001b[39;00m Client \u001b[38;5;28;01mas\u001b[39;00m ClientCreator\n\u001b[1;32m      4\u001b[0m \u001b[38;5;28;01mfrom\u001b[39;00m \u001b[38;5;21;01mchromadb\u001b[39;00m\u001b[38;5;21;01m.\u001b[39;00m\u001b[38;5;21;01mapi\u001b[39;00m\u001b[38;5;21;01m.\u001b[39;00m\u001b[38;5;21;01mclient\u001b[39;00m \u001b[38;5;28;01mimport\u001b[39;00m AdminClient \u001b[38;5;28;01mas\u001b[39;00m AdminClientCreator\n\u001b[1;32m      5\u001b[0m \u001b[38;5;28;01mfrom\u001b[39;00m \u001b[38;5;21;01mchromadb\u001b[39;00m\u001b[38;5;21;01m.\u001b[39;00m\u001b[38;5;21;01mapi\u001b[39;00m\u001b[38;5;21;01m.\u001b[39;00m\u001b[38;5;21;01masync_client\u001b[39;00m \u001b[38;5;28;01mimport\u001b[39;00m AsyncClient \u001b[38;5;28;01mas\u001b[39;00m AsyncClientCreator\n",
      "File \u001b[0;32m~/miniconda3/envs/jun/lib/python3.9/site-packages/chromadb/api/__init__.py:11\u001b[0m\n\u001b[1;32m      6\u001b[0m \u001b[38;5;28;01mfrom\u001b[39;00m \u001b[38;5;21;01mchromadb\u001b[39;00m\u001b[38;5;21;01m.\u001b[39;00m\u001b[38;5;21;01mapi\u001b[39;00m\u001b[38;5;21;01m.\u001b[39;00m\u001b[38;5;21;01mconfiguration\u001b[39;00m \u001b[38;5;28;01mimport\u001b[39;00m (\n\u001b[1;32m      7\u001b[0m     CollectionConfiguration,\n\u001b[1;32m      8\u001b[0m     CollectionConfigurationInternal,\n\u001b[1;32m      9\u001b[0m )\n\u001b[1;32m     10\u001b[0m \u001b[38;5;28;01mfrom\u001b[39;00m \u001b[38;5;21;01mchromadb\u001b[39;00m\u001b[38;5;21;01m.\u001b[39;00m\u001b[38;5;21;01mconfig\u001b[39;00m \u001b[38;5;28;01mimport\u001b[39;00m DEFAULT_DATABASE, DEFAULT_TENANT\n\u001b[0;32m---> 11\u001b[0m \u001b[38;5;28;01mfrom\u001b[39;00m \u001b[38;5;21;01mchromadb\u001b[39;00m\u001b[38;5;21;01m.\u001b[39;00m\u001b[38;5;21;01mapi\u001b[39;00m\u001b[38;5;21;01m.\u001b[39;00m\u001b[38;5;21;01mtypes\u001b[39;00m \u001b[38;5;28;01mimport\u001b[39;00m (\n\u001b[1;32m     12\u001b[0m     CollectionMetadata,\n\u001b[1;32m     13\u001b[0m     Documents,\n\u001b[1;32m     14\u001b[0m     Embeddable,\n\u001b[1;32m     15\u001b[0m     EmbeddingFunction,\n\u001b[1;32m     16\u001b[0m     DataLoader,\n\u001b[1;32m     17\u001b[0m     Embeddings,\n\u001b[1;32m     18\u001b[0m     IDs,\n\u001b[1;32m     19\u001b[0m     Include,\n\u001b[1;32m     20\u001b[0m     IncludeMetadataDocumentsEmbeddings,\n\u001b[1;32m     21\u001b[0m     IncludeMetadataDocumentsEmbeddingsDistances,\n\u001b[1;32m     22\u001b[0m     Loadable,\n\u001b[1;32m     23\u001b[0m     Metadatas,\n\u001b[1;32m     24\u001b[0m     URIs,\n\u001b[1;32m     25\u001b[0m     Where,\n\u001b[1;32m     26\u001b[0m     QueryResult,\n\u001b[1;32m     27\u001b[0m     GetResult,\n\u001b[1;32m     28\u001b[0m     WhereDocument,\n\u001b[1;32m     29\u001b[0m )\n\u001b[1;32m     30\u001b[0m \u001b[38;5;28;01mfrom\u001b[39;00m \u001b[38;5;21;01mchromadb\u001b[39;00m\u001b[38;5;21;01m.\u001b[39;00m\u001b[38;5;21;01mconfig\u001b[39;00m \u001b[38;5;28;01mimport\u001b[39;00m Component, Settings\n\u001b[1;32m     31\u001b[0m \u001b[38;5;28;01mfrom\u001b[39;00m \u001b[38;5;21;01mchromadb\u001b[39;00m\u001b[38;5;21;01m.\u001b[39;00m\u001b[38;5;21;01mtypes\u001b[39;00m \u001b[38;5;28;01mimport\u001b[39;00m Database, Tenant, Collection \u001b[38;5;28;01mas\u001b[39;00m CollectionModel\n",
      "File \u001b[0;32m~/miniconda3/envs/jun/lib/python3.9/site-packages/chromadb/api/types.py:8\u001b[0m\n\u001b[1;32m      6\u001b[0m \u001b[38;5;28;01mfrom\u001b[39;00m \u001b[38;5;21;01mpydantic\u001b[39;00m \u001b[38;5;28;01mimport\u001b[39;00m Field\n\u001b[1;32m      7\u001b[0m \u001b[38;5;28;01mimport\u001b[39;00m \u001b[38;5;21;01mchromadb\u001b[39;00m\u001b[38;5;21;01m.\u001b[39;00m\u001b[38;5;21;01merrors\u001b[39;00m \u001b[38;5;28;01mas\u001b[39;00m \u001b[38;5;21;01merrors\u001b[39;00m\n\u001b[0;32m----> 8\u001b[0m \u001b[38;5;28;01mfrom\u001b[39;00m \u001b[38;5;21;01mchromadb\u001b[39;00m\u001b[38;5;21;01m.\u001b[39;00m\u001b[38;5;21;01mtypes\u001b[39;00m \u001b[38;5;28;01mimport\u001b[39;00m (\n\u001b[1;32m      9\u001b[0m     Metadata,\n\u001b[1;32m     10\u001b[0m     UpdateMetadata,\n\u001b[1;32m     11\u001b[0m     Vector,\n\u001b[1;32m     12\u001b[0m     LiteralValue,\n\u001b[1;32m     13\u001b[0m     LogicalOperator,\n\u001b[1;32m     14\u001b[0m     WhereOperator,\n\u001b[1;32m     15\u001b[0m     OperatorExpression,\n\u001b[1;32m     16\u001b[0m     Where,\n\u001b[1;32m     17\u001b[0m     WhereDocumentOperator,\n\u001b[1;32m     18\u001b[0m     WhereDocument,\n\u001b[1;32m     19\u001b[0m )\n\u001b[1;32m     20\u001b[0m \u001b[38;5;28;01mfrom\u001b[39;00m \u001b[38;5;21;01minspect\u001b[39;00m \u001b[38;5;28;01mimport\u001b[39;00m signature\n\u001b[1;32m     21\u001b[0m \u001b[38;5;28;01mfrom\u001b[39;00m \u001b[38;5;21;01mtenacity\u001b[39;00m \u001b[38;5;28;01mimport\u001b[39;00m retry\n",
      "File \u001b[0;32m~/miniconda3/envs/jun/lib/python3.9/site-packages/chromadb/types.py:53\u001b[0m\n\u001b[1;32m     48\u001b[0m     \u001b[38;5;129m@abstractmethod\u001b[39m\n\u001b[1;32m     49\u001b[0m     \u001b[38;5;28;01mdef\u001b[39;00m \u001b[38;5;21mset_configuration\u001b[39m(\u001b[38;5;28mself\u001b[39m, configuration: C) \u001b[38;5;241m-\u001b[39m\u001b[38;5;241m>\u001b[39m \u001b[38;5;28;01mNone\u001b[39;00m:\n\u001b[1;32m     50\u001b[0m         \u001b[38;5;28;01mraise\u001b[39;00m \u001b[38;5;167;01mNotImplementedError\u001b[39;00m()\n\u001b[0;32m---> 53\u001b[0m \u001b[38;5;28;01mclass\u001b[39;00m \u001b[38;5;21;01mCollection\u001b[39;00m(\n\u001b[1;32m     54\u001b[0m     BaseModel,\n\u001b[1;32m     55\u001b[0m     Configurable[CollectionConfigurationInternal],\n\u001b[1;32m     56\u001b[0m     BaseModelJSONSerializable[\u001b[38;5;124m\"\u001b[39m\u001b[38;5;124mCollection\u001b[39m\u001b[38;5;124m\"\u001b[39m],\n\u001b[1;32m     57\u001b[0m ):\n\u001b[1;32m     58\u001b[0m \u001b[38;5;250m    \u001b[39m\u001b[38;5;124;03m\"\"\"A model of a collection used for transport, serialization, and storage\"\"\"\u001b[39;00m\n\u001b[1;32m     60\u001b[0m     \u001b[38;5;28mid\u001b[39m: UUID\n",
      "File \u001b[0;32m~/miniconda3/envs/jun/lib/python3.9/site-packages/pydantic/_internal/_model_construction.py:205\u001b[0m, in \u001b[0;36m__new__\u001b[0;34m(mcs, cls_name, bases, namespace, __pydantic_generic_metadata__, __pydantic_reset_parent_namespace__, _create_model_module, **kwargs)\u001b[0m\n\u001b[1;32m    197\u001b[0m         \u001b[38;5;28;01mraise\u001b[39;00m \u001b[38;5;167;01mTypeError\u001b[39;00m(error_message)\n\u001b[1;32m    199\u001b[0m     \u001b[38;5;28mcls\u001b[39m\u001b[38;5;241m.\u001b[39m__pydantic_generic_metadata__ \u001b[38;5;241m=\u001b[39m {\n\u001b[1;32m    200\u001b[0m         \u001b[38;5;124m'\u001b[39m\u001b[38;5;124morigin\u001b[39m\u001b[38;5;124m'\u001b[39m: \u001b[38;5;28;01mNone\u001b[39;00m,\n\u001b[1;32m    201\u001b[0m         \u001b[38;5;124m'\u001b[39m\u001b[38;5;124margs\u001b[39m\u001b[38;5;124m'\u001b[39m: (),\n\u001b[1;32m    202\u001b[0m         \u001b[38;5;124m'\u001b[39m\u001b[38;5;124mparameters\u001b[39m\u001b[38;5;124m'\u001b[39m: parameters,\n\u001b[1;32m    203\u001b[0m     }\n\u001b[0;32m--> 205\u001b[0m \u001b[38;5;28mcls\u001b[39m\u001b[38;5;241m.\u001b[39m__pydantic_complete__ \u001b[38;5;241m=\u001b[39m \u001b[38;5;28;01mFalse\u001b[39;00m  \u001b[38;5;66;03m# Ensure this specific class gets completed\u001b[39;00m\n\u001b[1;32m    207\u001b[0m \u001b[38;5;66;03m# preserve `__set_name__` protocol defined in https://peps.python.org/pep-0487\u001b[39;00m\n\u001b[1;32m    208\u001b[0m \u001b[38;5;66;03m# for attributes not in `new_namespace` (e.g. private attributes)\u001b[39;00m\n\u001b[1;32m    209\u001b[0m \u001b[38;5;28;01mfor\u001b[39;00m name, obj \u001b[38;5;129;01min\u001b[39;00m private_attributes\u001b[38;5;241m.\u001b[39mitems():\n",
      "File \u001b[0;32m~/miniconda3/envs/jun/lib/python3.9/site-packages/pydantic/_internal/_model_construction.py:534\u001b[0m, in \u001b[0;36mcomplete_model_class\u001b[0;34m(cls, cls_name, config_wrapper, raise_errors, types_namespace, create_model_module)\u001b[0m\n\u001b[1;32m    526\u001b[0m         if value is not None and value.default is not PydanticUndefined:\n\u001b[1;32m    527\u001b[0m             setattr(cls, k, value.default)\n\u001b[1;32m    530\u001b[0m def complete_model_class(\n\u001b[1;32m    531\u001b[0m     cls: type[BaseModel],\n\u001b[1;32m    532\u001b[0m     cls_name: str,\n\u001b[1;32m    533\u001b[0m     config_wrapper: ConfigWrapper,\n\u001b[0;32m--> 534\u001b[0m     *,\n\u001b[1;32m    535\u001b[0m     raise_errors: bool = True,\n\u001b[1;32m    536\u001b[0m     types_namespace: dict[str, Any] | None,\n\u001b[1;32m    537\u001b[0m     create_model_module: str | None = None,\n\u001b[1;32m    538\u001b[0m ) -> bool:\n\u001b[1;32m    539\u001b[0m     \"\"\"Finish building a model class.\n\u001b[1;32m    540\u001b[0m \n\u001b[1;32m    541\u001b[0m     This logic must be called after class has been created since validation functions must be bound\n\u001b[0;32m   (...)\u001b[0m\n\u001b[1;32m    557\u001b[0m             and `raise_errors=True`.\n\u001b[1;32m    558\u001b[0m     \"\"\"\n\u001b[1;32m    559\u001b[0m     typevars_map = get_model_typevars_map(cls)\n",
      "File \u001b[0;32m~/miniconda3/envs/jun/lib/python3.9/site-packages/pydantic/main.py:643\u001b[0m, in \u001b[0;36m__get_pydantic_core_schema__\u001b[0;34m(cls, source, handler)\u001b[0m\n\u001b[1;32m    627\u001b[0m \u001b[38;5;129m@classmethod\u001b[39m\n\u001b[1;32m    628\u001b[0m \u001b[38;5;28;01mdef\u001b[39;00m \u001b[38;5;21mmodel_validate_strings\u001b[39m(\n\u001b[1;32m    629\u001b[0m     \u001b[38;5;28mcls\u001b[39m,\n\u001b[0;32m   (...)\u001b[0m\n\u001b[1;32m    633\u001b[0m     context: Any \u001b[38;5;241m|\u001b[39m \u001b[38;5;28;01mNone\u001b[39;00m \u001b[38;5;241m=\u001b[39m \u001b[38;5;28;01mNone\u001b[39;00m,\n\u001b[1;32m    634\u001b[0m ) \u001b[38;5;241m-\u001b[39m\u001b[38;5;241m>\u001b[39m Self:\n\u001b[1;32m    635\u001b[0m \u001b[38;5;250m    \u001b[39m\u001b[38;5;124;03m\"\"\"Validate the given object with string data against the Pydantic model.\u001b[39;00m\n\u001b[1;32m    636\u001b[0m \n\u001b[1;32m    637\u001b[0m \u001b[38;5;124;03m    Args:\u001b[39;00m\n\u001b[1;32m    638\u001b[0m \u001b[38;5;124;03m        obj: The object containing string data to validate.\u001b[39;00m\n\u001b[1;32m    639\u001b[0m \u001b[38;5;124;03m        strict: Whether to enforce types strictly.\u001b[39;00m\n\u001b[1;32m    640\u001b[0m \u001b[38;5;124;03m        context: Extra variables to pass to the validator.\u001b[39;00m\n\u001b[1;32m    641\u001b[0m \n\u001b[1;32m    642\u001b[0m \u001b[38;5;124;03m    Returns:\u001b[39;00m\n\u001b[0;32m--> 643\u001b[0m \u001b[38;5;124;03m        The validated Pydantic model.\u001b[39;00m\n\u001b[1;32m    644\u001b[0m \u001b[38;5;124;03m    \"\"\"\u001b[39;00m\n\u001b[1;32m    645\u001b[0m     \u001b[38;5;66;03m# `__tracebackhide__` tells pytest and some other tools to omit this function from tracebacks\u001b[39;00m\n\u001b[1;32m    646\u001b[0m     __tracebackhide__ \u001b[38;5;241m=\u001b[39m \u001b[38;5;28;01mTrue\u001b[39;00m\n",
      "File \u001b[0;32m~/miniconda3/envs/jun/lib/python3.9/site-packages/pydantic/_internal/_schema_generation_shared.py:83\u001b[0m, in \u001b[0;36mCallbackGetCoreSchemaHandler.__call__\u001b[0;34m(self, source_type)\u001b[0m\n\u001b[1;32m     82\u001b[0m \u001b[38;5;28;01mdef\u001b[39;00m \u001b[38;5;21m__call__\u001b[39m(\u001b[38;5;28mself\u001b[39m, source_type: Any, \u001b[38;5;241m/\u001b[39m) \u001b[38;5;241m-\u001b[39m\u001b[38;5;241m>\u001b[39m core_schema\u001b[38;5;241m.\u001b[39mCoreSchema:\n\u001b[0;32m---> 83\u001b[0m     schema \u001b[38;5;241m=\u001b[39m \u001b[38;5;28;43mself\u001b[39;49m\u001b[38;5;241;43m.\u001b[39;49m\u001b[43m_handler\u001b[49m\u001b[43m(\u001b[49m\u001b[43msource_type\u001b[49m\u001b[43m)\u001b[49m\n\u001b[1;32m     84\u001b[0m     ref \u001b[38;5;241m=\u001b[39m schema\u001b[38;5;241m.\u001b[39mget(\u001b[38;5;124m'\u001b[39m\u001b[38;5;124mref\u001b[39m\u001b[38;5;124m'\u001b[39m)\n\u001b[1;32m     85\u001b[0m     \u001b[38;5;28;01mif\u001b[39;00m \u001b[38;5;28mself\u001b[39m\u001b[38;5;241m.\u001b[39m_ref_mode \u001b[38;5;241m==\u001b[39m \u001b[38;5;124m'\u001b[39m\u001b[38;5;124mto-def\u001b[39m\u001b[38;5;124m'\u001b[39m:\n",
      "File \u001b[0;32m~/miniconda3/envs/jun/lib/python3.9/site-packages/pydantic/_internal/_generate_schema.py:512\u001b[0m, in \u001b[0;36mgenerate_schema\u001b[0;34m(self, obj, from_dunder_get_core_schema)\u001b[0m\n\u001b[1;32m    501\u001b[0m     \u001b[38;5;28;01mreturn\u001b[39;00m json_schema\n\u001b[1;32m    503\u001b[0m \u001b[38;5;66;03m# Use an isinstance check for enums with no cases.\u001b[39;00m\n\u001b[1;32m    504\u001b[0m \u001b[38;5;66;03m# The most important use case for this is creating TypeVar bounds for generics that should\u001b[39;00m\n\u001b[1;32m    505\u001b[0m \u001b[38;5;66;03m# be restricted to enums. This is more consistent than it might seem at first, since you can only\u001b[39;00m\n\u001b[1;32m    506\u001b[0m \u001b[38;5;66;03m# subclass enum.Enum (or subclasses of enum.Enum) if all parent classes have no cases.\u001b[39;00m\n\u001b[1;32m    507\u001b[0m \u001b[38;5;66;03m# We use the get_json_schema function when an Enum subclass has been declared with no cases\u001b[39;00m\n\u001b[1;32m    508\u001b[0m \u001b[38;5;66;03m# so that we can still generate a valid json schema.\u001b[39;00m\n\u001b[1;32m    509\u001b[0m \u001b[38;5;28;01mreturn\u001b[39;00m core_schema\u001b[38;5;241m.\u001b[39mis_instance_schema(\n\u001b[1;32m    510\u001b[0m     enum_type,\n\u001b[1;32m    511\u001b[0m     metadata\u001b[38;5;241m=\u001b[39m{\u001b[38;5;124m'\u001b[39m\u001b[38;5;124mpydantic_js_functions\u001b[39m\u001b[38;5;124m'\u001b[39m: [get_json_schema_no_cases]},\n\u001b[0;32m--> 512\u001b[0m )\n",
      "File \u001b[0;32m~/miniconda3/envs/jun/lib/python3.9/site-packages/pydantic/_internal/_generate_schema.py:784\u001b[0m, in \u001b[0;36m_generate_schema_inner\u001b[0;34m(self, obj)\u001b[0m\n\u001b[1;32m    782\u001b[0m     title \u001b[38;5;241m=\u001b[39m model_title_generator(model)\n\u001b[1;32m    783\u001b[0m     \u001b[38;5;28;01mif\u001b[39;00m \u001b[38;5;129;01mnot\u001b[39;00m \u001b[38;5;28misinstance\u001b[39m(title, \u001b[38;5;28mstr\u001b[39m):\n\u001b[0;32m--> 784\u001b[0m         \u001b[38;5;28;01mraise\u001b[39;00m \u001b[38;5;167;01mTypeError\u001b[39;00m(\u001b[38;5;124mf\u001b[39m\u001b[38;5;124m'\u001b[39m\u001b[38;5;124mmodel_title_generator \u001b[39m\u001b[38;5;132;01m{\u001b[39;00mmodel_title_generator\u001b[38;5;132;01m}\u001b[39;00m\u001b[38;5;124m must return str, not \u001b[39m\u001b[38;5;132;01m{\u001b[39;00mtitle\u001b[38;5;241m.\u001b[39m\u001b[38;5;18m__class__\u001b[39m\u001b[38;5;132;01m}\u001b[39;00m\u001b[38;5;124m'\u001b[39m)\n\u001b[1;32m    785\u001b[0m     \u001b[38;5;28;01mreturn\u001b[39;00m title\n\u001b[1;32m    787\u001b[0m \u001b[38;5;28;01mreturn\u001b[39;00m \u001b[38;5;28;01mNone\u001b[39;00m\n",
      "File \u001b[0;32m~/miniconda3/envs/jun/lib/python3.9/site-packages/pydantic/_internal/_generate_schema.py:591\u001b[0m, in \u001b[0;36m_model_schema\u001b[0;34m(self, cls)\u001b[0m\n\u001b[1;32m    589\u001b[0m \u001b[38;5;28;01mdef\u001b[39;00m \u001b[38;5;21mclean_schema\u001b[39m(\u001b[38;5;28mself\u001b[39m, schema: CoreSchema) \u001b[38;5;241m-\u001b[39m\u001b[38;5;241m>\u001b[39m CoreSchema:\n\u001b[1;32m    590\u001b[0m     schema \u001b[38;5;241m=\u001b[39m \u001b[38;5;28mself\u001b[39m\u001b[38;5;241m.\u001b[39mcollect_definitions(schema)\n\u001b[0;32m--> 591\u001b[0m     schema \u001b[38;5;241m=\u001b[39m simplify_schema_references(schema)\n\u001b[1;32m    592\u001b[0m     \u001b[38;5;28;01mif\u001b[39;00m collect_invalid_schemas(schema):\n\u001b[1;32m    593\u001b[0m         \u001b[38;5;28;01mraise\u001b[39;00m \u001b[38;5;28mself\u001b[39m\u001b[38;5;241m.\u001b[39mCollectedInvalid()\n",
      "File \u001b[0;32m~/miniconda3/envs/jun/lib/python3.9/site-packages/pydantic/_internal/_generate_schema.py:591\u001b[0m, in \u001b[0;36m<dictcomp>\u001b[0;34m(.0)\u001b[0m\n\u001b[1;32m    589\u001b[0m \u001b[38;5;28;01mdef\u001b[39;00m \u001b[38;5;21mclean_schema\u001b[39m(\u001b[38;5;28mself\u001b[39m, schema: CoreSchema) \u001b[38;5;241m-\u001b[39m\u001b[38;5;241m>\u001b[39m CoreSchema:\n\u001b[1;32m    590\u001b[0m     schema \u001b[38;5;241m=\u001b[39m \u001b[38;5;28mself\u001b[39m\u001b[38;5;241m.\u001b[39mcollect_definitions(schema)\n\u001b[0;32m--> 591\u001b[0m     schema \u001b[38;5;241m=\u001b[39m simplify_schema_references(schema)\n\u001b[1;32m    592\u001b[0m     \u001b[38;5;28;01mif\u001b[39;00m collect_invalid_schemas(schema):\n\u001b[1;32m    593\u001b[0m         \u001b[38;5;28;01mraise\u001b[39;00m \u001b[38;5;28mself\u001b[39m\u001b[38;5;241m.\u001b[39mCollectedInvalid()\n",
      "File \u001b[0;32m~/miniconda3/envs/jun/lib/python3.9/site-packages/pydantic/_internal/_generate_schema.py:947\u001b[0m, in \u001b[0;36m_generate_md_field_schema\u001b[0;34m(self, name, field_info, decorators)\u001b[0m\n\u001b[1;32m    945\u001b[0m     \u001b[38;5;28;01mreturn\u001b[39;00m \u001b[38;5;28mself\u001b[39m\u001b[38;5;241m.\u001b[39mstr_schema()\n\u001b[1;32m    946\u001b[0m \u001b[38;5;28;01melif\u001b[39;00m obj \u001b[38;5;129;01mis\u001b[39;00m \u001b[38;5;28mbytes\u001b[39m:\n\u001b[0;32m--> 947\u001b[0m     \u001b[38;5;28;01mreturn\u001b[39;00m core_schema\u001b[38;5;241m.\u001b[39mbytes_schema()\n\u001b[1;32m    948\u001b[0m \u001b[38;5;28;01melif\u001b[39;00m obj \u001b[38;5;129;01mis\u001b[39;00m \u001b[38;5;28mint\u001b[39m:\n\u001b[1;32m    949\u001b[0m     \u001b[38;5;28;01mreturn\u001b[39;00m core_schema\u001b[38;5;241m.\u001b[39mint_schema()\n",
      "File \u001b[0;32m~/miniconda3/envs/jun/lib/python3.9/site-packages/pydantic/_internal/_generate_schema.py:1134\u001b[0m, in \u001b[0;36m_common_field_schema\u001b[0;34m(self, name, field_info, decorators)\u001b[0m\n\u001b[1;32m   1131\u001b[0m \u001b[38;5;250m\u001b[39m\u001b[38;5;124;03m\"\"\"Prepare a DataclassField to represent the parameter/field, of a dataclass.\"\"\"\u001b[39;00m\n\u001b[1;32m   1132\u001b[0m common_field \u001b[38;5;241m=\u001b[39m \u001b[38;5;28mself\u001b[39m\u001b[38;5;241m.\u001b[39m_common_field_schema(name, field_info, decorators)\n\u001b[1;32m   1133\u001b[0m \u001b[38;5;28;01mreturn\u001b[39;00m core_schema\u001b[38;5;241m.\u001b[39mdataclass_field(\n\u001b[0;32m-> 1134\u001b[0m     name,\n\u001b[1;32m   1135\u001b[0m     common_field[\u001b[38;5;124m'\u001b[39m\u001b[38;5;124mschema\u001b[39m\u001b[38;5;124m'\u001b[39m],\n\u001b[1;32m   1136\u001b[0m     init\u001b[38;5;241m=\u001b[39mfield_info\u001b[38;5;241m.\u001b[39minit,\n\u001b[1;32m   1137\u001b[0m     init_only\u001b[38;5;241m=\u001b[39mfield_info\u001b[38;5;241m.\u001b[39minit_var \u001b[38;5;129;01mor\u001b[39;00m \u001b[38;5;28;01mNone\u001b[39;00m,\n\u001b[1;32m   1138\u001b[0m     kw_only\u001b[38;5;241m=\u001b[39m\u001b[38;5;28;01mNone\u001b[39;00m \u001b[38;5;28;01mif\u001b[39;00m field_info\u001b[38;5;241m.\u001b[39mkw_only \u001b[38;5;28;01melse\u001b[39;00m \u001b[38;5;28;01mFalse\u001b[39;00m,\n\u001b[1;32m   1139\u001b[0m     serialization_exclude\u001b[38;5;241m=\u001b[39mcommon_field[\u001b[38;5;124m'\u001b[39m\u001b[38;5;124mserialization_exclude\u001b[39m\u001b[38;5;124m'\u001b[39m],\n\u001b[1;32m   1140\u001b[0m     validation_alias\u001b[38;5;241m=\u001b[39mcommon_field[\u001b[38;5;124m'\u001b[39m\u001b[38;5;124mvalidation_alias\u001b[39m\u001b[38;5;124m'\u001b[39m],\n\u001b[1;32m   1141\u001b[0m     serialization_alias\u001b[38;5;241m=\u001b[39mcommon_field[\u001b[38;5;124m'\u001b[39m\u001b[38;5;124mserialization_alias\u001b[39m\u001b[38;5;124m'\u001b[39m],\n\u001b[1;32m   1142\u001b[0m     frozen\u001b[38;5;241m=\u001b[39mcommon_field[\u001b[38;5;124m'\u001b[39m\u001b[38;5;124mfrozen\u001b[39m\u001b[38;5;124m'\u001b[39m],\n\u001b[1;32m   1143\u001b[0m     metadata\u001b[38;5;241m=\u001b[39mcommon_field[\u001b[38;5;124m'\u001b[39m\u001b[38;5;124mmetadata\u001b[39m\u001b[38;5;124m'\u001b[39m],\n\u001b[1;32m   1144\u001b[0m )\n",
      "File \u001b[0;32m~/miniconda3/envs/jun/lib/python3.9/site-packages/pydantic/_internal/_generate_schema.py:1862\u001b[0m, in \u001b[0;36m_apply_annotations\u001b[0;34m(self, source_type, annotations, transform_inner_schema)\u001b[0m\n\u001b[1;32m   1845\u001b[0m metadata \u001b[38;5;241m=\u001b[39m build_metadata_dict(\n\u001b[1;32m   1846\u001b[0m     js_functions\u001b[38;5;241m=\u001b[39m[partial(modify_model_json_schema, \u001b[38;5;28mcls\u001b[39m\u001b[38;5;241m=\u001b[39mdataclass, title\u001b[38;5;241m=\u001b[39mtitle)]\n\u001b[1;32m   1847\u001b[0m )\n\u001b[1;32m   1849\u001b[0m dc_schema \u001b[38;5;241m=\u001b[39m core_schema\u001b[38;5;241m.\u001b[39mdataclass_schema(\n\u001b[1;32m   1850\u001b[0m     dataclass,\n\u001b[1;32m   1851\u001b[0m     inner_schema,\n\u001b[0;32m   (...)\u001b[0m\n\u001b[1;32m   1860\u001b[0m     frozen\u001b[38;5;241m=\u001b[39m\u001b[38;5;28mself\u001b[39m\u001b[38;5;241m.\u001b[39m_config_wrapper_stack\u001b[38;5;241m.\u001b[39mtail\u001b[38;5;241m.\u001b[39mfrozen,\n\u001b[1;32m   1861\u001b[0m )\n\u001b[0;32m-> 1862\u001b[0m schema \u001b[38;5;241m=\u001b[39m \u001b[38;5;28mself\u001b[39m\u001b[38;5;241m.\u001b[39m_apply_model_serializers(dc_schema, decorators\u001b[38;5;241m.\u001b[39mmodel_serializers\u001b[38;5;241m.\u001b[39mvalues())\n\u001b[1;32m   1863\u001b[0m schema \u001b[38;5;241m=\u001b[39m apply_model_validators(schema, model_validators, \u001b[38;5;124m'\u001b[39m\u001b[38;5;124mouter\u001b[39m\u001b[38;5;124m'\u001b[39m)\n\u001b[1;32m   1864\u001b[0m \u001b[38;5;28mself\u001b[39m\u001b[38;5;241m.\u001b[39mdefs\u001b[38;5;241m.\u001b[39mdefinitions[dataclass_ref] \u001b[38;5;241m=\u001b[39m schema\n",
      "File \u001b[0;32m~/miniconda3/envs/jun/lib/python3.9/site-packages/pydantic/_internal/_generate_schema.py:1833\u001b[0m, in \u001b[0;36m_get_prepare_pydantic_annotations_for_known_type\u001b[0;34m(self, obj, annotations)\u001b[0m\n\u001b[1;32m   1826\u001b[0m has_post_init \u001b[38;5;241m=\u001b[39m \u001b[38;5;28mhasattr\u001b[39m(dataclass, \u001b[38;5;124m'\u001b[39m\u001b[38;5;124m__post_init__\u001b[39m\u001b[38;5;124m'\u001b[39m)\n\u001b[1;32m   1827\u001b[0m has_slots \u001b[38;5;241m=\u001b[39m \u001b[38;5;28mhasattr\u001b[39m(dataclass, \u001b[38;5;124m'\u001b[39m\u001b[38;5;124m__slots__\u001b[39m\u001b[38;5;124m'\u001b[39m)\n\u001b[1;32m   1829\u001b[0m args_schema \u001b[38;5;241m=\u001b[39m core_schema\u001b[38;5;241m.\u001b[39mdataclass_args_schema(\n\u001b[1;32m   1830\u001b[0m     dataclass\u001b[38;5;241m.\u001b[39m\u001b[38;5;18m__name__\u001b[39m,\n\u001b[1;32m   1831\u001b[0m     args,\n\u001b[1;32m   1832\u001b[0m     computed_fields\u001b[38;5;241m=\u001b[39m[\n\u001b[0;32m-> 1833\u001b[0m         \u001b[38;5;28mself\u001b[39m\u001b[38;5;241m.\u001b[39m_computed_field_schema(d, decorators\u001b[38;5;241m.\u001b[39mfield_serializers)\n\u001b[1;32m   1834\u001b[0m         \u001b[38;5;28;01mfor\u001b[39;00m d \u001b[38;5;129;01min\u001b[39;00m decorators\u001b[38;5;241m.\u001b[39mcomputed_fields\u001b[38;5;241m.\u001b[39mvalues()\n\u001b[1;32m   1835\u001b[0m     ],\n\u001b[1;32m   1836\u001b[0m     collect_init_only\u001b[38;5;241m=\u001b[39mhas_post_init,\n\u001b[1;32m   1837\u001b[0m )\n\u001b[1;32m   1839\u001b[0m inner_schema \u001b[38;5;241m=\u001b[39m apply_validators(args_schema, decorators\u001b[38;5;241m.\u001b[39mroot_validators\u001b[38;5;241m.\u001b[39mvalues(), \u001b[38;5;28;01mNone\u001b[39;00m)\n\u001b[1;32m   1841\u001b[0m model_validators \u001b[38;5;241m=\u001b[39m decorators\u001b[38;5;241m.\u001b[39mmodel_validators\u001b[38;5;241m.\u001b[39mvalues()\n",
      "\u001b[0;31mImportError\u001b[0m: cannot import name 'PREPARE_METHODS' from 'pydantic._internal._std_types_schema' (/home/jun99/miniconda3/envs/jun/lib/python3.9/site-packages/pydantic/_internal/_std_types_schema.py)"
     ]
    }
   ],
   "source": [
    "from langchain_chroma import Chroma\n",
    "\n",
    "chroma_db = Chroma.from_documents(\n",
    "    documents=split_docs,embedding=hf_embeddings,\n",
    "    collection_name=\"chroma_db\",\n",
    "    persist_directory=\"./chroma_langchain_db\"\n",
    ")"
   ]
  },
  {
   "cell_type": "code",
   "execution_count": 77,
   "metadata": {},
   "outputs": [
    {
     "ename": "ImportError",
     "evalue": "cannot import name 'PREPARE_METHODS' from 'pydantic._internal._std_types_schema' (/home/jun99/miniconda3/envs/jun/lib/python3.9/site-packages/pydantic/_internal/_std_types_schema.py)",
     "output_type": "error",
     "traceback": [
      "\u001b[0;31m---------------------------------------------------------------------------\u001b[0m",
      "\u001b[0;31mImportError\u001b[0m                               Traceback (most recent call last)",
      "Cell \u001b[0;32mIn[77], line 1\u001b[0m\n\u001b[0;32m----> 1\u001b[0m \u001b[38;5;28;01mfrom\u001b[39;00m \u001b[38;5;21;01mlangchain_chroma\u001b[39;00m \u001b[38;5;28;01mimport\u001b[39;00m Chroma\n\u001b[1;32m      3\u001b[0m vector_store \u001b[38;5;241m=\u001b[39m Chroma(\n\u001b[1;32m      4\u001b[0m     collection_name\u001b[38;5;241m=\u001b[39m\u001b[38;5;124m\"\u001b[39m\u001b[38;5;124mexample_collection\u001b[39m\u001b[38;5;124m\"\u001b[39m,\n\u001b[1;32m      5\u001b[0m     embedding_function\u001b[38;5;241m=\u001b[39mhf_embeddings,\n\u001b[1;32m      6\u001b[0m     persist_directory\u001b[38;5;241m=\u001b[39m\u001b[38;5;124m\"\u001b[39m\u001b[38;5;124m./chroma_langchain_db\u001b[39m\u001b[38;5;124m\"\u001b[39m,  \u001b[38;5;66;03m# Where to save data locally, remove if not necessary\u001b[39;00m\n\u001b[1;32m      7\u001b[0m )\n",
      "File \u001b[0;32m~/miniconda3/envs/jun/lib/python3.9/site-packages/langchain_chroma/__init__.py:6\u001b[0m\n\u001b[1;32m      1\u001b[0m \u001b[38;5;124;03m\"\"\"This is the langchain_chroma package.\u001b[39;00m\n\u001b[1;32m      2\u001b[0m \n\u001b[1;32m      3\u001b[0m \u001b[38;5;124;03mIt contains the Chroma class for handling various tasks.\u001b[39;00m\n\u001b[1;32m      4\u001b[0m \u001b[38;5;124;03m\"\"\"\u001b[39;00m\n\u001b[0;32m----> 6\u001b[0m \u001b[38;5;28;01mfrom\u001b[39;00m \u001b[38;5;21;01mlangchain_chroma\u001b[39;00m\u001b[38;5;21;01m.\u001b[39;00m\u001b[38;5;21;01mvectorstores\u001b[39;00m \u001b[38;5;28;01mimport\u001b[39;00m Chroma\n\u001b[1;32m      8\u001b[0m __all__ \u001b[38;5;241m=\u001b[39m [\n\u001b[1;32m      9\u001b[0m     \u001b[38;5;124m\"\u001b[39m\u001b[38;5;124mChroma\u001b[39m\u001b[38;5;124m\"\u001b[39m,\n\u001b[1;32m     10\u001b[0m ]\n",
      "File \u001b[0;32m~/miniconda3/envs/jun/lib/python3.9/site-packages/langchain_chroma/vectorstores.py:24\u001b[0m\n\u001b[1;32m     10\u001b[0m \u001b[38;5;28;01mimport\u001b[39;00m \u001b[38;5;21;01muuid\u001b[39;00m\n\u001b[1;32m     11\u001b[0m \u001b[38;5;28;01mfrom\u001b[39;00m \u001b[38;5;21;01mtyping\u001b[39;00m \u001b[38;5;28;01mimport\u001b[39;00m (\n\u001b[1;32m     12\u001b[0m     TYPE_CHECKING,\n\u001b[1;32m     13\u001b[0m     Any,\n\u001b[0;32m   (...)\u001b[0m\n\u001b[1;32m     21\u001b[0m     Union,\n\u001b[1;32m     22\u001b[0m )\n\u001b[0;32m---> 24\u001b[0m \u001b[38;5;28;01mimport\u001b[39;00m \u001b[38;5;21;01mchromadb\u001b[39;00m\n\u001b[1;32m     25\u001b[0m \u001b[38;5;28;01mimport\u001b[39;00m \u001b[38;5;21;01mchromadb\u001b[39;00m\u001b[38;5;21;01m.\u001b[39;00m\u001b[38;5;21;01mconfig\u001b[39;00m\n\u001b[1;32m     26\u001b[0m \u001b[38;5;28;01mimport\u001b[39;00m \u001b[38;5;21;01mnumpy\u001b[39;00m \u001b[38;5;28;01mas\u001b[39;00m \u001b[38;5;21;01mnp\u001b[39;00m\n",
      "File \u001b[0;32m~/miniconda3/envs/jun/lib/python3.9/site-packages/chromadb/__init__.py:3\u001b[0m\n\u001b[1;32m      1\u001b[0m \u001b[38;5;28;01mfrom\u001b[39;00m \u001b[38;5;21;01mtyping\u001b[39;00m \u001b[38;5;28;01mimport\u001b[39;00m Dict, Optional\n\u001b[1;32m      2\u001b[0m \u001b[38;5;28;01mimport\u001b[39;00m \u001b[38;5;21;01mlogging\u001b[39;00m\n\u001b[0;32m----> 3\u001b[0m \u001b[38;5;28;01mfrom\u001b[39;00m \u001b[38;5;21;01mchromadb\u001b[39;00m\u001b[38;5;21;01m.\u001b[39;00m\u001b[38;5;21;01mapi\u001b[39;00m\u001b[38;5;21;01m.\u001b[39;00m\u001b[38;5;21;01mclient\u001b[39;00m \u001b[38;5;28;01mimport\u001b[39;00m Client \u001b[38;5;28;01mas\u001b[39;00m ClientCreator\n\u001b[1;32m      4\u001b[0m \u001b[38;5;28;01mfrom\u001b[39;00m \u001b[38;5;21;01mchromadb\u001b[39;00m\u001b[38;5;21;01m.\u001b[39;00m\u001b[38;5;21;01mapi\u001b[39;00m\u001b[38;5;21;01m.\u001b[39;00m\u001b[38;5;21;01mclient\u001b[39;00m \u001b[38;5;28;01mimport\u001b[39;00m AdminClient \u001b[38;5;28;01mas\u001b[39;00m AdminClientCreator\n\u001b[1;32m      5\u001b[0m \u001b[38;5;28;01mfrom\u001b[39;00m \u001b[38;5;21;01mchromadb\u001b[39;00m\u001b[38;5;21;01m.\u001b[39;00m\u001b[38;5;21;01mapi\u001b[39;00m\u001b[38;5;21;01m.\u001b[39;00m\u001b[38;5;21;01masync_client\u001b[39;00m \u001b[38;5;28;01mimport\u001b[39;00m AsyncClient \u001b[38;5;28;01mas\u001b[39;00m AsyncClientCreator\n",
      "File \u001b[0;32m~/miniconda3/envs/jun/lib/python3.9/site-packages/chromadb/api/__init__.py:11\u001b[0m\n\u001b[1;32m      6\u001b[0m \u001b[38;5;28;01mfrom\u001b[39;00m \u001b[38;5;21;01mchromadb\u001b[39;00m\u001b[38;5;21;01m.\u001b[39;00m\u001b[38;5;21;01mapi\u001b[39;00m\u001b[38;5;21;01m.\u001b[39;00m\u001b[38;5;21;01mconfiguration\u001b[39;00m \u001b[38;5;28;01mimport\u001b[39;00m (\n\u001b[1;32m      7\u001b[0m     CollectionConfiguration,\n\u001b[1;32m      8\u001b[0m     CollectionConfigurationInternal,\n\u001b[1;32m      9\u001b[0m )\n\u001b[1;32m     10\u001b[0m \u001b[38;5;28;01mfrom\u001b[39;00m \u001b[38;5;21;01mchromadb\u001b[39;00m\u001b[38;5;21;01m.\u001b[39;00m\u001b[38;5;21;01mconfig\u001b[39;00m \u001b[38;5;28;01mimport\u001b[39;00m DEFAULT_DATABASE, DEFAULT_TENANT\n\u001b[0;32m---> 11\u001b[0m \u001b[38;5;28;01mfrom\u001b[39;00m \u001b[38;5;21;01mchromadb\u001b[39;00m\u001b[38;5;21;01m.\u001b[39;00m\u001b[38;5;21;01mapi\u001b[39;00m\u001b[38;5;21;01m.\u001b[39;00m\u001b[38;5;21;01mtypes\u001b[39;00m \u001b[38;5;28;01mimport\u001b[39;00m (\n\u001b[1;32m     12\u001b[0m     CollectionMetadata,\n\u001b[1;32m     13\u001b[0m     Documents,\n\u001b[1;32m     14\u001b[0m     Embeddable,\n\u001b[1;32m     15\u001b[0m     EmbeddingFunction,\n\u001b[1;32m     16\u001b[0m     DataLoader,\n\u001b[1;32m     17\u001b[0m     Embeddings,\n\u001b[1;32m     18\u001b[0m     IDs,\n\u001b[1;32m     19\u001b[0m     Include,\n\u001b[1;32m     20\u001b[0m     IncludeMetadataDocumentsEmbeddings,\n\u001b[1;32m     21\u001b[0m     IncludeMetadataDocumentsEmbeddingsDistances,\n\u001b[1;32m     22\u001b[0m     Loadable,\n\u001b[1;32m     23\u001b[0m     Metadatas,\n\u001b[1;32m     24\u001b[0m     URIs,\n\u001b[1;32m     25\u001b[0m     Where,\n\u001b[1;32m     26\u001b[0m     QueryResult,\n\u001b[1;32m     27\u001b[0m     GetResult,\n\u001b[1;32m     28\u001b[0m     WhereDocument,\n\u001b[1;32m     29\u001b[0m )\n\u001b[1;32m     30\u001b[0m \u001b[38;5;28;01mfrom\u001b[39;00m \u001b[38;5;21;01mchromadb\u001b[39;00m\u001b[38;5;21;01m.\u001b[39;00m\u001b[38;5;21;01mconfig\u001b[39;00m \u001b[38;5;28;01mimport\u001b[39;00m Component, Settings\n\u001b[1;32m     31\u001b[0m \u001b[38;5;28;01mfrom\u001b[39;00m \u001b[38;5;21;01mchromadb\u001b[39;00m\u001b[38;5;21;01m.\u001b[39;00m\u001b[38;5;21;01mtypes\u001b[39;00m \u001b[38;5;28;01mimport\u001b[39;00m Database, Tenant, Collection \u001b[38;5;28;01mas\u001b[39;00m CollectionModel\n",
      "File \u001b[0;32m~/miniconda3/envs/jun/lib/python3.9/site-packages/chromadb/api/types.py:8\u001b[0m\n\u001b[1;32m      6\u001b[0m \u001b[38;5;28;01mfrom\u001b[39;00m \u001b[38;5;21;01mpydantic\u001b[39;00m \u001b[38;5;28;01mimport\u001b[39;00m Field\n\u001b[1;32m      7\u001b[0m \u001b[38;5;28;01mimport\u001b[39;00m \u001b[38;5;21;01mchromadb\u001b[39;00m\u001b[38;5;21;01m.\u001b[39;00m\u001b[38;5;21;01merrors\u001b[39;00m \u001b[38;5;28;01mas\u001b[39;00m \u001b[38;5;21;01merrors\u001b[39;00m\n\u001b[0;32m----> 8\u001b[0m \u001b[38;5;28;01mfrom\u001b[39;00m \u001b[38;5;21;01mchromadb\u001b[39;00m\u001b[38;5;21;01m.\u001b[39;00m\u001b[38;5;21;01mtypes\u001b[39;00m \u001b[38;5;28;01mimport\u001b[39;00m (\n\u001b[1;32m      9\u001b[0m     Metadata,\n\u001b[1;32m     10\u001b[0m     UpdateMetadata,\n\u001b[1;32m     11\u001b[0m     Vector,\n\u001b[1;32m     12\u001b[0m     LiteralValue,\n\u001b[1;32m     13\u001b[0m     LogicalOperator,\n\u001b[1;32m     14\u001b[0m     WhereOperator,\n\u001b[1;32m     15\u001b[0m     OperatorExpression,\n\u001b[1;32m     16\u001b[0m     Where,\n\u001b[1;32m     17\u001b[0m     WhereDocumentOperator,\n\u001b[1;32m     18\u001b[0m     WhereDocument,\n\u001b[1;32m     19\u001b[0m )\n\u001b[1;32m     20\u001b[0m \u001b[38;5;28;01mfrom\u001b[39;00m \u001b[38;5;21;01minspect\u001b[39;00m \u001b[38;5;28;01mimport\u001b[39;00m signature\n\u001b[1;32m     21\u001b[0m \u001b[38;5;28;01mfrom\u001b[39;00m \u001b[38;5;21;01mtenacity\u001b[39;00m \u001b[38;5;28;01mimport\u001b[39;00m retry\n",
      "File \u001b[0;32m~/miniconda3/envs/jun/lib/python3.9/site-packages/chromadb/types.py:53\u001b[0m\n\u001b[1;32m     48\u001b[0m     \u001b[38;5;129m@abstractmethod\u001b[39m\n\u001b[1;32m     49\u001b[0m     \u001b[38;5;28;01mdef\u001b[39;00m \u001b[38;5;21mset_configuration\u001b[39m(\u001b[38;5;28mself\u001b[39m, configuration: C) \u001b[38;5;241m-\u001b[39m\u001b[38;5;241m>\u001b[39m \u001b[38;5;28;01mNone\u001b[39;00m:\n\u001b[1;32m     50\u001b[0m         \u001b[38;5;28;01mraise\u001b[39;00m \u001b[38;5;167;01mNotImplementedError\u001b[39;00m()\n\u001b[0;32m---> 53\u001b[0m \u001b[38;5;28;01mclass\u001b[39;00m \u001b[38;5;21;01mCollection\u001b[39;00m(\n\u001b[1;32m     54\u001b[0m     BaseModel,\n\u001b[1;32m     55\u001b[0m     Configurable[CollectionConfigurationInternal],\n\u001b[1;32m     56\u001b[0m     BaseModelJSONSerializable[\u001b[38;5;124m\"\u001b[39m\u001b[38;5;124mCollection\u001b[39m\u001b[38;5;124m\"\u001b[39m],\n\u001b[1;32m     57\u001b[0m ):\n\u001b[1;32m     58\u001b[0m \u001b[38;5;250m    \u001b[39m\u001b[38;5;124;03m\"\"\"A model of a collection used for transport, serialization, and storage\"\"\"\u001b[39;00m\n\u001b[1;32m     60\u001b[0m     \u001b[38;5;28mid\u001b[39m: UUID\n",
      "File \u001b[0;32m~/miniconda3/envs/jun/lib/python3.9/site-packages/pydantic/_internal/_model_construction.py:205\u001b[0m, in \u001b[0;36m__new__\u001b[0;34m(mcs, cls_name, bases, namespace, __pydantic_generic_metadata__, __pydantic_reset_parent_namespace__, _create_model_module, **kwargs)\u001b[0m\n\u001b[1;32m    197\u001b[0m         \u001b[38;5;28;01mraise\u001b[39;00m \u001b[38;5;167;01mTypeError\u001b[39;00m(error_message)\n\u001b[1;32m    199\u001b[0m     \u001b[38;5;28mcls\u001b[39m\u001b[38;5;241m.\u001b[39m__pydantic_generic_metadata__ \u001b[38;5;241m=\u001b[39m {\n\u001b[1;32m    200\u001b[0m         \u001b[38;5;124m'\u001b[39m\u001b[38;5;124morigin\u001b[39m\u001b[38;5;124m'\u001b[39m: \u001b[38;5;28;01mNone\u001b[39;00m,\n\u001b[1;32m    201\u001b[0m         \u001b[38;5;124m'\u001b[39m\u001b[38;5;124margs\u001b[39m\u001b[38;5;124m'\u001b[39m: (),\n\u001b[1;32m    202\u001b[0m         \u001b[38;5;124m'\u001b[39m\u001b[38;5;124mparameters\u001b[39m\u001b[38;5;124m'\u001b[39m: parameters,\n\u001b[1;32m    203\u001b[0m     }\n\u001b[0;32m--> 205\u001b[0m \u001b[38;5;28mcls\u001b[39m\u001b[38;5;241m.\u001b[39m__pydantic_complete__ \u001b[38;5;241m=\u001b[39m \u001b[38;5;28;01mFalse\u001b[39;00m  \u001b[38;5;66;03m# Ensure this specific class gets completed\u001b[39;00m\n\u001b[1;32m    207\u001b[0m \u001b[38;5;66;03m# preserve `__set_name__` protocol defined in https://peps.python.org/pep-0487\u001b[39;00m\n\u001b[1;32m    208\u001b[0m \u001b[38;5;66;03m# for attributes not in `new_namespace` (e.g. private attributes)\u001b[39;00m\n\u001b[1;32m    209\u001b[0m \u001b[38;5;28;01mfor\u001b[39;00m name, obj \u001b[38;5;129;01min\u001b[39;00m private_attributes\u001b[38;5;241m.\u001b[39mitems():\n",
      "File \u001b[0;32m~/miniconda3/envs/jun/lib/python3.9/site-packages/pydantic/_internal/_model_construction.py:534\u001b[0m, in \u001b[0;36mcomplete_model_class\u001b[0;34m(cls, cls_name, config_wrapper, raise_errors, types_namespace, create_model_module)\u001b[0m\n\u001b[1;32m    526\u001b[0m         if value is not None and value.default is not PydanticUndefined:\n\u001b[1;32m    527\u001b[0m             setattr(cls, k, value.default)\n\u001b[1;32m    530\u001b[0m def complete_model_class(\n\u001b[1;32m    531\u001b[0m     cls: type[BaseModel],\n\u001b[1;32m    532\u001b[0m     cls_name: str,\n\u001b[1;32m    533\u001b[0m     config_wrapper: ConfigWrapper,\n\u001b[0;32m--> 534\u001b[0m     *,\n\u001b[1;32m    535\u001b[0m     raise_errors: bool = True,\n\u001b[1;32m    536\u001b[0m     types_namespace: dict[str, Any] | None,\n\u001b[1;32m    537\u001b[0m     create_model_module: str | None = None,\n\u001b[1;32m    538\u001b[0m ) -> bool:\n\u001b[1;32m    539\u001b[0m     \"\"\"Finish building a model class.\n\u001b[1;32m    540\u001b[0m \n\u001b[1;32m    541\u001b[0m     This logic must be called after class has been created since validation functions must be bound\n\u001b[0;32m   (...)\u001b[0m\n\u001b[1;32m    557\u001b[0m             and `raise_errors=True`.\n\u001b[1;32m    558\u001b[0m     \"\"\"\n\u001b[1;32m    559\u001b[0m     typevars_map = get_model_typevars_map(cls)\n",
      "File \u001b[0;32m~/miniconda3/envs/jun/lib/python3.9/site-packages/pydantic/main.py:643\u001b[0m, in \u001b[0;36m__get_pydantic_core_schema__\u001b[0;34m(cls, source, handler)\u001b[0m\n\u001b[1;32m    627\u001b[0m \u001b[38;5;129m@classmethod\u001b[39m\n\u001b[1;32m    628\u001b[0m \u001b[38;5;28;01mdef\u001b[39;00m \u001b[38;5;21mmodel_validate_strings\u001b[39m(\n\u001b[1;32m    629\u001b[0m     \u001b[38;5;28mcls\u001b[39m,\n\u001b[0;32m   (...)\u001b[0m\n\u001b[1;32m    633\u001b[0m     context: Any \u001b[38;5;241m|\u001b[39m \u001b[38;5;28;01mNone\u001b[39;00m \u001b[38;5;241m=\u001b[39m \u001b[38;5;28;01mNone\u001b[39;00m,\n\u001b[1;32m    634\u001b[0m ) \u001b[38;5;241m-\u001b[39m\u001b[38;5;241m>\u001b[39m Self:\n\u001b[1;32m    635\u001b[0m \u001b[38;5;250m    \u001b[39m\u001b[38;5;124;03m\"\"\"Validate the given object with string data against the Pydantic model.\u001b[39;00m\n\u001b[1;32m    636\u001b[0m \n\u001b[1;32m    637\u001b[0m \u001b[38;5;124;03m    Args:\u001b[39;00m\n\u001b[1;32m    638\u001b[0m \u001b[38;5;124;03m        obj: The object containing string data to validate.\u001b[39;00m\n\u001b[1;32m    639\u001b[0m \u001b[38;5;124;03m        strict: Whether to enforce types strictly.\u001b[39;00m\n\u001b[1;32m    640\u001b[0m \u001b[38;5;124;03m        context: Extra variables to pass to the validator.\u001b[39;00m\n\u001b[1;32m    641\u001b[0m \n\u001b[1;32m    642\u001b[0m \u001b[38;5;124;03m    Returns:\u001b[39;00m\n\u001b[0;32m--> 643\u001b[0m \u001b[38;5;124;03m        The validated Pydantic model.\u001b[39;00m\n\u001b[1;32m    644\u001b[0m \u001b[38;5;124;03m    \"\"\"\u001b[39;00m\n\u001b[1;32m    645\u001b[0m     \u001b[38;5;66;03m# `__tracebackhide__` tells pytest and some other tools to omit this function from tracebacks\u001b[39;00m\n\u001b[1;32m    646\u001b[0m     __tracebackhide__ \u001b[38;5;241m=\u001b[39m \u001b[38;5;28;01mTrue\u001b[39;00m\n",
      "File \u001b[0;32m~/miniconda3/envs/jun/lib/python3.9/site-packages/pydantic/_internal/_schema_generation_shared.py:83\u001b[0m, in \u001b[0;36mCallbackGetCoreSchemaHandler.__call__\u001b[0;34m(self, source_type)\u001b[0m\n\u001b[1;32m     82\u001b[0m \u001b[38;5;28;01mdef\u001b[39;00m \u001b[38;5;21m__call__\u001b[39m(\u001b[38;5;28mself\u001b[39m, source_type: Any, \u001b[38;5;241m/\u001b[39m) \u001b[38;5;241m-\u001b[39m\u001b[38;5;241m>\u001b[39m core_schema\u001b[38;5;241m.\u001b[39mCoreSchema:\n\u001b[0;32m---> 83\u001b[0m     schema \u001b[38;5;241m=\u001b[39m \u001b[38;5;28;43mself\u001b[39;49m\u001b[38;5;241;43m.\u001b[39;49m\u001b[43m_handler\u001b[49m\u001b[43m(\u001b[49m\u001b[43msource_type\u001b[49m\u001b[43m)\u001b[49m\n\u001b[1;32m     84\u001b[0m     ref \u001b[38;5;241m=\u001b[39m schema\u001b[38;5;241m.\u001b[39mget(\u001b[38;5;124m'\u001b[39m\u001b[38;5;124mref\u001b[39m\u001b[38;5;124m'\u001b[39m)\n\u001b[1;32m     85\u001b[0m     \u001b[38;5;28;01mif\u001b[39;00m \u001b[38;5;28mself\u001b[39m\u001b[38;5;241m.\u001b[39m_ref_mode \u001b[38;5;241m==\u001b[39m \u001b[38;5;124m'\u001b[39m\u001b[38;5;124mto-def\u001b[39m\u001b[38;5;124m'\u001b[39m:\n",
      "File \u001b[0;32m~/miniconda3/envs/jun/lib/python3.9/site-packages/pydantic/_internal/_generate_schema.py:512\u001b[0m, in \u001b[0;36mgenerate_schema\u001b[0;34m(self, obj, from_dunder_get_core_schema)\u001b[0m\n\u001b[1;32m    501\u001b[0m     \u001b[38;5;28;01mreturn\u001b[39;00m json_schema\n\u001b[1;32m    503\u001b[0m \u001b[38;5;66;03m# Use an isinstance check for enums with no cases.\u001b[39;00m\n\u001b[1;32m    504\u001b[0m \u001b[38;5;66;03m# The most important use case for this is creating TypeVar bounds for generics that should\u001b[39;00m\n\u001b[1;32m    505\u001b[0m \u001b[38;5;66;03m# be restricted to enums. This is more consistent than it might seem at first, since you can only\u001b[39;00m\n\u001b[1;32m    506\u001b[0m \u001b[38;5;66;03m# subclass enum.Enum (or subclasses of enum.Enum) if all parent classes have no cases.\u001b[39;00m\n\u001b[1;32m    507\u001b[0m \u001b[38;5;66;03m# We use the get_json_schema function when an Enum subclass has been declared with no cases\u001b[39;00m\n\u001b[1;32m    508\u001b[0m \u001b[38;5;66;03m# so that we can still generate a valid json schema.\u001b[39;00m\n\u001b[1;32m    509\u001b[0m \u001b[38;5;28;01mreturn\u001b[39;00m core_schema\u001b[38;5;241m.\u001b[39mis_instance_schema(\n\u001b[1;32m    510\u001b[0m     enum_type,\n\u001b[1;32m    511\u001b[0m     metadata\u001b[38;5;241m=\u001b[39m{\u001b[38;5;124m'\u001b[39m\u001b[38;5;124mpydantic_js_functions\u001b[39m\u001b[38;5;124m'\u001b[39m: [get_json_schema_no_cases]},\n\u001b[0;32m--> 512\u001b[0m )\n",
      "File \u001b[0;32m~/miniconda3/envs/jun/lib/python3.9/site-packages/pydantic/_internal/_generate_schema.py:784\u001b[0m, in \u001b[0;36m_generate_schema_inner\u001b[0;34m(self, obj)\u001b[0m\n\u001b[1;32m    782\u001b[0m     title \u001b[38;5;241m=\u001b[39m model_title_generator(model)\n\u001b[1;32m    783\u001b[0m     \u001b[38;5;28;01mif\u001b[39;00m \u001b[38;5;129;01mnot\u001b[39;00m \u001b[38;5;28misinstance\u001b[39m(title, \u001b[38;5;28mstr\u001b[39m):\n\u001b[0;32m--> 784\u001b[0m         \u001b[38;5;28;01mraise\u001b[39;00m \u001b[38;5;167;01mTypeError\u001b[39;00m(\u001b[38;5;124mf\u001b[39m\u001b[38;5;124m'\u001b[39m\u001b[38;5;124mmodel_title_generator \u001b[39m\u001b[38;5;132;01m{\u001b[39;00mmodel_title_generator\u001b[38;5;132;01m}\u001b[39;00m\u001b[38;5;124m must return str, not \u001b[39m\u001b[38;5;132;01m{\u001b[39;00mtitle\u001b[38;5;241m.\u001b[39m\u001b[38;5;18m__class__\u001b[39m\u001b[38;5;132;01m}\u001b[39;00m\u001b[38;5;124m'\u001b[39m)\n\u001b[1;32m    785\u001b[0m     \u001b[38;5;28;01mreturn\u001b[39;00m title\n\u001b[1;32m    787\u001b[0m \u001b[38;5;28;01mreturn\u001b[39;00m \u001b[38;5;28;01mNone\u001b[39;00m\n",
      "File \u001b[0;32m~/miniconda3/envs/jun/lib/python3.9/site-packages/pydantic/_internal/_generate_schema.py:591\u001b[0m, in \u001b[0;36m_model_schema\u001b[0;34m(self, cls)\u001b[0m\n\u001b[1;32m    589\u001b[0m \u001b[38;5;28;01mdef\u001b[39;00m \u001b[38;5;21mclean_schema\u001b[39m(\u001b[38;5;28mself\u001b[39m, schema: CoreSchema) \u001b[38;5;241m-\u001b[39m\u001b[38;5;241m>\u001b[39m CoreSchema:\n\u001b[1;32m    590\u001b[0m     schema \u001b[38;5;241m=\u001b[39m \u001b[38;5;28mself\u001b[39m\u001b[38;5;241m.\u001b[39mcollect_definitions(schema)\n\u001b[0;32m--> 591\u001b[0m     schema \u001b[38;5;241m=\u001b[39m simplify_schema_references(schema)\n\u001b[1;32m    592\u001b[0m     \u001b[38;5;28;01mif\u001b[39;00m collect_invalid_schemas(schema):\n\u001b[1;32m    593\u001b[0m         \u001b[38;5;28;01mraise\u001b[39;00m \u001b[38;5;28mself\u001b[39m\u001b[38;5;241m.\u001b[39mCollectedInvalid()\n",
      "File \u001b[0;32m~/miniconda3/envs/jun/lib/python3.9/site-packages/pydantic/_internal/_generate_schema.py:591\u001b[0m, in \u001b[0;36m<dictcomp>\u001b[0;34m(.0)\u001b[0m\n\u001b[1;32m    589\u001b[0m \u001b[38;5;28;01mdef\u001b[39;00m \u001b[38;5;21mclean_schema\u001b[39m(\u001b[38;5;28mself\u001b[39m, schema: CoreSchema) \u001b[38;5;241m-\u001b[39m\u001b[38;5;241m>\u001b[39m CoreSchema:\n\u001b[1;32m    590\u001b[0m     schema \u001b[38;5;241m=\u001b[39m \u001b[38;5;28mself\u001b[39m\u001b[38;5;241m.\u001b[39mcollect_definitions(schema)\n\u001b[0;32m--> 591\u001b[0m     schema \u001b[38;5;241m=\u001b[39m simplify_schema_references(schema)\n\u001b[1;32m    592\u001b[0m     \u001b[38;5;28;01mif\u001b[39;00m collect_invalid_schemas(schema):\n\u001b[1;32m    593\u001b[0m         \u001b[38;5;28;01mraise\u001b[39;00m \u001b[38;5;28mself\u001b[39m\u001b[38;5;241m.\u001b[39mCollectedInvalid()\n",
      "File \u001b[0;32m~/miniconda3/envs/jun/lib/python3.9/site-packages/pydantic/_internal/_generate_schema.py:947\u001b[0m, in \u001b[0;36m_generate_md_field_schema\u001b[0;34m(self, name, field_info, decorators)\u001b[0m\n\u001b[1;32m    945\u001b[0m     \u001b[38;5;28;01mreturn\u001b[39;00m \u001b[38;5;28mself\u001b[39m\u001b[38;5;241m.\u001b[39mstr_schema()\n\u001b[1;32m    946\u001b[0m \u001b[38;5;28;01melif\u001b[39;00m obj \u001b[38;5;129;01mis\u001b[39;00m \u001b[38;5;28mbytes\u001b[39m:\n\u001b[0;32m--> 947\u001b[0m     \u001b[38;5;28;01mreturn\u001b[39;00m core_schema\u001b[38;5;241m.\u001b[39mbytes_schema()\n\u001b[1;32m    948\u001b[0m \u001b[38;5;28;01melif\u001b[39;00m obj \u001b[38;5;129;01mis\u001b[39;00m \u001b[38;5;28mint\u001b[39m:\n\u001b[1;32m    949\u001b[0m     \u001b[38;5;28;01mreturn\u001b[39;00m core_schema\u001b[38;5;241m.\u001b[39mint_schema()\n",
      "File \u001b[0;32m~/miniconda3/envs/jun/lib/python3.9/site-packages/pydantic/_internal/_generate_schema.py:1134\u001b[0m, in \u001b[0;36m_common_field_schema\u001b[0;34m(self, name, field_info, decorators)\u001b[0m\n\u001b[1;32m   1131\u001b[0m \u001b[38;5;250m\u001b[39m\u001b[38;5;124;03m\"\"\"Prepare a DataclassField to represent the parameter/field, of a dataclass.\"\"\"\u001b[39;00m\n\u001b[1;32m   1132\u001b[0m common_field \u001b[38;5;241m=\u001b[39m \u001b[38;5;28mself\u001b[39m\u001b[38;5;241m.\u001b[39m_common_field_schema(name, field_info, decorators)\n\u001b[1;32m   1133\u001b[0m \u001b[38;5;28;01mreturn\u001b[39;00m core_schema\u001b[38;5;241m.\u001b[39mdataclass_field(\n\u001b[0;32m-> 1134\u001b[0m     name,\n\u001b[1;32m   1135\u001b[0m     common_field[\u001b[38;5;124m'\u001b[39m\u001b[38;5;124mschema\u001b[39m\u001b[38;5;124m'\u001b[39m],\n\u001b[1;32m   1136\u001b[0m     init\u001b[38;5;241m=\u001b[39mfield_info\u001b[38;5;241m.\u001b[39minit,\n\u001b[1;32m   1137\u001b[0m     init_only\u001b[38;5;241m=\u001b[39mfield_info\u001b[38;5;241m.\u001b[39minit_var \u001b[38;5;129;01mor\u001b[39;00m \u001b[38;5;28;01mNone\u001b[39;00m,\n\u001b[1;32m   1138\u001b[0m     kw_only\u001b[38;5;241m=\u001b[39m\u001b[38;5;28;01mNone\u001b[39;00m \u001b[38;5;28;01mif\u001b[39;00m field_info\u001b[38;5;241m.\u001b[39mkw_only \u001b[38;5;28;01melse\u001b[39;00m \u001b[38;5;28;01mFalse\u001b[39;00m,\n\u001b[1;32m   1139\u001b[0m     serialization_exclude\u001b[38;5;241m=\u001b[39mcommon_field[\u001b[38;5;124m'\u001b[39m\u001b[38;5;124mserialization_exclude\u001b[39m\u001b[38;5;124m'\u001b[39m],\n\u001b[1;32m   1140\u001b[0m     validation_alias\u001b[38;5;241m=\u001b[39mcommon_field[\u001b[38;5;124m'\u001b[39m\u001b[38;5;124mvalidation_alias\u001b[39m\u001b[38;5;124m'\u001b[39m],\n\u001b[1;32m   1141\u001b[0m     serialization_alias\u001b[38;5;241m=\u001b[39mcommon_field[\u001b[38;5;124m'\u001b[39m\u001b[38;5;124mserialization_alias\u001b[39m\u001b[38;5;124m'\u001b[39m],\n\u001b[1;32m   1142\u001b[0m     frozen\u001b[38;5;241m=\u001b[39mcommon_field[\u001b[38;5;124m'\u001b[39m\u001b[38;5;124mfrozen\u001b[39m\u001b[38;5;124m'\u001b[39m],\n\u001b[1;32m   1143\u001b[0m     metadata\u001b[38;5;241m=\u001b[39mcommon_field[\u001b[38;5;124m'\u001b[39m\u001b[38;5;124mmetadata\u001b[39m\u001b[38;5;124m'\u001b[39m],\n\u001b[1;32m   1144\u001b[0m )\n",
      "File \u001b[0;32m~/miniconda3/envs/jun/lib/python3.9/site-packages/pydantic/_internal/_generate_schema.py:1862\u001b[0m, in \u001b[0;36m_apply_annotations\u001b[0;34m(self, source_type, annotations, transform_inner_schema)\u001b[0m\n\u001b[1;32m   1845\u001b[0m metadata \u001b[38;5;241m=\u001b[39m build_metadata_dict(\n\u001b[1;32m   1846\u001b[0m     js_functions\u001b[38;5;241m=\u001b[39m[partial(modify_model_json_schema, \u001b[38;5;28mcls\u001b[39m\u001b[38;5;241m=\u001b[39mdataclass, title\u001b[38;5;241m=\u001b[39mtitle)]\n\u001b[1;32m   1847\u001b[0m )\n\u001b[1;32m   1849\u001b[0m dc_schema \u001b[38;5;241m=\u001b[39m core_schema\u001b[38;5;241m.\u001b[39mdataclass_schema(\n\u001b[1;32m   1850\u001b[0m     dataclass,\n\u001b[1;32m   1851\u001b[0m     inner_schema,\n\u001b[0;32m   (...)\u001b[0m\n\u001b[1;32m   1860\u001b[0m     frozen\u001b[38;5;241m=\u001b[39m\u001b[38;5;28mself\u001b[39m\u001b[38;5;241m.\u001b[39m_config_wrapper_stack\u001b[38;5;241m.\u001b[39mtail\u001b[38;5;241m.\u001b[39mfrozen,\n\u001b[1;32m   1861\u001b[0m )\n\u001b[0;32m-> 1862\u001b[0m schema \u001b[38;5;241m=\u001b[39m \u001b[38;5;28mself\u001b[39m\u001b[38;5;241m.\u001b[39m_apply_model_serializers(dc_schema, decorators\u001b[38;5;241m.\u001b[39mmodel_serializers\u001b[38;5;241m.\u001b[39mvalues())\n\u001b[1;32m   1863\u001b[0m schema \u001b[38;5;241m=\u001b[39m apply_model_validators(schema, model_validators, \u001b[38;5;124m'\u001b[39m\u001b[38;5;124mouter\u001b[39m\u001b[38;5;124m'\u001b[39m)\n\u001b[1;32m   1864\u001b[0m \u001b[38;5;28mself\u001b[39m\u001b[38;5;241m.\u001b[39mdefs\u001b[38;5;241m.\u001b[39mdefinitions[dataclass_ref] \u001b[38;5;241m=\u001b[39m schema\n",
      "File \u001b[0;32m~/miniconda3/envs/jun/lib/python3.9/site-packages/pydantic/_internal/_generate_schema.py:1833\u001b[0m, in \u001b[0;36m_get_prepare_pydantic_annotations_for_known_type\u001b[0;34m(self, obj, annotations)\u001b[0m\n\u001b[1;32m   1826\u001b[0m has_post_init \u001b[38;5;241m=\u001b[39m \u001b[38;5;28mhasattr\u001b[39m(dataclass, \u001b[38;5;124m'\u001b[39m\u001b[38;5;124m__post_init__\u001b[39m\u001b[38;5;124m'\u001b[39m)\n\u001b[1;32m   1827\u001b[0m has_slots \u001b[38;5;241m=\u001b[39m \u001b[38;5;28mhasattr\u001b[39m(dataclass, \u001b[38;5;124m'\u001b[39m\u001b[38;5;124m__slots__\u001b[39m\u001b[38;5;124m'\u001b[39m)\n\u001b[1;32m   1829\u001b[0m args_schema \u001b[38;5;241m=\u001b[39m core_schema\u001b[38;5;241m.\u001b[39mdataclass_args_schema(\n\u001b[1;32m   1830\u001b[0m     dataclass\u001b[38;5;241m.\u001b[39m\u001b[38;5;18m__name__\u001b[39m,\n\u001b[1;32m   1831\u001b[0m     args,\n\u001b[1;32m   1832\u001b[0m     computed_fields\u001b[38;5;241m=\u001b[39m[\n\u001b[0;32m-> 1833\u001b[0m         \u001b[38;5;28mself\u001b[39m\u001b[38;5;241m.\u001b[39m_computed_field_schema(d, decorators\u001b[38;5;241m.\u001b[39mfield_serializers)\n\u001b[1;32m   1834\u001b[0m         \u001b[38;5;28;01mfor\u001b[39;00m d \u001b[38;5;129;01min\u001b[39;00m decorators\u001b[38;5;241m.\u001b[39mcomputed_fields\u001b[38;5;241m.\u001b[39mvalues()\n\u001b[1;32m   1835\u001b[0m     ],\n\u001b[1;32m   1836\u001b[0m     collect_init_only\u001b[38;5;241m=\u001b[39mhas_post_init,\n\u001b[1;32m   1837\u001b[0m )\n\u001b[1;32m   1839\u001b[0m inner_schema \u001b[38;5;241m=\u001b[39m apply_validators(args_schema, decorators\u001b[38;5;241m.\u001b[39mroot_validators\u001b[38;5;241m.\u001b[39mvalues(), \u001b[38;5;28;01mNone\u001b[39;00m)\n\u001b[1;32m   1841\u001b[0m model_validators \u001b[38;5;241m=\u001b[39m decorators\u001b[38;5;241m.\u001b[39mmodel_validators\u001b[38;5;241m.\u001b[39mvalues()\n",
      "\u001b[0;31mImportError\u001b[0m: cannot import name 'PREPARE_METHODS' from 'pydantic._internal._std_types_schema' (/home/jun99/miniconda3/envs/jun/lib/python3.9/site-packages/pydantic/_internal/_std_types_schema.py)"
     ]
    }
   ],
   "source": [
    "from langchain_chroma import Chroma\n",
    "\n",
    "vector_store = Chroma(\n",
    "    collection_name=\"example_collection\",\n",
    "    embedding_function=hf_embeddings,\n",
    "    persist_directory=\"./chroma_langchain_db\",  # Where to save data locally, remove if not necessary\n",
    ")"
   ]
  },
  {
   "cell_type": "markdown",
   "metadata": {},
   "source": [
    "### FAISS\n",
    "https://python.langchain.com/docs/integrations/vectorstores/faiss/\n",
    "- 주로 대용량 벡터를 처리할 때 사용 -> GPU가속 사용 가능\n",
    "- 인덱싱 방법에 대한 세밀한 조정이 필요한 경우\n",
    "- 근데, 따로 인덱싱 저장이 되니깐 괜찮지 않나?"
   ]
  },
  {
   "cell_type": "markdown",
   "metadata": {},
   "source": []
  }
 ],
 "metadata": {
  "kernelspec": {
   "display_name": "jun",
   "language": "python",
   "name": "python3"
  },
  "language_info": {
   "codemirror_mode": {
    "name": "ipython",
    "version": 3
   },
   "file_extension": ".py",
   "mimetype": "text/x-python",
   "name": "python",
   "nbconvert_exporter": "python",
   "pygments_lexer": "ipython3",
   "version": "3.9.19"
  }
 },
 "nbformat": 4,
 "nbformat_minor": 2
}
