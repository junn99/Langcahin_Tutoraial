{
 "cells": [
  {
   "cell_type": "markdown",
   "metadata": {},
   "source": [
    "## 기본 세팅"
   ]
  },
  {
   "cell_type": "markdown",
   "metadata": {},
   "source": [
    "### LangSmith 설정\n",
    "- [랭스미스](https://smith.langchain.com/o/f7b9cff6-45e5-5a17-ac66-babbd820380c/)\n",
    "- 반응 추적"
   ]
  },
  {
   "cell_type": "markdown",
   "metadata": {},
   "source": [
    "#### Ref\n",
    "- [테디노트](https://wikidocs.net/250954)"
   ]
  },
  {
   "cell_type": "code",
   "execution_count": 10,
   "metadata": {},
   "outputs": [],
   "source": [
    "import os\n",
    "from dotenv import load_dotenv\n",
    "\n",
    "load_dotenv()\n",
    "\n",
    "os.environ[\"LANGCHAIN_TRACING_V2\"] = \"true\"\n",
    "os.environ[\"LANGCHAIN_ENDPOINT\"] = \"https://api.smith.langchain.com\"\n",
    "os.environ[\"LANGCHAIN_PROJECT\"] = \"PDF Chatbot with Chroma & groq \"\n",
    "os.environ[\"LANGCHAIN_API_KEY\"] = os.getenv(\"LANGSMITH_API_KEY\")\n",
    "\n",
    "GROQ_API_KEY = os.getenv(\"GROQ_API_KEY\")"
   ]
  },
  {
   "cell_type": "markdown",
   "metadata": {},
   "source": [
    "### Loader\n",
    "- 호환성을 위해서 DirectoryLoader 기본으로 사용\n",
    "- pdf자료가 하나가 아닌, 여러 형태이기때문에 UnstructuredPDFLoader 고려"
   ]
  },
  {
   "cell_type": "code",
   "execution_count": 14,
   "metadata": {},
   "outputs": [
    {
     "name": "stdout",
     "output_type": "stream",
     "text": [
      "CPU times: user 1 μs, sys: 0 ns, total: 1 μs\n",
      "Wall time: 4.53 μs\n"
     ]
    },
    {
     "name": "stderr",
     "output_type": "stream",
     "text": [
      "100%|██████████| 1/1 [00:01<00:00,  1.73s/it]\n"
     ]
    }
   ],
   "source": [
    "from langchain_community.document_loaders import DirectoryLoader\n",
    "from langchain_community.document_loaders import PyPDFLoader\n",
    "from langchain_community.document_loaders import UnstructuredPDFLoader\n",
    "\n",
    "pdf_folder_path = \"/home/jun/my_project/langchain_tutorial/data\"\n",
    "\n",
    "%time\n",
    "PyPDF_loader = DirectoryLoader(pdf_folder_path, glob=\"**/*.pdf\", loader_cls=PyPDFLoader,show_progress=True)\n",
    "PyPDF_documents = PyPDF_loader.load()\n",
    "\n",
    "# %time # pip install unstructured 설치필요하다...\n",
    "# UnstructuredPDF_loader = DirectoryLoader(pdf_folder_path, glob=\"**/*.pdf\", loader_cls=UnstructuredPDFLoader,show_progress=True)\n",
    "# UnstructuredPDF_documents = UnstructuredPDF_loader.load()"
   ]
  },
  {
   "cell_type": "code",
   "execution_count": 21,
   "metadata": {},
   "outputs": [
    {
     "name": "stdout",
     "output_type": "stream",
     "text": [
      "34\n",
      "page_content='글로벌 Top 6 빅테크 기업 AI 투자 동향\n",
      "2Part 1 Top 6 빅테크 전체 AI 투자 현황 \n",
      "Top 6 빅테크 R&D 분석\n",
      "  ○ 선정된 6대 빅테크 R&D 합산 규모는 ’15년 510억 달러에서 ’23년 4배 이상 증가한 2,387 억 달러로 성장, \n",
      "매출에서 차지하는 비중 또한 ’15년 10%에서 ’23년 14%로 증가해 AI를 포함한 IT시장을 선도하기 위해서 \n",
      "R&D의 역할이 중요해지고 있음을 방증\n",
      "    - 빅테크의 R&D 연간 규모(’19~’23 년 평균)로 보면 Amazon 이 연간 587억 달러로 가장 높은 수준이며 , \n",
      "Google(340 억 달러), Meta(261 억 달러), Microsoft(245 억 달러) 순으로 나타남\n",
      "    - 빅테크의 R&D 연간 지출 규모(’19~’21 년 평균)는 주요국의 1년 정부 과학기술 R&D 예산보다 큰 수준\n",
      "       ※ ’19~21 년 평균 R&D 예산: Amazon(44.9$b) >  Google(28.4$b) > 일본(26.3$b) > 영국(17.5$b) > 캐나다 (10.6$b)\n",
      "[그래프 1] 빅테크의 R&D 규모 비교\n",
      "*자료원: 각사 SEC 자료 정리(2024), OECD(2024), EU(2024)(‘19-23 평균)' metadata={'source': '/home/jun/my_project/langchain_tutorial/data/글로벌 Top 6 빅테크 기업 AI 투자 동향.pdf', 'page': 3}\n"
     ]
    }
   ],
   "source": [
    "print(len(PyPDF_documents))\n",
    "print(PyPDF_documents[3]) # 차후에 그래프나 그림도 인식하는 멀티모달이 목표"
   ]
  },
  {
   "cell_type": "markdown",
   "metadata": {},
   "source": [
    "### Splitter"
   ]
  },
  {
   "cell_type": "code",
   "execution_count": 23,
   "metadata": {},
   "outputs": [
    {
     "name": "stdout",
     "output_type": "stream",
     "text": [
      "58\n"
     ]
    }
   ],
   "source": [
    "from langchain.text_splitter import RecursiveCharacterTextSplitter\n",
    "\n",
    "text_splitter = RecursiveCharacterTextSplitter(chunk_size=1000, chunk_overlap=200)\n",
    "split_docs = text_splitter.split_documents(PyPDF_documents)\n",
    "\n",
    "print(len(split_docs))"
   ]
  },
  {
   "cell_type": "code",
   "execution_count": 25,
   "metadata": {},
   "outputs": [
    {
     "name": "stdout",
     "output_type": "stream",
     "text": [
      "0번째 문서\n",
      "\n",
      "page_content='2024글로벌 Top 6 빅테크 기업 AI 투자 동향' metadata={'source': '/home/jun/my_project/langchain_tutorial/data/글로벌 Top 6 빅테크 기업 AI 투자 동향.pdf', 'page': 0}\n",
      "1번째 문서\n",
      "\n",
      "page_content='「The AI Report 」는 인공지능 기술‧산업‧정책의 글로벌 이슈와 동향, 시사점을 적시에 분석, 인공지능 \n",
      "현안에 빠르게 대응하고 관련 정책을 지원하기 위해 한국지능정보사회진흥원 (NIA) 에서 기획‧발간하고 \n",
      "있습니다 .\n",
      "1.본 보고서는 방송통신발전기금으로 수행하는 정보통신 ·방송 연구개발 사업의 결과물이므로 , 보고서 내용을  \n",
      "발표할 때는 반드시 과학기술정보통신부 정보통신 ·방송 연구개발 사업의 연구 결과임을 밝혀야 합니다 .\n",
      "2.한국지능정보사회진흥원 (NIA)의 승인 없이 본 보고서의 무단전재를 금하며 , 가공·인용할 때는 반드시 \n",
      "출처를 「한국지능정보사회 진흥원 (NIA) 」이라고 밝혀 주시기 바랍니다 .\n",
      "3. 본 보고서의 내용은 한국지능정보사회진흥원 (NIA) 의 공식 견해와 다를 수 있습니다 .\n",
      "▶ 발행인 : 황 종 성\n",
      "▶ 작 성\n",
      "   - 한국지능정보사회진흥원 인공지능정책본부 미래전략팀\n",
      "     김소미 선임연구원 (somikim@nia.or.kr )' metadata={'source': '/home/jun/my_project/langchain_tutorial/data/글로벌 Top 6 빅테크 기업 AI 투자 동향.pdf', 'page': 1}\n",
      "2번째 문서\n",
      "\n",
      "page_content='글로벌 Top 6 빅테크 기업 AI 투자 동향 \n",
      "NIA 미래전략팀 김소미 선임연구원 (somikim@nia.or.kr) THE AI REPORT 2024-2 | 2024. 9. 9.\n",
      "1 \n",
      "분석 대상 선정 기준  \n",
      "  ○ AI 투자를 주도하고 있는 기업을 분석하기 위해 분석 대상은 △전세계 Tech 기업 시가총액 상위 20개1) 중, \n",
      "△인공지능 ETF 2)와 빅테크 ETF 3)에 속하면서 , △R&D지출액 4)이 높은 기업 6개로 선정\n",
      " [표1] 분석 대상 기업 선정\n",
      "시총 순위 Name 시총($b) 인공지능 ETF 빅테크 ETF R&D지출($b) 전세계 R&D 순위 최종\n",
      "1 Microsoft 2,979 O O 28 4 선정\n",
      "2 Apple 2,561 O O 27 5 선정\n",
      "3 NVIDIA 1,988 O O 7 27 선정\n",
      "4 Alphabet(Google) 1,953 O O 40 2 선정\n",
      "5 Amazon 1,844 O O 745) 1 선정\n",
      "6 Meta(Facebook) 1,222 O O 36 3 선정\n",
      "7 TSMC 673 5 43\n",
      "8 Broadcom 567 O O 5 47\n",
      "9 Tesla 452 O O 3 69\n",
      "10 Tencent 386 O 9 20\n",
      "11 Samsung 366 O 20 8\n",
      "12 ASML 345 3 65\n",
      "13 Oracle 315 O 9 21\n",
      "14 Salesforce 266 O 5 44\n",
      "15 AMD 240 5 45\n",
      "16 Netflix 239 O O 3 84\n",
      "17 Adobe 209 O 3 70\n",
      "18 SAP 208 7 35\n",
      "19 Cisco 195 O 7 33\n",
      "20 QUALCOMM 179 O 8 22\n",
      "*자료원: Companiesmarketcap.com(2024), ETFDB(2024), EU(2023)\n",
      "1) 2024.04.23. 기준 – https://companiesmarketcap.com/tech/largest-tech-companies-by-market-cap' metadata={'source': '/home/jun/my_project/langchain_tutorial/data/글로벌 Top 6 빅테크 기업 AI 투자 동향.pdf', 'page': 2}\n"
     ]
    }
   ],
   "source": [
    "for i,split_doc in enumerate(split_docs[0:3]):\n",
    "    print(f\"{i}번째 문서\\n\\n{split_doc}\")"
   ]
  },
  {
   "cell_type": "markdown",
   "metadata": {},
   "source": [
    "### Embedding model\n",
    "- 범용적으로 많이 사용하는 bge사용"
   ]
  },
  {
   "cell_type": "code",
   "execution_count": 26,
   "metadata": {},
   "outputs": [
    {
     "name": "stderr",
     "output_type": "stream",
     "text": [
      "/home/jun/.local/lib/python3.10/site-packages/pydantic/_internal/_fields.py:132: UserWarning: Field \"model_name\" in HuggingFaceInferenceAPIEmbeddings has conflict with protected namespace \"model_\".\n",
      "\n",
      "You may be able to resolve this warning by setting `model_config['protected_namespaces'] = ()`.\n",
      "  warnings.warn(\n",
      "/home/jun/.local/lib/python3.10/site-packages/sentence_transformers/cross_encoder/CrossEncoder.py:13: TqdmWarning: IProgress not found. Please update jupyter and ipywidgets. See https://ipywidgets.readthedocs.io/en/stable/user_install.html\n",
      "  from tqdm.autonotebook import tqdm, trange\n"
     ]
    },
    {
     "name": "stdout",
     "output_type": "stream",
     "text": [
      "CPU times: user 4.37 s, sys: 408 ms, total: 4.78 s\n",
      "Wall time: 6.86 s\n"
     ]
    }
   ],
   "source": [
    "%%time\n",
    "from langchain_community.embeddings import HuggingFaceBgeEmbeddings\n",
    "\n",
    "model_name = \"BAAI/bge-m3\"\n",
    "model_kwargs = {\"device\":\"cpu\"}\n",
    "encode_kwargs = {\"normalize_embeddings\":True}\n",
    "embeddings = HuggingFaceBgeEmbeddings(\n",
    "    model_name=model_name, model_kwargs=model_kwargs,encode_kwargs=encode_kwargs\n",
    ")"
   ]
  },
  {
   "cell_type": "markdown",
   "metadata": {},
   "source": [
    "# Chroma\n",
    "- 제일 중요한 부분"
   ]
  },
  {
   "cell_type": "markdown",
   "metadata": {},
   "source": [
    "### Ref\n",
    "- [랭체인 공식 문서 : only chroma](https://python.langchain.com/docs/integrations/vectorstores/chroma/)\n",
    "- [Chroma에 데이터 동적 저장](https://stackoverflow.com/questions/76650513/dynamically-add-more-embedding-of-new-document-in-chroma-db-langchain)\n",
    "- [랭체인 공식 문서 : rag chroma](https://python.langchain.com/docs/how_to/vectorstores/)\n",
    "- [테디노트 깃허브](https://github.com/teddylee777/langchain-kr/blob/main/09-VectorStore/01-Chroma.ipynb)"
   ]
  },
  {
   "cell_type": "markdown",
   "metadata": {},
   "source": [
    "## from_documents"
   ]
  },
  {
   "cell_type": "code",
   "execution_count": 44,
   "metadata": {},
   "outputs": [],
   "source": [
    "from langchain_chroma import Chroma\n",
    "\n",
    "vector_store2 = Chroma.from_documents(\n",
    "    documents=split_docs,\n",
    "    embedding=embeddings,\n",
    "    collection_name=\"chroma_db\",\n",
    "    persist_directory=\"./chroma_test2_db\"\n",
    ")"
   ]
  },
  {
   "cell_type": "code",
   "execution_count": 45,
   "metadata": {},
   "outputs": [
    {
     "data": {
      "text/plain": [
       "[Document(metadata={'page': 20, 'source': '/home/jun/my_project/langchain_tutorial/data/글로벌 Top 6 빅테크 기업 AI 투자 동향.pdf'}, page_content='($m)투자\\n조직국적 대상 기업 설명\\n지\\n분\\n투\\n자Anthrophic\\n(생성AI)2023년\\n(3회)2,30018,400\\n35)Google미국⋅OpenAI\\x00출신이\\x00창업한\\x00생성AI\\x00Claude336)\\x00개발사로\\x00\\n생성AI\\x00역량\\x00강화\\x00목적\\n⋅Amazon도\\x002023.9월과\\x002024.3월에\\x00거쳐\\x0040억\\x00\\n달러\\x00투자\\x00발표\\nSambaNova\\n(하드웨어 )‘18-’21년\\n(4회)1654,425GV37)미국⋅자체\\x00제조\\x00AI\\x00칩과\\x00함께\\x00기업용\\x00AI\\x00플랫폼\\x00제공하며,\\x00\\nGV의\\x00AI\\x00하드웨어\\x00투자로선\\x00첫\\x00번째\\x00사례\\nGlance\\n(콘텐츠 )2020년145855Google인도⋅인도의\\x00스마트폰\\x00잠금화면에\\x00개인화된\\x00콘텐츠와\\x00숏폼\\x00\\n영상서비스\\x00Roposo를\\x00제공하는\\x00AI기반\\x00SW\\x00회사로\\x00\\n인도\\x00내\\x001.2억\\x00명\\x00사용자\\x00확보\\nLightmatter\\n(하드웨어 )‘19-’23년\\n(3회)821,045GV미국⋅저전력\\x00데이터센터용\\x00칩으로\\x00전기\\x00대신\\x00빛을\\x00사용\\n하는\\x00컴퓨팅\\x00제품을\\x00개발하는\\x00스타트업\\nDatabricks\\n(데이터분석 )2021년\\n2023년7242,500CaptialG미국⋅클라우드\\x00기반\\x00기업용\\x00AI\\x00데이터\\x00분석\\x00플랫폼\\n⋅2023년\\x0016억\\x00달러\\x00매출(YoY\\x00+50%)\\x00기록하며,\\x00AI와\\x00\\n데이터\\x00관리\\x00기술에\\x00집중\\x00투자'),\n",
       " Document(metadata={'page': 19, 'source': '/home/jun/my_project/langchain_tutorial/data/글로벌 Top 6 빅테크 기업 AI 투자 동향.pdf'}, page_content='⋅다른 조직과 달리 대상기업과 Google 내 AI전문가 멘토링 , 운영지원 포함\\n⋅주요 AI투자 사례: Lambda(AI GPU), Labelbox( 데이터 라벨링 ), \\nBenchSci( 생명과학 연구플랫폼 )\\nGoogle Assistant \\nInvestments②CVC 10 12⋅2018년 디지털비서 전문 VC로 출범\\n⋅초기 단계 스타트업 대상으로 자금 외에도 Google 조직과 연계, Google \\nCloud 등 Google 제품 크레딧 , 공동 마케팅 기회 제공\\n⋅주요 AI투자 사례: Wysa( 정신건강수면앱 ), Satisfi Labs(AI 고객센터 ), \\nInstreamatic(AI 오디오광고 )\\nGoogle for Startups ③Accelerator 7 9⋅2011년 극초기 단계 스타트업을 육성하는 엑셀러레이터로 출범\\n⋅주요 AI투자 사례: AgNext Technologies( 식품품질관리 ), Varuna( 수도 \\n관리시스템 ), OpenRisk Technologies Inc.(금융사이버위협 )\\n기타 - 2 7⋅Jigsaw(2 건), Google cloud(2 건), Google digital news initiative(2 건), \\nGoogle for startups black founders fund(1 건)'),\n",
       " Document(metadata={'page': 20, 'source': '/home/jun/my_project/langchain_tutorial/data/글로벌 Top 6 빅테크 기업 AI 투자 동향.pdf'}, page_content='34) Google 이 핵심 서비스인 검색엔진 외에도 모바일 , 동영상 , 인공지능과 같은 영역에서 영향력을 갖게 된 것은 \\n안드로이드 (‘05년, 0.5억 달러), 유튜브 (‘06년, 16.5억 달러), DeepMind(’14 년, 약 5억 달러) 등 기업을 조기에 \\n발굴하고 , 과감하게 투자했기 때문\\n35) https://w ww.cnbc.com /2024/03/27/amazon-spends-2point7b-on-startup-anthropic-in-largest-venture-investment.html  \\n36) Claude 3 Opus는 OpenAI GPT4 와 구글 Gemini 1.5 Pro와 함께 LLM 순위 공동 2위 기록(1위: ChatGPT4 Turbo)\\n https://huggingface.co/spaces/lmsys/chatbot-arena-leaderboard  (2024.05.14. 기준)\\n37) Google Ventures\\n38) 현지 매체 추정액 2.2~5.0 억 유로의 평균(3.6억 유로) 산출 후 달러로 환산\\n https://therecursive.com/what-does-photomath-s-exit-mean-for-the-croatian-startup-scene/  \\n39) https://en.globes.co.il/en/article-google-launches-applications-based-on-breezometer-acquisition-1001456420  구\\n분대상시기\\n(횟수)투자규모\\n($m)기업가치\\n($m)투자\\n조직국적 대상 기업 설명\\n지\\n분\\n투\\n자Anthrophic\\n(생성AI)2023년\\n(3회)2,30018,400\\n35)Google미국⋅OpenAI\\x00출신이\\x00창업한\\x00생성AI\\x00Claude336)\\x00개발사로\\x00\\n생성AI\\x00역량\\x00강화\\x00목적\\n⋅Amazon도\\x002023.9월과\\x002024.3월에\\x00거쳐\\x0040억\\x00\\n달러\\x00투자\\x00발표\\nSambaNova\\n(하드웨어 )‘18-’21년'),\n",
       " Document(metadata={'page': 20, 'source': '/home/jun/my_project/langchain_tutorial/data/글로벌 Top 6 빅테크 기업 AI 투자 동향.pdf'}, page_content='THE AI REPORT 2024-2 | 2024. 9. 9.\\n19\\n주요 지분투자 및 M&A 사례 32)\\n  ○ Google 은 ’19년 이후 주로 생성 AI, AI칩, AI 기반 콘텐츠 제작, 데이터 분석 회사에 대한 투자를 확대\\n    - Google 의 ’19년 이후 가장 큰 투자는 Anthrophic( 생성AI, 23억 달러), SambaNova Systems(AI 칩, 1.65억 \\n달러), Glance( 콘텐츠 , 1.45억 달러), Lightmatter(AI 칩), Databricks( 데이터분석 )로 진행\\n       ※ 이 중 생성AI Claude3 개발사인 Anthrophic 에 대한 23억 달러 규모33)의 투자는 Google 이 인공지능 시장을 얼마나 \\n중요하게 보는지 보여주는 대목\\n    - 안드로이드 , 유튜브 , 딥마인드 등 M&A를 중요 전략 수단으로 사용해온 34) Google 은 인공지능 분야에서도 \\nPhotomath( 이미지인식 ), BreezonMeter( 기후정보 ), Alter(3D 아바타 ), Phiar( 증강현실 내비게이션 ) 등의 AI 기업 인수\\n[표 5] Google 의 AI 투자 사례\\n32) 투자대상 : 최신성을 고려해 2019 년 이후 투자 건 기준으로 빅테크의 투자금액 순으로 선정\\n 투자금액 : 여러 투자자가 참여한 경우, 1/N로 나눠서 투자금액 추정, \\n ‘15~’24 년 기준 M&A 투자 건의 62%, 지분투자의 13%는 금액이 공개되지 않음\\n33) 2015 년 이후 공개된 Google 의 지분투자와 M&A 투자건 중에서 가장 큰 규모\\n34) Google 이 핵심 서비스인 검색엔진 외에도 모바일 , 동영상 , 인공지능과 같은 영역에서 영향력을 갖게 된 것은 \\n안드로이드 (‘05년, 0.5억 달러), 유튜브 (‘06년, 16.5억 달러), DeepMind(’14 년, 약 5억 달러) 등 기업을 조기에 \\n발굴하고 , 과감하게 투자했기 때문')]"
      ]
     },
     "execution_count": 45,
     "metadata": {},
     "output_type": "execute_result"
    }
   ],
   "source": [
    "vector_store2.similarity_search(\"google\") # 잘 된 모습, 처음 한 번만 해야함"
   ]
  },
  {
   "cell_type": "code",
   "execution_count": 55,
   "metadata": {},
   "outputs": [
    {
     "data": {
      "text/plain": [
       "{'ids': ['007dde22-ba5e-4c3e-8f59-d33ee5b739ac',\n",
       "  '009f6266-8b36-4e3d-ab28-cebbb52f10d0',\n",
       "  '0a4e4ba4-6c4b-4a16-9c49-28e97df31bba',\n",
       "  '0beddde1-457c-43fe-850b-926d71d9de93',\n",
       "  '0e615b71-60d6-41f6-a1f5-c3f37e7707e6',\n",
       "  '182933c0-0a01-41b2-bafa-1cffeaa3ce57',\n",
       "  '1d068ce6-92d1-4074-a7af-d003f93d7c18',\n",
       "  '1e13149e-1a6c-4a68-a7b4-d7b565850127',\n",
       "  '210d50c0-27b6-436b-a7a7-25e395a222d5',\n",
       "  '323b4b33-37a0-4ed0-b07c-f920cf1f9224',\n",
       "  '32405b80-2a47-4200-9860-8233b6e2ff72',\n",
       "  '32686d5f-7c63-45ac-94d5-0617fcd1d62a',\n",
       "  '32bc89a3-948a-4216-b698-e5127e1288bb',\n",
       "  '49d395c7-6fc7-428e-9366-e70233d35be4',\n",
       "  '4a3c7fc5-f35e-4d06-8393-c961e7289926',\n",
       "  '4b7d7af3-b2c1-41ee-8949-b35c6c37b9f6',\n",
       "  '4d87b359-e0e2-4a42-96bf-fa5dfabf0428',\n",
       "  '50d7c1c7-466d-411e-94a0-db8eed4ceeec',\n",
       "  '51c53fe7-d809-4391-9c2a-8de3ca7e5852',\n",
       "  '56c663ad-1007-4a4b-a8e3-33ee6db9c5bd',\n",
       "  '59733c70-a53c-4219-a689-d3ac9271b21a',\n",
       "  '63ba0d4a-8e63-407c-af95-7b455f1e411b',\n",
       "  '715847ba-b208-4ad0-9fe1-3ce9871a671d',\n",
       "  '823ca82a-aa5a-44fb-a151-0b16375187ca',\n",
       "  '8551a7fa-37f9-4eae-bc4b-34fe374e9363',\n",
       "  '8e5560d5-580a-4ef7-b825-404f7e595b36',\n",
       "  '8f5e4d4a-1024-4aeb-9ff3-15f0270c3c4d',\n",
       "  '9391582d-ea1d-40bd-98a9-1645f512874e',\n",
       "  '98b64127-8bad-48e3-9a89-8256da20219b',\n",
       "  '99ecb2a9-dbf4-4d46-8fc8-238382ff68be',\n",
       "  '9beb61df-068e-4830-94e3-0a557c8aad46',\n",
       "  'a0693380-e1d3-4522-9075-79f060c33397',\n",
       "  'a2f8b2b6-2fb6-4b55-8856-18a949db96b5',\n",
       "  'abc78e8f-e23c-4f56-855e-02da2df31e31',\n",
       "  'adc3f65d-53fd-4d60-b6a0-ba63950d5889',\n",
       "  'b752f9ca-35c2-4a75-a459-3c78b285613b',\n",
       "  'b79ce58a-948d-4c8a-aed6-b9d6e6cfdcd8',\n",
       "  'b989e1b1-400b-4b42-9994-918e2d09ddb3',\n",
       "  'bbe7b3a1-d705-4773-9508-d8db6ef7d2d3',\n",
       "  'bc709ada-2804-49a4-a706-d7e712931ed2',\n",
       "  'c1c0e3f4-99cd-41e0-8059-dbf8b1e25f48',\n",
       "  'c732f181-18a3-406a-b81e-0aed6bfdec10',\n",
       "  'c97fed30-0a49-41a3-ac51-310fb6761f7e',\n",
       "  'c9d35417-5f85-40e5-a408-07778b9d46aa',\n",
       "  'cf06f8bd-4350-455d-a1a6-0e7e06b3f981',\n",
       "  'd08cd49d-5fad-44fc-b5a7-d6179248cd78',\n",
       "  'd5560615-f59a-4b14-807a-49be564280b3',\n",
       "  'd8611932-91d8-4a80-8e9f-09e07324b02b',\n",
       "  'd8738a25-91d7-4a9d-bfd5-93946e60d5cd',\n",
       "  'debbb6c4-1678-4350-802f-2079c5563476',\n",
       "  'dfae7f54-c63a-4e35-a112-f169fc79f39d',\n",
       "  'dfe5a3f1-f057-40d5-aace-6dd5ede053d0',\n",
       "  'e8482643-ab7f-4545-b7e1-795c5c60f854',\n",
       "  'ebf405e4-1883-4efc-8ee1-a5c08f56b299',\n",
       "  'f449da5c-6b3b-466e-be17-fe2b16ceee00',\n",
       "  'f6eef9a3-24eb-4386-a2af-038adc567c10',\n",
       "  'f7ce802e-8544-42c5-806a-086da6a16b67',\n",
       "  'fa766b3b-e5a6-4dc9-977e-bce309cc3314'],\n",
       " 'embeddings': None,\n",
       " 'metadatas': [{'page': 7,\n",
       "   'source': '/home/jun/my_project/langchain_tutorial/data/글로벌 Top 6 빅테크 기업 AI 투자 동향.pdf'},\n",
       "  {'page': 19,\n",
       "   'source': '/home/jun/my_project/langchain_tutorial/data/글로벌 Top 6 빅테크 기업 AI 투자 동향.pdf'},\n",
       "  {'page': 24,\n",
       "   'source': '/home/jun/my_project/langchain_tutorial/data/글로벌 Top 6 빅테크 기업 AI 투자 동향.pdf'},\n",
       "  {'page': 10,\n",
       "   'source': '/home/jun/my_project/langchain_tutorial/data/글로벌 Top 6 빅테크 기업 AI 투자 동향.pdf'},\n",
       "  {'page': 4,\n",
       "   'source': '/home/jun/my_project/langchain_tutorial/data/글로벌 Top 6 빅테크 기업 AI 투자 동향.pdf'},\n",
       "  {'page': 1,\n",
       "   'source': '/home/jun/my_project/langchain_tutorial/data/글로벌 Top 6 빅테크 기업 AI 투자 동향.pdf'},\n",
       "  {'page': 24,\n",
       "   'source': '/home/jun/my_project/langchain_tutorial/data/글로벌 Top 6 빅테크 기업 AI 투자 동향.pdf'},\n",
       "  {'page': 14,\n",
       "   'source': '/home/jun/my_project/langchain_tutorial/data/글로벌 Top 6 빅테크 기업 AI 투자 동향.pdf'},\n",
       "  {'page': 28,\n",
       "   'source': '/home/jun/my_project/langchain_tutorial/data/글로벌 Top 6 빅테크 기업 AI 투자 동향.pdf'},\n",
       "  {'page': 33,\n",
       "   'source': '/home/jun/my_project/langchain_tutorial/data/글로벌 Top 6 빅테크 기업 AI 투자 동향.pdf'},\n",
       "  {'page': 21,\n",
       "   'source': '/home/jun/my_project/langchain_tutorial/data/글로벌 Top 6 빅테크 기업 AI 투자 동향.pdf'},\n",
       "  {'page': 26,\n",
       "   'source': '/home/jun/my_project/langchain_tutorial/data/글로벌 Top 6 빅테크 기업 AI 투자 동향.pdf'},\n",
       "  {'page': 5,\n",
       "   'source': '/home/jun/my_project/langchain_tutorial/data/글로벌 Top 6 빅테크 기업 AI 투자 동향.pdf'},\n",
       "  {'page': 9,\n",
       "   'source': '/home/jun/my_project/langchain_tutorial/data/글로벌 Top 6 빅테크 기업 AI 투자 동향.pdf'},\n",
       "  {'page': 0,\n",
       "   'source': '/home/jun/my_project/langchain_tutorial/data/글로벌 Top 6 빅테크 기업 AI 투자 동향.pdf'},\n",
       "  {'page': 11,\n",
       "   'source': '/home/jun/my_project/langchain_tutorial/data/글로벌 Top 6 빅테크 기업 AI 투자 동향.pdf'},\n",
       "  {'page': 23,\n",
       "   'source': '/home/jun/my_project/langchain_tutorial/data/글로벌 Top 6 빅테크 기업 AI 투자 동향.pdf'},\n",
       "  {'page': 31,\n",
       "   'source': '/home/jun/my_project/langchain_tutorial/data/글로벌 Top 6 빅테크 기업 AI 투자 동향.pdf'},\n",
       "  {'page': 31,\n",
       "   'source': '/home/jun/my_project/langchain_tutorial/data/글로벌 Top 6 빅테크 기업 AI 투자 동향.pdf'},\n",
       "  {'page': 13,\n",
       "   'source': '/home/jun/my_project/langchain_tutorial/data/글로벌 Top 6 빅테크 기업 AI 투자 동향.pdf'},\n",
       "  {'page': 2,\n",
       "   'source': '/home/jun/my_project/langchain_tutorial/data/글로벌 Top 6 빅테크 기업 AI 투자 동향.pdf'},\n",
       "  {'page': 32,\n",
       "   'source': '/home/jun/my_project/langchain_tutorial/data/글로벌 Top 6 빅테크 기업 AI 투자 동향.pdf'},\n",
       "  {'page': 20,\n",
       "   'source': '/home/jun/my_project/langchain_tutorial/data/글로벌 Top 6 빅테크 기업 AI 투자 동향.pdf'},\n",
       "  {'page': 29,\n",
       "   'source': '/home/jun/my_project/langchain_tutorial/data/글로벌 Top 6 빅테크 기업 AI 투자 동향.pdf'},\n",
       "  {'page': 31,\n",
       "   'source': '/home/jun/my_project/langchain_tutorial/data/글로벌 Top 6 빅테크 기업 AI 투자 동향.pdf'},\n",
       "  {'page': 29,\n",
       "   'source': '/home/jun/my_project/langchain_tutorial/data/글로벌 Top 6 빅테크 기업 AI 투자 동향.pdf'},\n",
       "  {'page': 22,\n",
       "   'source': '/home/jun/my_project/langchain_tutorial/data/글로벌 Top 6 빅테크 기업 AI 투자 동향.pdf'},\n",
       "  {'page': 24,\n",
       "   'source': '/home/jun/my_project/langchain_tutorial/data/글로벌 Top 6 빅테크 기업 AI 투자 동향.pdf'},\n",
       "  {'page': 19,\n",
       "   'source': '/home/jun/my_project/langchain_tutorial/data/글로벌 Top 6 빅테크 기업 AI 투자 동향.pdf'},\n",
       "  {'page': 27,\n",
       "   'source': '/home/jun/my_project/langchain_tutorial/data/글로벌 Top 6 빅테크 기업 AI 투자 동향.pdf'},\n",
       "  {'page': 18,\n",
       "   'source': '/home/jun/my_project/langchain_tutorial/data/글로벌 Top 6 빅테크 기업 AI 투자 동향.pdf'},\n",
       "  {'page': 20,\n",
       "   'source': '/home/jun/my_project/langchain_tutorial/data/글로벌 Top 6 빅테크 기업 AI 투자 동향.pdf'},\n",
       "  {'page': 13,\n",
       "   'source': '/home/jun/my_project/langchain_tutorial/data/글로벌 Top 6 빅테크 기업 AI 투자 동향.pdf'},\n",
       "  {'page': 26,\n",
       "   'source': '/home/jun/my_project/langchain_tutorial/data/글로벌 Top 6 빅테크 기업 AI 투자 동향.pdf'},\n",
       "  {'page': 27,\n",
       "   'source': '/home/jun/my_project/langchain_tutorial/data/글로벌 Top 6 빅테크 기업 AI 투자 동향.pdf'},\n",
       "  {'page': 31,\n",
       "   'source': '/home/jun/my_project/langchain_tutorial/data/글로벌 Top 6 빅테크 기업 AI 투자 동향.pdf'},\n",
       "  {'page': 15,\n",
       "   'source': '/home/jun/my_project/langchain_tutorial/data/글로벌 Top 6 빅테크 기업 AI 투자 동향.pdf'},\n",
       "  {'page': 31,\n",
       "   'source': '/home/jun/my_project/langchain_tutorial/data/글로벌 Top 6 빅테크 기업 AI 투자 동향.pdf'},\n",
       "  {'page': 2,\n",
       "   'source': '/home/jun/my_project/langchain_tutorial/data/글로벌 Top 6 빅테크 기업 AI 투자 동향.pdf'},\n",
       "  {'page': 16,\n",
       "   'source': '/home/jun/my_project/langchain_tutorial/data/글로벌 Top 6 빅테크 기업 AI 투자 동향.pdf'},\n",
       "  {'page': 2,\n",
       "   'source': '/home/jun/my_project/langchain_tutorial/data/글로벌 Top 6 빅테크 기업 AI 투자 동향.pdf'},\n",
       "  {'page': 4,\n",
       "   'source': '/home/jun/my_project/langchain_tutorial/data/글로벌 Top 6 빅테크 기업 AI 투자 동향.pdf'},\n",
       "  {'page': 8,\n",
       "   'source': '/home/jun/my_project/langchain_tutorial/data/글로벌 Top 6 빅테크 기업 AI 투자 동향.pdf'},\n",
       "  {'page': 32,\n",
       "   'source': '/home/jun/my_project/langchain_tutorial/data/글로벌 Top 6 빅테크 기업 AI 투자 동향.pdf'},\n",
       "  {'page': 17,\n",
       "   'source': '/home/jun/my_project/langchain_tutorial/data/글로벌 Top 6 빅테크 기업 AI 투자 동향.pdf'},\n",
       "  {'page': 23,\n",
       "   'source': '/home/jun/my_project/langchain_tutorial/data/글로벌 Top 6 빅테크 기업 AI 투자 동향.pdf'},\n",
       "  {'page': 6,\n",
       "   'source': '/home/jun/my_project/langchain_tutorial/data/글로벌 Top 6 빅테크 기업 AI 투자 동향.pdf'},\n",
       "  {'page': 11,\n",
       "   'source': '/home/jun/my_project/langchain_tutorial/data/글로벌 Top 6 빅테크 기업 AI 투자 동향.pdf'},\n",
       "  {'page': 12,\n",
       "   'source': '/home/jun/my_project/langchain_tutorial/data/글로벌 Top 6 빅테크 기업 AI 투자 동향.pdf'},\n",
       "  {'page': 12,\n",
       "   'source': '/home/jun/my_project/langchain_tutorial/data/글로벌 Top 6 빅테크 기업 AI 투자 동향.pdf'},\n",
       "  {'page': 16,\n",
       "   'source': '/home/jun/my_project/langchain_tutorial/data/글로벌 Top 6 빅테크 기업 AI 투자 동향.pdf'},\n",
       "  {'page': 14,\n",
       "   'source': '/home/jun/my_project/langchain_tutorial/data/글로벌 Top 6 빅테크 기업 AI 투자 동향.pdf'},\n",
       "  {'page': 25,\n",
       "   'source': '/home/jun/my_project/langchain_tutorial/data/글로벌 Top 6 빅테크 기업 AI 투자 동향.pdf'},\n",
       "  {'page': 30,\n",
       "   'source': '/home/jun/my_project/langchain_tutorial/data/글로벌 Top 6 빅테크 기업 AI 투자 동향.pdf'},\n",
       "  {'page': 3,\n",
       "   'source': '/home/jun/my_project/langchain_tutorial/data/글로벌 Top 6 빅테크 기업 AI 투자 동향.pdf'},\n",
       "  {'page': 10,\n",
       "   'source': '/home/jun/my_project/langchain_tutorial/data/글로벌 Top 6 빅테크 기업 AI 투자 동향.pdf'},\n",
       "  {'page': 20,\n",
       "   'source': '/home/jun/my_project/langchain_tutorial/data/글로벌 Top 6 빅테크 기업 AI 투자 동향.pdf'},\n",
       "  {'page': 6,\n",
       "   'source': '/home/jun/my_project/langchain_tutorial/data/글로벌 Top 6 빅테크 기업 AI 투자 동향.pdf'}],\n",
       " 'documents': ['글로벌 Top 6 빅테크 기업 AI 투자 동향\\n6\\nTop 6 빅테크별 AI 투자건수 점유율 현황\\n  ○ 최근 5년 평균(’20~’24 년) AI 투자건수 기준, Google 이 43%로 가장 높은 점유율을 차지하고 있으며 , 6대 빅테크 중 \\nGoogle 이 투자건수 측면에서 AI 투자 분야를 선도\\n    - AI 투자건수 점유율은 Google(43%) 에 이어 Microsoft(27%), Nvidia(14%), amazon(11%) 순으로 높게 나타남 . \\n연도별 비중 추이를 보면, 엔비디아가 ’23년 이후 30%로 급증\\n[그래프 3] 빅테크 AI 투자건수\\n \\n*자료원: Crunchbase(2024.05)Google\\nNVIDIAMSAmazonMetaApple\\nApple\\nMeta\\nAmazon\\nMS\\nNVIDIA\\nGoogle',\n",
       "  '글로벌 Top 6 빅테크 기업 AI 투자 동향\\n18[표 4] Google 조직별 AI 투자 현황(’15~’24 년)\\n30) 투자활동 내 조직별 누적 투자건수는 Crunchbase 의 누적 투자건수를 기준(2024.5.) 으로 했으며 , 주요 AI 투자 사례는 \\n투자 대상 기업의 누적투자유치 금액 기준 순으로 Top3 기업을 사례로 선정\\n31) https://leadiq.com/c/gv-google-ventures/5a1d98872300005b00873758  조직 구분규모\\n($m)AI 투자\\n건수투자활동 30)\\nGoogle ①직접투자 3,517 47⋅전략적 중요도가 높고, 규모가 큰 투자 중심으로 직접투자 진행\\n⋅주요 AI투자 사례: Anthropic( 생성AI, Claude3), Nuro(자율주행 배송로봇 ), \\nTempus( 의료데이터분석 )\\nGV(Google Ventures) ②CVC 1,043 114⋅2009년 초기/성장 스타트업 투자를 위해 설립 이후 100억 달러 규모의 \\n투자자금 31)으로 Uber, Slack 등 투자 진행\\n⋅주요 AI투자 사례: SambaNova Systems( 데이터센터 ), Olive( 의료HR), \\nNeo4j( 데이터분석 )\\nCapitalG ②CVC 568 23⋅성장 단계에 진입한 스타트업 투자를 위해 2013년 설립\\n⋅주요 AI투자 사례: Databricks( 데이터분석 ), UiPath( 로봇자동화 ), CrowdStrike\\n(사이버보안 )\\nGradient Ventures ②CVC 220 69⋅2017년 AI 전문 VC로 출범\\n⋅다른 조직과 달리 대상기업과 Google 내 AI전문가 멘토링 , 운영지원 포함\\n⋅주요 AI투자 사례: Lambda(AI GPU), Labelbox( 데이터 라벨링 ), \\nBenchSci( 생명과학 연구플랫폼 )\\nGoogle Assistant \\nInvestments②CVC 10 12⋅2018년 디지털비서 전문 VC로 출범',\n",
       "  'Figure AI\\n(휴머노이드 \\n로봇)2024312,000AIIF47)미국⋅2022년\\x00설립된\\x00산업용\\x00휴머노이드\\x00로봇\\x00기업으로\\x00\\nNVIDIA,\\x00Microsoft,\\x00OpenAI\\x00Startup\\x00Fund로부터\\x00\\n투자\\x00유치\\n⋅ChatGPT\\x00활용한\\x00로봇용\\x00AI\\x00개발\\x00협력\\n⋅BMW\\x00미국\\x00공장에\\x00Figure\\x0001\\x00로봇\\x00배치\\x00발표48)\\nHugging \\nFace\\n(자연어처리 )2023264,265Amazon\\x00\\n본사미국⋅2016년\\x00설립된\\x00오픈소스\\x00기반\\x00자연어처리,\\x00AI모델\\x00\\n개발\\x00기업으로\\x00Nvidia,\\x00Google,\\x00Salesforce,\\x00\\nAMD,\\x00IBM\\x00등\\x00투자\\x00유치\\nDatologyAI\\n(데이터분석 )20248n/aAmazon\\x00\\nAlexa\\x00\\nFund미국⋅2021년\\x00설립된\\x00기업용\\x00데이터분석을\\x00위한\\x00머신러닝\\x00\\n모델\\x00개발\\x00기업으로\\x00Amazon의\\x00클라우드\\x00컴퓨팅과\\x00\\n전자상거래\\x00서비스\\x00개선\\x00목적으로\\x00투자\\x00참여\\n44) 투자대상 : 최신성을 고려해 2019 년 이후 투자 건 기준으로 빅테크의 투자금액 순으로 선정\\n 투자금액 : 여러 투자자가 참여한 경우, 1/N로 나눠서 투자금액 추정\\n45) NVIDIA 의 AMD 인수 무산(400억 달러, 2022.2 월 무산, 미국, 영국, EU 모두 이슈 제기), Adobe 의 Pigma 인수 \\n무산(200억 달러, 2023.12 월, 영국 경쟁청 (CMA) 이슈 제기)\\n46) 아마존 , 독점규제기관 반대에 아이로봇 인수 포기, 한경글로벌마켓 , 2024.01.30. - 영국 경쟁청 (CMA) 는 이 거래\\n를 승인했으나 , 유럽위원회와 미국 FTC는 이 거래로 인해서 iRobot 의 경쟁사들의 Amazon 의 온라인 마켓에서 불\\n이익을 받을 리스크가 있고, iRobot 이 보유한 민감한 소비자 데이터 접근 가능성에 대한 우려 표명\\n47) Amazon Industrial innovation Fund\\n48) BMW, 제조 공장에 휴머노이드 투입…테슬라와 로봇 대결, AI타임스 , 2024.01.19',\n",
       "  '인력을 인수하는 Acqui-Hiring 16) 형식을 취하고 있어, 규제감독기관의 후속 조사와 규제 리스크가 있는 상황\\n    - M&A 분야에서 기업용 ERP 등을 제공하는 MS의 Dynamics 365 강화를 위해서 AI 활용한 지출내역 개선진단 \\n서비스인 Suplari 를 인수하고 , 자사 Power Automate 서비스를 위해 로봇 자동화 솔루션 기업 Softmotive 를 인수\\n13) 투자대상 : 최신성을 고려해 2019 년 이후 투자 건 기준으로 빅테크의 투자금액 순으로 선정\\n 투자금액 : 여러 투자자가 참여한 경우, 1/N로 나눠서 투자금액 추정\\n14) Mustafa Suleyman, DeepMind and Inflection Co-founder, joins Microsoft to lead Copilot, Microsoft, 2024.3.19\\n15) EU joins UK in scrutinising OpenAI’s relationship with Microsoft, TNW, 2024.1.10\\n16) 인력을 인수하는 방식은 Facebook 초기에 성장해왔던 핵심 전략이며 , 인수 대상 회사의 서비스 /제품의 가치는 \\n거의 없으며 , 해당 핵심인력을 통해 기존의 자사 제품/서비스 강화를 빠르게 진행하기 원할 때 채택하는 인수 방식',\n",
       "  'Forbes’ sixth annual AI 50, Forbes, 2024.4.11. https://www.forbes.com/lists/ai50/?sh=115047290f4d  \\n7) CB Insights 과 dealroom.co 에서 제공하는 투자유치 시점의 기업가치를 기준으로 작성순위 기업명 설명 국가기업가치\\n($m)투자유치\\n($m)Top6 빅테크의 기업가치 상위 10개 기업 투자 건수\\nMS Apple NVIDIA Google Amazon Meta\\n1 OpenAI ChagGPT( 생성AI) 미국 80,000 13,500 O O\\n2 Databricks 데이터관리 미국 43,000 4,002 O O O\\n3 Inflection Pi(생성AI) 미국 40,000 1,525 O O O\\n4 Glean 기업용 SW 미국 22,000 360\\n5 Anthropic Claude( 생성AI) 미국 16,052 4,510 O O\\n6 Notion 프로젝트 SW 미국 10,000 353\\n7Anduril Industries AI,로봇 방산 미국 8,480 2,800\\n8Hugging Face AI개발 플랫폼 프랑스 4,500 399 O O O O\\n9 Shield AI AI 항공기 방산 미국 2,800 1,071 O\\n10 Figure 산업용 로봇 미국 2,675 854 O O O\\n합계(건수) 5건 0건 5건 2건 5건 1건\\nMS      Amazon      NVIDIA     Google       Meta       Apple',\n",
       "  '「The AI Report 」는 인공지능 기술‧산업‧정책의 글로벌 이슈와 동향, 시사점을 적시에 분석, 인공지능 \\n현안에 빠르게 대응하고 관련 정책을 지원하기 위해 한국지능정보사회진흥원 (NIA) 에서 기획‧발간하고 \\n있습니다 .\\n1.본 보고서는 방송통신발전기금으로 수행하는 정보통신 ·방송 연구개발 사업의 결과물이므로 , 보고서 내용을  \\n발표할 때는 반드시 과학기술정보통신부 정보통신 ·방송 연구개발 사업의 연구 결과임을 밝혀야 합니다 .\\n2.한국지능정보사회진흥원 (NIA)의 승인 없이 본 보고서의 무단전재를 금하며 , 가공·인용할 때는 반드시 \\n출처를 「한국지능정보사회 진흥원 (NIA) 」이라고 밝혀 주시기 바랍니다 .\\n3. 본 보고서의 내용은 한국지능정보사회진흥원 (NIA) 의 공식 견해와 다를 수 있습니다 .\\n▶ 발행인 : 황 종 성\\n▶ 작 성\\n   - 한국지능정보사회진흥원 인공지능정책본부 미래전략팀\\n     김소미 선임연구원 (somikim@nia.or.kr )',\n",
       "  '이익을 받을 리스크가 있고, iRobot 이 보유한 민감한 소비자 데이터 접근 가능성에 대한 우려 표명\\n47) Amazon Industrial innovation Fund\\n48) BMW, 제조 공장에 휴머노이드 투입…테슬라와 로봇 대결, AI타임스 , 2024.01.19\\n49) 왜, Amazon 은 자율주행 스타트업 ‘Zoox’ 를 인수했나 ?, 로봇신문 , 2020.07.29',\n",
       "  'THE AI REPORT 2024-2 | 2024. 9. 9.\\n133.NVIDIA\\nAI 투자 현황\\n  ○ NVIDIA 는 AI 서비스의 필수 인프라인 데이터센터 GPU 시장의 94%를 점유하고 있으며 , AI 서비스 시장이 \\n급성장하면서 ’22년 데이터센터 GPU 시장규모 는 ’19년 대비 4배 성장한 102.5 억 달러를 기록, ’27년까지 \\n9배 이상 성장할 것으로 전망되면서 AI 시장에 대한 공격적인 투자를 진행 24)\\n    - AI모델 성능 강화를 위해 ’24년 초 AI 모델 최적화 기업인 Run: AI, Deci AI를 총 10억 달러에 인수하고 , \\n’23년에는 생성AI 기업 Inflection AI과 AI 전문 클라우드 서비스 CoreWeave 에 각각 27억 달러를 투자\\n[그래프 7] NVIDIA 의 AI 투자 건수 및 규모(’15~’24 년)\\n(단위: 건)\\nAI 투자 조직\\n  ○ NVIDIA 는 본사를 통한 ①직접투자 가 전체 AI 투자 금액의 96%를 차지하나, ②기업형 벤처캐피탈 (CVC) 와 \\n③엑셀러레이터 프로그램 을 통해서도 최근 산업별로 세분화된 AI 투자 진행\\n    - NVIDIA 는 생성 AI와 AI 모델 최적화를 위해 Inflection AI, Run:AI 등의 기업에 투자를 진행 \\n    - NVIDIA 의 CVC인 NVentures 는 최근 산업별로 세분화되고 , 텍스트에서 영상, 오디오 등 멀티모달로 진화하고 있는 \\nAI 시장에 대응하기 위해 Genesis Therapeutics 등 신약개발 기업과 Outrider, Carbon Robotics 와 같은 로봇 \\n기업, Synthesia, Twelve Labs 같은 영상 기반 AI 서비스 등에 투자\\n       ※ NVIDIA 는 지난 ’24년 3월 개최된 GTC 행사25)에서 발표한 휴머노이드 로봇용 AI 모델 서비스 Project GR00T 를 포함해 ,',\n",
       "  'THE AI REPORT 2024-2 | 2024. 9. 9.\\n27Part 3 Top 6 빅테크 AI 주요 투자 방향 \\nTop 6 빅테크 기업의 AI 투자 방향\\n기업 주요 투자 분야 전략적 방향 주요 내용\\n⋅생성형 AI\\n⋅데이터 분석\\n⋅자율 시스템\\n  (자율주행 및 배송로봇 )\\n⋅검색 및 광고 기술① 지능형 사용자 인터페이스 구축⋅음성 인식, 자연어 처리, 대화형 AI 기술 등 \\nAI를 자사 모든 서비스에 통합하여 사용자 \\n경험을 극대화하고 , Google Assistant 를 강화\\n⋅이미지 인식 기술력 확보를 통해 더 나은 \\nGoogle 검색, 추천, 맞춤형 서비스 제공\\n② AI 중심 클라우드 생태계 확장⋅Google Cloud에 AI를 심화 통합하여 , 기업 \\n고객들에게 더욱 강력한 데이터 분석, AI \\n도구 및 솔루션을 제공\\n⋅기업들이 AI를 비즈니스에 쉽게 도입할 수 \\n있도록 지원하여 AI 기술의 상용화를 촉진\\n하고, 클라우드 기반 글로벌 AI 생태계 확장\\n③ 자율주행 및 로봇 기술 투자⋅Waymo 를 통한 자율주행 기술 및 로봇 \\n기술에 대한 대규모 투자를 통해, 미래의 \\n모빌리티 솔루션을 개발하고 시장을 선도\\n⋅생성형 AI\\n⋅클라우드 AI 서비스\\n⋅헬스케어 AI① AI 기반 클라우드 및 \\n기업 솔루션 강화⋅Azure 클라우드 플랫폼에 AI를 통합하여 \\n기업들이 비즈니스를 더욱 효율적이고 스마트 \\n하게 운영할 수 있도록 지원\\n② AI 주도형 소프트웨어 개발⋅OpenAI 와의 협력을 통해 AI 기반의 \\n소프트웨어 개발을 촉진하고 , AI의 능력을 \\n최대한 활용한 새로운 애플리케이션을 제공\\n③ 모든 서비스에 AI 통합⋅Office 365, Dynamics 365 등 다양한 \\n제품에 AI 기능을 통합하여 사용자의 생산성 \\n향상\\n④ 헬스케어 혁신 선도⋅Nuance 인수로 헬스케어 분야에서 의료 \\n데이터 분석 및 AI 솔루션을 강화하고 , \\n의료 서비스의 디지털 전환 선도',\n",
       "  '글로벌 Top 6 빅테크 기업 AI 투자 동향\\n32',\n",
       "  '글로벌 Top 6 빅테크 기업 AI 투자 동향\\n2040) 추정범위 ($4,800 만~$7,200 만)의 평균 https://app.dealroom.co/companies/phiar_technologies  M\\n&\\nAPhotomath\\n(이미지인식 )2023년37838)-Google미국⋅이미지\\x00인식\\x00수학문제\\x00풀이\\x00앱으로\\x001억\\x00건\\x00이상\\x00\\n다운로드,\\x00650만\\x00명\\x00활성이용자수(2022년)\\n⋅이미지\\x00인식\\x00기술력\\x00확보를\\x00통한\\x00Google\\x00Lens,\\x00\\nGoogle\\x00검색,\\x00AI\\x00역량\\x00강화\\x00목적\\nBreezoMeter\\n(기후정보 )2022년225-Google이스라엘⋅AI\\x00활용\\x00기상정보(대기오염,\\x00산불\\x00등)\\x00측정,\\x00예측\\x00\\n기업으로\\x00Google\\x00Maps,\\x00Earth\\x00등\\x00서비스\\x00강화\\x00목적39)\\nAlter\\n(그래픽 )2022년100-Google미국⋅2015년\\x00설립된\\x00인공지능\\x003D\\x00아바타\\x00제작\\x00기업으로\\x00\\n유튜브\\x00숏츠\\x00등\\x00플랫폼\\x00강화\\x00목적으로\\x00추정\\nPhiar\\nTechnologies\\n(내비게이션 )2022년6040)-Google미국⋅2017년\\x00설립된\\x00AI\\x00활용\\x00증강현실\\x00내비게이션\\x00기업으로,\\x00\\n안드로이드\\x00오토\\x00등\\x00차량\\x00서비스\\x00강화\\x00목적',\n",
       "  '51) https://w ww .reuters.com /technology/m eta-shut-augm ented-reality-studio-used-by-third-party-creators-2024-08-27/  \\n52) 투자대상 : 최신성을 고려해 2019 년 이후 투자 건 기준으로 빅테크의 투자금액 순으로 선정\\n 투자금액 : 여러 투자자가 참여한 경우, 1/N로 나눠서 투자금액 추정(단위: 건)',\n",
       "  '글로벌 Top 6 빅테크 기업 AI 투자 동향\\n4\\nTop 6 빅테크 AI 투자규모 8)\\n  ○ 6대 빅테크 기업의 ’20~’23 년 평균 AI 분야 투자규모 는 ’15~’19 년 평균 투자규모 (9억 달러) 대비 12배 성장한 약 \\n104억 달러에 달하며 , 6대 빅테크 중 Microsoft 가 투자규모 측면에서 AI 투자 분야를 선도 \\n    - 이는 ’21년과 ’23년의 50억 달러 이상의 메가딜로 인한 급증의 영향이 크며, 이를 제외할 경우 ’20~’23 년 \\n평균 AI 투자규모는 약 14억 달러이며 , 이는 ’19년 이전 대비 1.6배 성장한 수준\\n       ※ ’21년(197억 달러): Microsoft 의 음성AI 기업 Nuance Commnuication 인수\\n       ※ ’23년(163억 달러): M icrosoft 의  O penAI 투 자(100억  달 러), Anthrophic 투 자(23억  달 러), Am azon 의  Anthrophic 투 자(40억  달 러)\\n[그래프 2] 빅테크의 AI 투자규모\\n*자료원: Crunchbase(2024.05)\\n8) Crunchbase 의 2015.1.1.~2024.5.7. 사이에 AI 산업으로 분류된 투자 592건을 대상으로 하며, 여기에는 다음과 같은 \\n비지분 투자 항목은 제외: Product Crowdfunding( 제품 제공), Debt Financing( 대출 지원), Grant( 지분 취득 없는 보조금 지원), \\nICO(Initial Coin Offering, 암호화폐 제공), Post-IPO Debt(상장 후 대출 지원), Non-Equity Assistance( 사무실 , 멘토십 등 지원)(’15-’19 년 평균) 9억 달러(’20-’23 년 평균) 104억 달러(’20-’23 년 평균) 14억 달러',\n",
       "  '글로벌 Top 6 빅테크 기업 AI 투자 동향\\n8[표 6] Microsoft 조직별 AI 투자 현황(’15~’24 년)\\n11) 투자활동 내 조직별 누적 투자건수는 Crunchbase 의 누적 투자건수를 기준으로 했으며 , 주요 AI 투자 사례는 투자 \\n대상 기업의 누적투자유치 금액 기준 순으로 Top3 기업을 사례로 선정\\n12) 2013 년 출범한 ‘Microsoft Accelerator’ 를 2018 년 현재 명칭으로 개편하고 , Azure 클라우드 크레딧 , 오피스 365 \\n등 자사 서비스 등을 지원 범위에 포함. 여기 통계에는 ‘Microsoft Accelerator’ 와 ‘Microsoft for Startups’ 를 \\n통합 반영조직 구분규모\\n($m)건수 투자활동 11)\\nMicrosoft ①직접투자 33,729 44⋅주요 AI투자 사례: Nuance Communications( 대화형 AI, 197억 달러), \\nOpenAI(ChatGPT 개발사 , 100억 달러), G42(기업솔루션 )\\nM12 – Microsoft \\nVenture Fund②CVC 609 117⋅2016년 초기 단계 스타트업 투자를 위해 출범\\n⋅주요 AI투자 사례: Netradyne(AI 운전자모니터링 ), Markforged(3D 프린팅 ), \\nTypeface( 생성AI)\\nMS Climate\\nInnovation Fund②CVC 23 4⋅2020년 기후위기 해결을 위해 출범\\n⋅주요 AI투자 사례: Autogrid( 발전소관리 솔루션 ), AMP( 금융), Utilidata\\n(분산 에너지 관리 최적화 )\\nMicrosoft for \\nStartups 12)③Accelerator 8 23⋅주요 AI투자 사례: inQ Technologies( 기업솔루션구축 ), Kubix( 이커머스 솔\\n루션 구축), TerraNexum(AI 와 양자 활용한 지속가능 에너지 솔루션 )\\n기타 - 0.8 3⋅Microsoft for startups, Github, Microsoft scaleup tel aviv',\n",
       "  '2024글로벌 Top 6 빅테크 기업 AI 투자 동향',\n",
       "  '달러),\\x00소프트뱅크\\x00비전펀드(22.5억\\x00달러)\\x00등\\x00유치\\n⋅자율주행\\x00기술\\x00개발을\\x00통한\\x00투자수익\\nWayve\\n(자율주행 )2022\\n2024273n/aMS\\x00본사영국⋅2017년\\x00설립된\\x00자율주행용\\x00AI\\x00개발\\x00회사로\\x00\\nNVIDIA,\\x00Softbank도\\x00투자\\nInflection AI\\n(생성AI)20232172,700MS\\x00본사미국⋅딥마인드\\x00공동창업자\\x00Mustafa\\x00Suleyman가\\x002022년\\x00\\n설립한\\x00개인용\\x00AI\\x00비서\\x00‘Pi’\\x00개발사\\n⋅2024년\\x004월,\\x00공동창업자\\x00중\\x00딥마인드\\x00출신\\x00\\nMustafa\\x00Suleyman과\\x00산하\\x00개발자\\x0070여명\\x00영입\\x00\\nMicrosoft\\x00AI\\x00조직\\x00CEO로\\x00영입해19)\\x00사실상의\\x00핵심\\x00\\n인력\\x00인수\\nM\\n&\\nANuance\\nC om m unications\\n(생성AI - \\n의료)202119,700-MS\\x00본사미국⋅1992년\\x00설립된\\x00의료분야\\x00특화된\\x00대화형\\x00AI\\x00기업\\n⋅의료분야\\x00클라우드\\x00및\\x00AI\\x00서비스\\x00강화\\x00목적으로\\nOpenAI에\\x00투자한\\x00105억\\x00달러의\\x00약\\x002배\\x00금액\\x00투자\\nTwo Hat \\nSecurity \\n(보안)2021n/a-MS\\x00본사캐나다⋅2012년\\x00설립된\\x00AI\\x00유해\\x00콘텐츠\\x00식별\\x00기업으로\\x00\\n2020년\\x00WEF\\x00100대\\x00혁신기업으로\\x00선정20)\\nSuplari\\n(기업솔루션 )2021n/a-MS\\x00본사미국⋅2016년\\x00설립되어\\x00AI를\\x00활용한\\x00기업\\x00지출관리,\\x00비용\\x00\\n절감\\x00솔루션으로\\x00MS의\\x00기업솔루션인\\x00Dynamics\\x00\\n365에\\x00해당\\x00기능을\\x00통합하기\\x00위해서\\x00인수\\nSoftmotive\\n(로봇자동화 )2020n/a-MS\\x00본사영국⋅2005년\\x00설립된\\x00로봇자동화(RPA)\\x00기업으로\\x00자동화\\x00\\nSW\\x00기술도\\x00함께\\x00보유하고\\x00있어,\\x00MS의\\x00Power\\x00\\nAutomate\\x00플랫폼\\x00강화에도\\x00기여할\\x00것으로\\x00기대\\njClarity\\n(Java 성능)2019n/a-MS\\x00본사영국⋅2012년\\x00설립된\\x00Java\\x00성능\\x00강화\\x00도구로서,\\x00Azure\\x00\\n클라우드\\x00플랫폼\\x00내\\x00Java\\x00성능과\\x00관련\\x00제품군\\x00강화\\x00목적',\n",
       "  '글로벌 Top 6 빅테크 기업 AI 투자 동향\\n22[표 8] Amazon 조직별 AI 투자 현황(’15~’24 년)\\n42) 투자활동 내 조직별 누적 투자건수는 Crunchbase 의 누적 투자건수를 기준으로 했으며 , 주요 AI 투자 사례는 투자 \\n대상 기업의 누적투자유치 금액 기준 순으로 Top3 기업을 사례로 선정\\n43) AWS 출범 초기인 2013년 출범해 , 스타트업 대상으로 최대 10만 달러 규모의 AWS 크레딧 , 기술지원 , 교육을 제공\\n하는 프로그램조직 구분규모\\n($m)건수 투자활동 42)\\nAmazon ①직접투자 7,017 17⋅주요 AI투자 사례: Anthropic( 생성AI, Claude3), Nuro(자율주행 배송로봇 ), \\nTempus( 의료데이터분석 )\\nAmazon Web \\nServices(AWS)②사업부 72 5⋅2012년 설치된 Amazon 의 클라우드 사업부\\n⋅주요 AI투자 사례: Databricks( 데이터분석 ), TreeCloud Technologies( 기업 \\nSaaS 솔루션 ), Seven Magnum( 광고에이전시 )\\nAmazon Alexa Fund ③CVC 64 40⋅Alexa 음성 서비스와 스마트 장치 분야의 투자를 위해 2015년 설립 후 인\\n공지능 , 로봇, 엔터테인먼트 등으로 투자영역을 넓힘\\n⋅주요 AI투자 사례: DatologyAI(AI 학슴 데이터도구 ), Tonal( 스마트 홈트레이닝 ), \\nLogically( 온라인 허위정보 탐지)\\nAmazon Industrial \\ninnovation Fund(AIIF)③CVC 32 4⋅직접 투자를 통해 신흥 기술 기업을 지원하는 10억 달러 규모의 기업 벤처 \\n캐피털 펀드로 2022년 설립 \\n⋅주요 AI투자 사례: Figure( 휴머노이드 로봇), Rightbot( 물류창고 로봇), \\nFlymingo( 영상인식 물류창고관리 솔루션 )\\nClimate Pledge\\nFund③CVC 5 4⋅기후 협약의 목표를 달성하기 위한 지속가능 , 탄소제로기술 개발을 위해 20억',\n",
       "  \"17.NY Times('24.4.16.), Microsoft Makes High-Stakes Play in Tech Cold War With Emirati A.I. Deal\\nhttps://www.nytimes.com/2024/04/16/technology/microsoft-g42-uae-ai.html  \\n18.Techcrunch('24.3.19.), Microsoft hires Inflection founders to run new consumer AI division\\nhttps://techcrunch.com/2024/03/19/microsoft-hires-inflection-founders-to-run-new-consumer-ai-division/  \\n19.WEF('20.6.16.), These are the World Economic Forum's Technology Pioneers of 2020\\nhttps://www.weforum.org/agenda/2020/06/technology-pioneers-2020/  \\n20.The Motley Fool('24.3.24.), This Cloud Company Is Less Than 1% the Size of Amazon's AWS, but It's Growing Faster \\nand It Expects Double-Digit Growth Again in 2024\\nhttps://www.fool.com/investing/2024/03/24/this-cloud-company-is-less-than-1-the-size-amazon/  \\n21.wccftech('24.02.01.), NVIDIA To Dominate AI Share In 2024 With An Estimated $46 Billion In Data Center Revenue\\nhttps://wccftech.com/nvidia-to-dominate-data-center-share-in-2024-46-billion-usd-revenue-expected/\",\n",
       "  \"글로벌 Top 6 빅테크 기업 AI 투자 동향\\n30<참고 자료>\\n1.https://companiesmarketcap.com/tech/largest-tech-companies-by-market-cap#google_vignette  \\n2.https://etfdb.com/themes/artificial-intelligence-etfs/  \\n3.European Commission('23.12.14.), The 2023 EU Industrial R&D Investment Scoreboard\\nhttps://iri.jrc.ec.europa.eu/index.php/scoreboard/2023-eu-industrial-rd-investment-scoreboard#field_data  \\n4.Statista('23.5.), Ranking of the companies with the highest spending on research and development worldwide in 2022\\nhttps://w ww.statista.com/statistics/265645/ranking-of-the-20-companies-with-the-highest-spending-on-research-and-development/  \\n5.CB Insights('24.4.2.), AI 100: The most promising artificial intelligence startups of 2024\\nhttps://www.cbinsights.com/research/report/artificial-intelligence-top-startups-2024/  \\n6.Forbes('24.4.11.), Forbes’ sixth annual AI 50\\nhttps://www.forbes.com/lists/ai50/?sh=115047290f4d   \\n7.https://leadiq.com/c/gv-google-ventures/5a1d98872300005b00873758\",\n",
       "  '글로벌 Top 6 빅테크 기업 AI 투자 동향\\n12[표 13] Apple 의 AI 투자 사례\\n구\\n분대상 시기투자규모\\n($m)기업가치\\n($m)투자\\n조직국적 대상 기업 설명\\n지\\n분\\n투\\n자Didi\\n(모빌리티 )201664323,500Apple본사중국⋅2012년\\x00설립된\\x00택시/자동차/자전거\\x00공유\\x00서비스로,\\x00\\n중국\\x00내\\x00모바일\\x00서비스\\x00분야\\x00입지\\x00확보와\\x00자율주행\\x00\\n기술\\x00역량\\x00확보\\x00목적\\x00투자\\x00\\nVolley\\n(음성처리 )20160.3n/aApple본사미국⋅2016년\\x00설립된\\x00음성\\x00게임\\x00개발사로,\\x00애플\\x00Siri\\x00\\n역량\\x00강화\\x00목적\\x00투자\\nM\\n&\\nAXnor.ai\\n(엣지컴퓨팅 )2020200-Apple본사미국⋅2016년\\x00설립된\\x00스마트폰,\\x00카메라,\\x00드론\\x00등\\x00저전략\\x00\\n엣지\\x00기반\\x00AI\\x00서비스\\x00개발사로,\\x00자사\\x00아이폰,\\x00에어\\n팟\\x00등\\x00스마트\\x00기기\\x00내\\x00AI\\x00서비스\\x00강화\\x00목적\\nLaserlike\\n(검색)2019150-Apple본사미국⋅2015년\\x00설립된\\x00머신러닝과\\x00맞춤형\\x00검색\\x00서비스로\\x00\\nSiri와\\x00Apple\\x00서비스의\\x00검색\\x00기능\\x00강화\\x00목적\\nVilynx\\n(검색/추천)202050-Apple본사미국⋅2011년\\x00설립된\\x00영상,\\x00오디오,\\x00텍스트\\x00콘텐츠\\x00분석을\\x00\\n통한\\x00검색/추천\\x00기능\\x00향상을\\x00위한\\x00AI\\x00기술\\x00기업으로\\x00\\nSiri와\\x00자사\\x00서비스\\x00강화\\x00목적\\nDarwinAI\\n(이미지인식 )2024n/a-Apple본사캐나다⋅2017년\\x00설립된\\x00AI\\x00활용한\\x00시각\\x00기반\\x00제조\\x00품질\\x00\\n검사\\x00시스템으로\\x00Apple의\\x00제조\\x00역량\\x00강화\\x00목적\\x00인수\\nVoysis\\n(음성인식 )2020n/a-Apple본사아일랜드⋅2012년\\x00설립된\\x00전자상거래용\\x00음성인식\\x00서비스\\x00\\n개발사로\\x00애플의\\x00Siri\\x00성능\\x00향상을\\x00위한\\x00인수\\nWaveOne\\n(영상압축 )2023n/a-Apple본사미국⋅2016년\\x00설립된\\x00AI\\x00활용한\\x00영상\\x00압축\\x00알고리즘\\x00개발\\x00\\n기업으로\\x00Apple\\x00TV\\x00등\\x00영상\\x00품질\\x00및\\x00스트리밍\\x00\\n서비스\\x00역량\\x00강화\\x00목적\\nAI Music\\n(음악추천 )2022n/a-Apple본사영국⋅2016년\\x00설립된\\x00AI\\x00활용한\\x00음악\\x00추천\\x00서비스로\\x00\\nApple\\x00Music의\\x00추천/제안\\x00기능을\\x00강화',\n",
       "  '5) Ranking of the companies with the highest spending on R&D worldwide in 2022, Statista, 2023.05 - \\nEU 통계에서 아마존의 손익계산서에 R&D 계정 항목이 없다는 이유로 Amazon 을 제외하였으나 , Statitsa 등에서 \\n전세계 R&D 순위 산정시 사용하는 ‘Technology and Content’ 계정을 기준으로 R&D 지출 반영',\n",
       "  \"28.Stanford HAI('24.4.), Artificial Intelligence Index Report 2024\\n29.theverge.com('24.2.1.), Amazon left Roomba with a huge mess to clean up\\nhttps://www.theverge.com/2024/1/31/24057077/irobot-amazon-deal-collapse-roomba-uncertain-future\\n30.로봇신문 (’20.7.29.), 왜, Amazon 은 자율주행 스타트업 ‘Zoox’ 를 인수했나 ?\\nhttp://m.irobotnews.com/news/articleView.html?idxno=21700  \\n31.AI타임스 (’24.1.19.), BMW, 제조 공장에 휴머노이드 투입…테슬라와 로봇 대결\\nhttps://www.aitimes.com/news/articleView.html?idxno=156623\",\n",
       "  '34) Google 이 핵심 서비스인 검색엔진 외에도 모바일 , 동영상 , 인공지능과 같은 영역에서 영향력을 갖게 된 것은 \\n안드로이드 (‘05년, 0.5억 달러), 유튜브 (‘06년, 16.5억 달러), DeepMind(’14 년, 약 5억 달러) 등 기업을 조기에 \\n발굴하고 , 과감하게 투자했기 때문\\n35) https://w ww.cnbc.com /2024/03/27/amazon-spends-2point7b-on-startup-anthropic-in-largest-venture-investment.html  \\n36) Claude 3 Opus는 OpenAI GPT4 와 구글 Gemini 1.5 Pro와 함께 LLM 순위 공동 2위 기록(1위: ChatGPT4 Turbo)\\n https://huggingface.co/spaces/lmsys/chatbot-arena-leaderboard  (2024.05.14. 기준)\\n37) Google Ventures\\n38) 현지 매체 추정액 2.2~5.0 억 유로의 평균(3.6억 유로) 산출 후 달러로 환산\\n https://therecursive.com/what-does-photomath-s-exit-mean-for-the-croatian-startup-scene/  \\n39) https://en.globes.co.il/en/article-google-launches-applications-based-on-breezometer-acquisition-1001456420  구\\n분대상시기\\n(횟수)투자규모\\n($m)기업가치\\n($m)투자\\n조직국적 대상 기업 설명\\n지\\n분\\n투\\n자Anthrophic\\n(생성AI)2023년\\n(3회)2,30018,400\\n35)Google미국⋅OpenAI\\x00출신이\\x00창업한\\x00생성AI\\x00Claude336)\\x00개발사로\\x00\\n생성AI\\x00역량\\x00강화\\x00목적\\n⋅Amazon도\\x002023.9월과\\x002024.3월에\\x00거쳐\\x0040억\\x00\\n달러\\x00투자\\x00발표\\nSambaNova\\n(하드웨어 )‘18-’21년',\n",
       "  '메타 글래시스와 같은 새로운 폼팩터와 \\nAI 기술 투자를 확대하여 새로운 미래 \\n기술 개발에 집중\\n② 소셜미디어 플랫폼에 AI 통합⋅AI를 통해 페이스북과 인스타그램 등 소셜 \\n미디어 플랫폼에서의 콘텐츠 생성, 관리 \\n및 추천 시스템 강화. 이를 통해 디지털 \\n광고 시장에서 점유율 확대',\n",
       "  \"6.Forbes('24.4.11.), Forbes’ sixth annual AI 50\\nhttps://www.forbes.com/lists/ai50/?sh=115047290f4d   \\n7.https://leadiq.com/c/gv-google-ventures/5a1d98872300005b00873758  \\n8.CNBC('24.3.27.), Amazon spends $2.75 billion on AI startup Anthropic in its largest venture investment yet\\nhttps://www.cnbc.com/2024/03/27/amazon-spends-2point7b-on-startup-anthropic-in-largest-venture-investment.html  \\n9.https://huggingface.co/spaces/lmsys/chatbot-arena-leaderboard  \\n10.The Recursive(23.3.2.), What Does Photomath’s Exit Mean for the Croatian Startup Scene\\nhttps://therecursive.com/what-does-photomath-s-exit-mean-for-the-croatian-startup-scene/  \\n11.Gloves(23.8.29.), Google launches applications based on BreezoMeter acquisition\\nhttps://en.globes.co.il/en/article-google-launches-applications-based-on-breezometer-acquisition-1001456420  \\n12.https://app.dealroom.co/companies/phiar_technologies  \\n13.Pitchbook('22.8.3.), Are corporate VC ‘tourists’ pulling back amid the downturn?\",\n",
       "  '글로벌 Top 6 빅테크 기업 AI 투자 동향\\n28\\n⋅클라우드 AI\\n⋅물류 자동화\\n⋅생성형 AI① AI 기반 클라우드 지배력 강화⋅AWS( 아마존 웹 서비스 )를 통해 클라우드 \\n기반의 AI 서비스를 강화하고 , 기업이 \\n혁신적인 AI 기반 데이터 분석 및 솔루션을 \\n도입할 수 있도록 지원\\n② 스마트 물류 혁신⋅Zoox, Figure AI 등  자 율 주 행  및  휴 머 노 이 드 \\n로봇 회사에 투자하여 , 자율주행 기술과 \\n로봇 공학을 물류 시스템에 도입\\n⋅물류 운영 및 배송시스템을 자동화하고 \\n효율성을 극대화\\n③ 스마트홈 및 IoT 투자 강화\\n(AI를 통한 사용자 경험 혁신)⋅대화형 AI, 음성인식 AI, 쇼핑챗봇 등 \\n생성 AI를 음성비서인 Alexa 에 탑재하여 \\n사용자 경험을 혁신하고 개인화된 \\n서비스를 제공\\n⋅AI 하드웨어\\n⋅AI 모델 최적화\\n⋅자율 시스템① AI 하드웨어 분야 지배력 강화⋅ GPU를 중심으로 AI 하드웨어 분야에서 \\n선두를 지키며 , 데이터센터 및 AI \\n인프라를 강화\\n② AI 모델 최적화 솔루션⋅ AI 모델의 성능을 최적화하고 모델 개\\n발 과정을 자동화할 수 있는 기업(Run \\nAI, Deci AI)에 투자하여 , AI 솔루션의 \\n효율성과 성능을 극대화\\n③ 특정 산업을 위한 AI 소프트웨어\\n및 플랫폼 확장\\n(자율주행 & 의료 및 신약개발 )⋅자율주행 (Wayve), 의료 및 신약개발\\n(Recursion, Parabricks) 등 산업별 \\n맞춤형 AI 솔루션을 제공하는 기업 \\n투자를 통해 AI 서비스 및 플랫폼 확장\\n⋅생성형 AI\\n⋅소셜 미디어용 AI\\n⋅AI 인프라① AR·VR 에서 AI로 투자 초점 전환⋅기존의 VR/AR 플랫폼을 일부 축소하되 , \\n메타 글래시스와 같은 새로운 폼팩터와 \\nAI 기술 투자를 확대하여 새로운 미래 \\n기술 개발에 집중\\n② 소셜미디어 플랫폼에 AI 통합⋅AI를 통해 페이스북과 인스타그램 등 소셜 \\n미디어 플랫폼에서의 콘텐츠 생성, 관리 \\n및 추천 시스템 강화. 이를 통해 디지털',\n",
       "  'THE AI REPORT 2024-2 | 2024. 9. 9.\\n215.Amazon\\nAI 투자 현황\\n  ○ Amazon 은 ’20년 자율주행 기업 Zoox를 12억 달러 규모로 인수하고 ’23년 생성AI 기업 Anthrophic 에 40억 \\n달러를 투자하면서 , 급부상하는 AI 분야 투자를 강화\\n[그래프 6] Amazon 의 AI 투자 건수 및 규모(’15~’24 년)\\n(단위: 건)\\nAI 투자조직\\n  ○ Amazon 은 본사를 통한 ①직접투자 와 클라우드 서비스 조직인 ②Amazon Web Services(AWS) 사업부 , \\n③기업형 벤처캐피탈 (CVC) 를 통한 AI 투자 진행\\n    - 본사가 OpenAI ChatGPT 와 Google Gemini 의 대항마로 급부상한 생성형 AI Claude3 개발사 Anthropic \\n투자와 물류시스템 자동화를 위한 로봇 회사 투자를 진행하면서 투자를 리드\\n    - 여기에 Amazon 본사와 영업이익의 67% 41)를 차지하는 Amazon Web Services(AWS) 사업부가 본사 다음으로 \\n가장 높은 금액(7,200 만 달러) 투자\\n    - Amazon 의 스마트홈 사업의 핵심 서비스인 ‘Alexa’ 를 강화하기 위해서 출시한 Amazon Alexa Fund 또한 아마존의 \\n인공지능 투자에서 가장 높은 건수(40건)를 기록하면서 중심 역할을 담당\\n41) https://www.fool.com/investing/2024/03/24/this-cloud-company-is-less-than-1-the-size-amazon/',\n",
       "  'THE AI REPORT 2024-2 | 2024. 9. 9.\\n23\\n주요 지분투자 및 M&A 사례 44)\\n  ○ Amazon 은 급부상하는 생성AI 분야의 경쟁력 확보를 위해서 ’23년 9월 ChatGPT4 와 동등한 성능을 내는 것으로 \\n알려진 Claude3 개발사 Anthropic 에 40억 달러 규모의 투자를 단행했으며 , 자사 물류시스템 , 커머스 , 클라우드 \\n역량을 강화할 수 있는 투자를 진행\\n    - 구체적으로 휴머노이드 로봇 회사 Figure 에 3,100 만 달러 규모 투자와 자율주행 회사 Zoox 인수를 통한 물류 \\n자동화 , Snackable AI를 통한 콘텐츠 서비스 강화 진행\\n    - 다만, 최근 빅테크에 대한 독점규제 강화45)되면서 , 유럽위원회가 지난 ’22년 체결된 17억 달러 규모의 미국 로봇\\n청소기 회사 iRobot 인수 건에 대해서 독과점 이슈를 문제 삼으면서 최종적으로 인수가 무산46)\\n[표 9] Amazon 의 AI 투자 사례\\n구\\n분대상 시기투자규모\\n($m)기업가치\\n($m)투자\\n조직국적 대상 기업 설명\\n지\\n분\\n투\\n자Anthropic\\n(생성AI)20234,000n/aAmazon\\x00\\n본사미국⋅OpenAI\\x00출신이\\x00창업한\\x00생성AI\\x00Claude3\\x00개발사로\\x00\\n생성AI\\x00역량\\x00강화\\x00목적\\n⋅Google도\\x002023년\\x0023억\\x00달러\\x00투자\\nDatabricks\\n(데이터분석 )2021\\n20237234,750AWS\\x00\\n사업부미국⋅클라우드\\x00기반\\x00기업용\\x00AI\\x00데이터\\x00분석\\x00플랫폼\\n⋅‘23년\\x0016억\\x00달러\\x00매출(YoY\\x00+50%)\\x00기록하며,\\x00AI\\n와\\x00데이터\\x00관리\\x00기술에\\x00집중\\x00투자\\nFigure AI\\n(휴머노이드 \\n로봇)2024312,000AIIF47)미국⋅2022년\\x00설립된\\x00산업용\\x00휴머노이드\\x00로봇\\x00기업으로\\x00\\nNVIDIA,\\x00Microsoft,\\x00OpenAI\\x00Startup\\x00Fund로부터\\x00\\n투자\\x00유치\\n⋅ChatGPT\\x00활용한\\x00로봇용\\x00AI\\x00개발\\x00협력\\n⋅BMW\\x00미국\\x00공장에\\x00Figure\\x0001\\x00로봇\\x00배치\\x00발표48)\\nHugging \\nFace',\n",
       "  '⋅다른 조직과 달리 대상기업과 Google 내 AI전문가 멘토링 , 운영지원 포함\\n⋅주요 AI투자 사례: Lambda(AI GPU), Labelbox( 데이터 라벨링 ), \\nBenchSci( 생명과학 연구플랫폼 )\\nGoogle Assistant \\nInvestments②CVC 10 12⋅2018년 디지털비서 전문 VC로 출범\\n⋅초기 단계 스타트업 대상으로 자금 외에도 Google 조직과 연계, Google \\nCloud 등 Google 제품 크레딧 , 공동 마케팅 기회 제공\\n⋅주요 AI투자 사례: Wysa( 정신건강수면앱 ), Satisfi Labs(AI 고객센터 ), \\nInstreamatic(AI 오디오광고 )\\nGoogle for Startups ③Accelerator 7 9⋅2011년 극초기 단계 스타트업을 육성하는 엑셀러레이터로 출범\\n⋅주요 AI투자 사례: AgNext Technologies( 식품품질관리 ), Varuna( 수도 \\n관리시스템 ), OpenRisk Technologies Inc.(금융사이버위협 )\\n기타 - 2 7⋅Jigsaw(2 건), Google cloud(2 건), Google digital news initiative(2 건), \\nGoogle for startups black founders fund(1 건)',\n",
       "  '글로벌 Top 6 빅테크 기업 AI 투자 동향\\n26[표 12] Meta 의 AI 투자 사례\\n53) Photoroom, the AI image editor, raised $43M at a $500M valuation, TechCrunch, 2024.02.27구\\n분대상 시기투자규모\\n($m)기업가치\\n($m)투자\\n조직국적 대상 기업 설명\\n지\\n분\\n투\\n자Photoroom\\n(이미지편집 )20224.850053)Meta본사프랑스⋅2019년\\x00설립된\\x00AI\\x00사진\\x00편집\\x00앱으로,\\x001.5억\\x00다운\\n로드\\x00건수를\\x00기록했으며,\\x00누적\\x006400만\\x00달러\\x00투자금\\x00유치\\n(기업가치\\x005억\\x00달러)\\n⋅이미지\\x00처리를\\x00위한\\x00GPU\\x00기술력\\x00강화\\x00목적\\nInworld AI\\n(게임)20211.4n/aMeta본사미국⋅2021년\\x00설립된\\x00게임용\\x00AI\\x00개발\\x00기업으로\\x00게임\\x00분야\\x00\\n역량\\x00강화\\x00목적\\nBobidi\\n(SW개발)20220.6n/aMeta본사미국⋅2021년\\x00AI\\x00활용한\\x00SW\\x00개발\\x00자동화,\\x00최적화\\x00기업으로\\x00\\nMeta\\x00내부의\\x00개발\\x00역량\\x00강화\\x00목적\\nObviously AI\\n(SW개발)20210.4n/aMeta본사미국⋅2020년\\x00설립된\\x00노코드\\x00기업으로\\x00Meta\\x00내부의\\x00\\nSW/서비스\\x00역량\\x00강화\\x00목적\\nM\\n&\\nApresize.ai\\n(커머스 )2022n/a-Meta본사독일⋅2019년\\x00설립된\\x00짧은\\x00영상\\x00기반으로\\x00의류\\x00사이즈\\x00\\n추천\\x00서비스로,\\x00Facebook과\\x00Instagram\\x00내\\x00쇼핑\\x00\\n서비스\\x00강화\\x00목적으로\\x00인수\\nAI.Reverie\\n(모델최적화 )2021n/a-Meta본사미국⋅2017년\\x00설립된\\x00AI\\x00모델의\\x00정확성\\x00제고를\\x00위한\\x00\\n시뮬레이션\\x00플랫폼으로\\x00Meta의\\x00AI\\x00모델\\x00역량\\x00강화\\x00목적\\nMapillary\\n(지리정보 )2020n/a-Meta본사스웨덴⋅2013년\\x00설립된\\x00길거리\\x00사진\\x00공유\\x00플랫폼으로\\x00지도,\\x00\\n내비게이션\\x00등\\x00AR,\\x00VR\\x00등\\x00지리공간\\x00서비스\\x00개선을\\x00\\n위해\\x00인수\\nCTRL-labs\\n(AR/VR)2019750-Meta본사미국⋅2015년\\x00설립된\\x00근육\\x00신호\\x00기반으로\\x00디지털기기\\x00\\n제어하는\\x00신경\\x00인터페이스\\x00기술\\x00기업으로\\x00Meta의\\x00',\n",
       "  'THE AI REPORT 2024-2 | 2024. 9. 9.\\n174.Google\\nAI 투자 현황\\n  ○ Google 은 ’17년 AI 전문 벤처캐피탈인 Gradient Ventures 를 출범하는 등 AI 분야 투자를 꾸준히 늘려왔으며 , \\n’23년에는 생성AI Claude3 개발사인 Anthrophic 에 ’15년 이후 가장 큰 규모인 23억 달러를 투자하면서 \\nAI에 대한 적극적인 투자 진행\\n[그래프 4] Google 의 AI 투자 건수 및 규모(’15~’24 년)\\nAI 투자조직\\n  ○ Google 은 본사를 통한 ①직접투자  외에도 사업 확장, 투자대상 기업의 기술과 인재를 통한 핵심 역량 강화를 \\n위해서 4개 독립적인 ②기업형 벤처캐피탈 (CVC) 설립 운영 중이며 , 초기 단계 스타트업 지원을 위한 \\n③엑셀러레이터 프로그램인 ‘Google for Startups’ 도 운영 중\\n    - 구글은 GV와 CapitalG 와 같은 CVC를 보유하고 있음에도 불구하고 , ’17년 인공지능 분야의 투자를 강화하기 위해 \\nAI 전문 VC인 Gradient Ventures 를 출범하고, 지금까지 AI GPU, 데이터 라벨링 분야 등에 2.2억 달러를 투자(단위: 건)',\n",
       "  '($m)투자\\n조직국적 대상 기업 설명\\n지\\n분\\n투\\n자Anthrophic\\n(생성AI)2023년\\n(3회)2,30018,400\\n35)Google미국⋅OpenAI\\x00출신이\\x00창업한\\x00생성AI\\x00Claude336)\\x00개발사로\\x00\\n생성AI\\x00역량\\x00강화\\x00목적\\n⋅Amazon도\\x002023.9월과\\x002024.3월에\\x00거쳐\\x0040억\\x00\\n달러\\x00투자\\x00발표\\nSambaNova\\n(하드웨어 )‘18-’21년\\n(4회)1654,425GV37)미국⋅자체\\x00제조\\x00AI\\x00칩과\\x00함께\\x00기업용\\x00AI\\x00플랫폼\\x00제공하며,\\x00\\nGV의\\x00AI\\x00하드웨어\\x00투자로선\\x00첫\\x00번째\\x00사례\\nGlance\\n(콘텐츠 )2020년145855Google인도⋅인도의\\x00스마트폰\\x00잠금화면에\\x00개인화된\\x00콘텐츠와\\x00숏폼\\x00\\n영상서비스\\x00Roposo를\\x00제공하는\\x00AI기반\\x00SW\\x00회사로\\x00\\n인도\\x00내\\x001.2억\\x00명\\x00사용자\\x00확보\\nLightmatter\\n(하드웨어 )‘19-’23년\\n(3회)821,045GV미국⋅저전력\\x00데이터센터용\\x00칩으로\\x00전기\\x00대신\\x00빛을\\x00사용\\n하는\\x00컴퓨팅\\x00제품을\\x00개발하는\\x00스타트업\\nDatabricks\\n(데이터분석 )2021년\\n2023년7242,500CaptialG미국⋅클라우드\\x00기반\\x00기업용\\x00AI\\x00데이터\\x00분석\\x00플랫폼\\n⋅2023년\\x0016억\\x00달러\\x00매출(YoY\\x00+50%)\\x00기록하며,\\x00AI와\\x00\\n데이터\\x00관리\\x00기술에\\x00집중\\x00투자',\n",
       "  'WaveOne\\n(영상압축 )2023n/a-Apple본사미국⋅2016년\\x00설립된\\x00AI\\x00활용한\\x00영상\\x00압축\\x00알고리즘\\x00개발\\x00\\n기업으로\\x00Apple\\x00TV\\x00등\\x00영상\\x00품질\\x00및\\x00스트리밍\\x00\\n서비스\\x00역량\\x00강화\\x00목적\\nAI Music\\n(음악추천 )2022n/a-Apple본사영국⋅2016년\\x00설립된\\x00AI\\x00활용한\\x00음악\\x00추천\\x00서비스로\\x00\\nApple\\x00Music의\\x00추천/제안\\x00기능을\\x00강화\\nScout FM\\n(팟캐스트추천 )2020n/a-Apple본사미국⋅2017년\\x00설립된\\x00AI\\x00활용한\\x00팟캐스트\\x00추천\\x00서비스로\\x00\\nApple\\x00Music,\\x00팟캐스트\\x00기능\\x00강화\\x00목적\\nDrive.ai\\n(자율주행 )2019n/a-Apple본사미국⋅2015년\\x00설립된\\x00자율주행\\x00SW\\x00개발\\x00기업으로,\\x00\\nApple\\x00Car와\\x00차량\\x00인포테인먼트\\x00서비스\\x00강화\\x00목적',\n",
       "  'THE AI REPORT 2024-2 | 2024. 9. 9.\\n256.Meta 50)\\nAI 투자 현황\\n  ○ Meta는 별도의 CVC나 Accelerator 없이 ’15년 이후 누적 투자 건수 총 78건 중에서 AI 투자로 14건을 진행해 \\n왔으며 , 현재까지 진행된 14건의 AI 투자 중 71%인 14건을 M&A 방식으로 진행\\n    - Meta는 ’14년 20억 달러에 VR기기 업체 Oculus VR을 인수하고 , ’15년 이후 기준으로 가장 규모의 투자인 7.5억 \\n달러 규모의 메타버스 핵심 기술을 가진 AR/VR 기업 CTRL-labs 를 ’19년 인수\\n    - 그러나 최근 AR 스튜디오인 메타스파크 플랫폼을 ’25년 1월부로 종료하고 , 메타 글래시스와 같은 새로운 폼 팩터 \\n분야와 AI 등에 투자 및 역량을 집중할 것을 발표51)\\n[그래프 8] Meta 의 AI 투자 건수 및 규모(’15~’24 년)\\n주요 지분투자 및 M&A 사례 52)\\n  ○ Meta는 VR·AR 사업 투자는 줄이면서 자사의 AI 경쟁력 강화를 위해서 AI.Reverie(AI 모델 최적화 ), Atlas ML(AI 모델 \\n개발 자동화 ) 인수, 향후 AI 관련 하드웨어 , 데이터 센터, 서버 등 기술을 지원하기 위한 인프라에 400억 달러 투자 예정\\n    - 이 외에도 SW 기업으로서 내부 개발 역량 강화를 위해서 노코드 기업 Obviously Ai와 SW 개발 자동화 기업 \\nBodidi 기업에도 투자\\n50) Meta 는 별도의 투자조직이 없으므로 , 조직별 상세내역을 다루지 않음\\n51) https://w ww .reuters.com /technology/m eta-shut-augm ented-reality-studio-used-by-third-party-creators-2024-08-27/  \\n52) 투자대상 : 최신성을 고려해 2019 년 이후 투자 건 기준으로 빅테크의 투자금액 순으로 선정',\n",
       "  'Mapillary\\n(지리정보 )2020n/a-Meta본사스웨덴⋅2013년\\x00설립된\\x00길거리\\x00사진\\x00공유\\x00플랫폼으로\\x00지도,\\x00\\n내비게이션\\x00등\\x00AR,\\x00VR\\x00등\\x00지리공간\\x00서비스\\x00개선을\\x00\\n위해\\x00인수\\nCTRL-labs\\n(AR/VR)2019750-Meta본사미국⋅2015년\\x00설립된\\x00근육\\x00신호\\x00기반으로\\x00디지털기기\\x00\\n제어하는\\x00신경\\x00인터페이스\\x00기술\\x00기업으로\\x00Meta의\\x00\\n차세대\\x00AR,\\x00VR\\x00경쟁력\\x00강화\\x00목적\\x00인수\\nAtlas ML\\n(AI모델개발 )201940-Meta본사영국⋅2018년\\x00설립된\\x00머신러닝\\x00모델\\x00개발/배포\\x00자동화\\x00\\n플랫폼으로\\x00Meta의\\x00AI\\x00모델\\x00역량\\x00강화를\\x00위해\\x00인수',\n",
       "  \"12.https://app.dealroom.co/companies/phiar_technologies  \\n13.Pitchbook('22.8.3.), Are corporate VC ‘tourists’ pulling back amid the downturn?\\nhttps://pitchbook.com/news/articles/corporate-vc-pullback-downturn  \\n14.Microsoft('24.3.19.), Mustafa Suleyman, DeepMind and Inflection Co-founder, joins Microsoft to lead Copilot\\nhttps://blogs.m icrosoft.com /blog/2024/03/19/m ustafa-suleyman-deepm ind-and-inflection-co-founder-joins-m icrosoft-to-lead-copilot/  \\n15.TNW('24.1.10.), EU joins UK in scrutinising OpenAI’s relationship with Microsoft\\nhttps://thenextweb.com/news/eu-antitrust-investigation-openai-microsoft-merger  \\n16.Microsoft(24.4.15.), Microsoft invests $1.5 billion in Abu Dhabi’s G42 to accelerate AI development and global expansion\\nhttps://new s.m icrosoft.com /2024/04/15/m icrosoft-invests-1-5-billion-in-abu-dhabis-g42-to-accelerate-ai-developm ent-and-global-expansion/  \\n17.NY Times('24.4.16.), Microsoft Makes High-Stakes Play in Tech Cold War With Emirati A.I. Deal\",\n",
       "  '글로벌 Top 6 빅테크 기업 AI 투자 동향\\n14[표 10] NVIDIA 조직별 AI 투자 현황(’15~’24 년)\\n26) https://www.nvidia.com/en-us/data-center/products/ai-enterprise/  \\n27) 투자활동 내 조직별 누적 투자건수는 Crunchbase 의 누적 투자건수를 기준으로 했으며 , 주요 AI 투자 사례는 투자 \\n대상 기업의 누적투자유치 금액 기준 순으로 Top3 기업을 사례로 선정조직 구분규모\\n($m)건수 투자활동 27)\\nNVIDIA ①직접투자 3,517 54⋅주요 AI투자 사례: Run:AI(AI 모델최적화 ), Deci AI(AI모델최적화 ), Wayve\\n(자율주행 ), Inflection AI(생성AI)\\nNVentures ②CVC 96 12⋅NVIDIA 의 핵심분야인 AI와 컴퓨팅 분야의 전략적 투자를 위해서 2021년 설립 \\n⋅주요 AI투자 사례: Genesis Therapeutics( 신약개발 ), CHARM \\nTherapeutics( 단백질 분석 통한 치료제 개발), Evozyne( 치료제 개발용 \\n생성AI)\\nNVIDIA Inception ③Accelerator 0.001 3⋅1993년 설립 후 AI, 데이터과학 분야의 초기 스타트업의 제품개발 , \\n프로토타입제작 등을 지원하는 엑셀러레이팅 프로그램\\n⋅주요 AI투자 사례: TerraNexum( 탄소포집기술 ), Pizi(ChatGPT 용 파일 \\n검색엔진 ), Motiva AI(마케팅용 AI)',\n",
       "  \"https://wccftech.com/nvidia-to-dominate-data-center-share-in-2024-46-billion-usd-revenue-expected/  \\n22.https://www.nvidia.com/en-us/data-center/products/ai-enterprise/  \\n23.DCD('23.6.30.), Generative AI company Inflection AI raises $1.3bn from Microsoft, Bill Gates, Eric Schmidt, & Nvidia\",\n",
       "  '글로벌 Top 6 빅테크 기업 AI 투자 동향 \\nNIA 미래전략팀 김소미 선임연구원 (somikim@nia.or.kr) THE AI REPORT 2024-2 | 2024. 9. 9.\\n1 \\n분석 대상 선정 기준  \\n  ○ AI 투자를 주도하고 있는 기업을 분석하기 위해 분석 대상은 △전세계 Tech 기업 시가총액 상위 20개1) 중, \\n△인공지능 ETF 2)와 빅테크 ETF 3)에 속하면서 , △R&D지출액 4)이 높은 기업 6개로 선정\\n [표1] 분석 대상 기업 선정\\n시총 순위 Name 시총($b) 인공지능 ETF 빅테크 ETF R&D지출($b) 전세계 R&D 순위 최종\\n1 Microsoft 2,979 O O 28 4 선정\\n2 Apple 2,561 O O 27 5 선정\\n3 NVIDIA 1,988 O O 7 27 선정\\n4 Alphabet(Google) 1,953 O O 40 2 선정\\n5 Amazon 1,844 O O 745) 1 선정\\n6 Meta(Facebook) 1,222 O O 36 3 선정\\n7 TSMC 673 5 43\\n8 Broadcom 567 O O 5 47\\n9 Tesla 452 O O 3 69\\n10 Tencent 386 O 9 20\\n11 Samsung 366 O 20 8\\n12 ASML 345 3 65\\n13 Oracle 315 O 9 21\\n14 Salesforce 266 O 5 44\\n15 AMD 240 5 45\\n16 Netflix 239 O O 3 84\\n17 Adobe 209 O 3 70\\n18 SAP 208 7 35\\n19 Cisco 195 O 7 33\\n20 QUALCOMM 179 O 8 22\\n*자료원: Companiesmarketcap.com(2024), ETFDB(2024), EU(2023)\\n1) 2024.04.23. 기준 – https://companiesmarketcap.com/tech/largest-tech-companies-by-market-cap',\n",
       "  '본사미국⋅딥마인드\\x00공동창업자\\x00Mustafa\\x00Suleyman가\\x002022년\\x00\\n설립한\\x00개인용\\x00AI\\x00비서\\x00‘Pi’\\x00개발사\\n⋅2023년\\x00NVIDIA\\x00AI\\x00슈퍼컴퓨터\\x00개발\\x00참여29)\\nCoreWeave\\n(클라우드 )2023552,700Nvidia\\n본사미국⋅2017년\\x00설립된\\x00AI\\x00전문\\x00클라우드\\x00서비스로\\x00\\nNVIDIA의\\x00GPU\\x00활용하여\\x00구축\\nRecursion  \\nPharmaceuti\\ncals\\n(신약개발 )202350n/aNvidia\\n본사미국⋅2013년\\x00설립된\\x00신약\\x00개발\\x00기업으로\\x00의학,\\x00생물학\\x00\\n분야\\x00역량강화\\x00위해\\x004%\\x00지분\\x00확보\\n⋅Recursion은\\x00NVIDIA의\\x00치료제\\x00개발\\x00전용\\x00생섬AI\\x00\\n‘BioNemo’를\\x00활용\\nImbue\\n(맞춤형 AI)202335800Nvidia\\n본사미국⋅2023년\\x00설립된\\x00생산성\\x00향상을\\x00위한\\x00맞춤형\\x00AI\\x00\\n에이전트\\x00기업',\n",
       "  '19 Cisco 195 O 7 33\\n20 QUALCOMM 179 O 8 22\\n*자료원: Companiesmarketcap.com(2024), ETFDB(2024), EU(2023)\\n1) 2024.04.23. 기준 – https://companiesmarketcap.com/tech/largest-tech-companies-by-market-cap  \\n2) 인공지능 ETF 중 자산규모 (AUM) 가 가장 큰 2개 ETF 중에서 중소형 기업과 로봇/자율주행 중심의 BOTZ \\nETF(AUM 26억 달러)가 아닌, AI와 빅테이터 중심의 AIQ ETF(AUM 17억 달러) 보유 종목 기준\\n* 인공지능 ETF 순위: https://etfdb.com/themes/artificial-intelligence-etfs/  \\n3) KODEX 미국 빅테크 10이 추종하는 NYSE( 뉴욕증권거래소 ) FANG+ Index 기준   https://www.ice.com/equity-index/fangplus\\n4) The 2023 EU Industrial R&D Investment Scoreboard, EU, 2023.12 – EU는 2003 년 이후 매년 R&D \\n기준 전세계 상위 3,000 개 기업의 통계를 제공하고 있으며 , 여기에서는 2022 년 기준 R&D 지출액을 기준으로 산정\\nhttps://iri.jrc.ec.europa.eu/index.php/scoreboard/2023-eu-industrial-rd-investment-scoreboard#field_data  \\n5) Ranking of the companies with the highest spending on R&D worldwide in 2022, Statista, 2023.05 - \\nEU 통계에서 아마존의 손익계산서에 R&D 계정 항목이 없다는 이유로 Amazon 을 제외하였으나 , Statitsa 등에서',\n",
       "  'THE AI REPORT 2024-2 | 2024. 9. 9.\\n3\\nAI Top100 기업에 대한 Top 6 빅테크의 6) 투자\\n  ○ 6대 빅테크가 지분투자를 한 기업은 AI Top100 전체 기업의 36%에 달하며 , 이 중 기업가치 7) 상위 \\n10개 AI 기업 중에선 70%에 달함\\n    - Microsoft 는 AI Top100 중 기업가치 Top3에 투자하며 투자대상 기업가치 (약 1,740 억 달러)가 빅테크 중 \\n1위를 기록, 투자 건수로는 NVIDIA 가 22건으로 가장 높은 건수를 기록\\n    - AI Top100 기업 중, 기업가치 상위 10개 기업 투자 건수로는 Microsoft , Amazon, NVIDIA 가 5건으로 \\n가장 높게 나타났으며 , Google(2 건), Meta(1 건), Apple(0 건) 순으로 높게 나타남\\n[표 2] AI Top 100 기업에 대한 빅테크 투자현황\\n*자료원: CB Insights(2024.04), Forbes(2024.04)\\n6) 시장조사기관 CB Insight 의 2024 년 AI 유망 스타트업 Top100 리스트와 포브스가 발표한 2023 년 AI Top50 기업 \\n리스트를 중복 제거 후 통합한 115개 기업에서 투자유치금액과 기업가치 순위 평균으로 상위 100개 기업을 도출\\nAI 100: The most promising artificial intelligence startups of 2024, CB Insights, 2024.04\\nhttps://www.cbinsights.com/research/report/artificial-intelligence-top-startups-2024/  \\nForbes’ sixth annual AI 50, Forbes, 2024.4.11. https://www.forbes.com/lists/ai50/?sh=115047290f4d  \\n7) CB Insights 과 dealroom.co 에서 제공하는 투자유치 시점의 기업가치를 기준으로 작성순위 기업명 설명 국가기업가치',\n",
       "  'THE AI REPORT 2024-2 | 2024. 9. 9.\\n7Part 2 Top 6 빅테크 기업별 AI 투자 동향 \\n1.Micorosoft\\nAI 투자 현황\\n  ○ Microsoft 는 ChatGPT 가 대중의 주목을 받기 전인 ’23년 1월 OpenAI 에 100억 달러 규모의 투자를 단행 \\n  ○ ’21년에는 대화형 AI 기업 Nuance Communication 와 OpenAI 투자금액의 2배 규모(197억 달러)의 M&A를 하는 등 \\n’15년 이후 평균 20여 건의 투자를 꾸준히 진행하면서 오랫동안 AI 분야를 전략적 우선순위에 두고 모니터링\\n[그래프 5] Microsoft 의 AI 투자 건수 및 규모(’15~’24 년)\\n(단위: 건)\\nAI 투자조직\\n  ○ Microsoft 는 Google 과 마찬가지로  본사를 통한 ①직접투자 , ②기업형 벤처캐피탈 (CVC), 초기 단계 스타트업 \\n지원을 위한 ③엑셀러레이터 프로그램 (Microsoft for startup) 을 통해 AI에 투자 중\\n    - Microsoft 는 AI 시장 선점을 위해서 ChatGPT 개발사인 OpenAI 에 ’23년 1월 100억 달러를 직접투자 \\n    - ’21년 자사의 핵심 CVC인 M12의 조직개편을 통해서 투자수익보다는 AI, 클라우드 , 사이버보안과 같은 모회사의 \\n전략 우선순위 지원을 최우선 과제로 전환10)\\n10) Are corporate VC ‘tourists’ pulling back amid the downturn?, Pitchbook, 2022.8.3. - CVC 초기에는 \\n경쟁사 투자금지 , IPO 금지 등을 투자 조건으로 거는 등으로 모회사 사업지원이 투자수익보다 우선시 되었으나 , \\n최근 10년 새 CVC가 5배 가까이 성장하면서 초기보다는 일반 VC와 같은 투자수익 우선으로 변화해 옴. 이에 대해서 \\nMicrosoft 내부적으로 우선순위를 다시 재조정한 것. 이는 VC 투자수익보다는 모회사 사업을 통한 수익이 훨씬 크기 때문',\n",
       "  \"THE AI REPORT 2024-2 | 2024. 9. 9.\\n31https://w w w .datacenterdynam ics.com /en/new s/generative-ai-com pany-inflection-ai-raises-13 bn-from -m icrosoft-bill-gates-eric-schm idt-nvidia/  \\n24.Reuters('24.8.28), Meta to shut augmented reality studio used by third-party creators\\nhttps://www.reuters.com/technology/meta-shut-augmented-reality-studio-used-by-third-party-creators-2024-08-27/  \\n25.TechCrunch('24.2.27.), Photoroom, the AI image editor, raised $43M at a $500M valuation\\nhttps://techcrunch.com/2024/02/27/confirmed-photoroom-the-ai-image-editor-raised-43m-at-a-500m-valuation/\\n26.CB Insight('24.1.4.), State of Venture 2023 Report\\nhttps://www.cbinsights.com/research/report/venture-trends-2023/\\n27.CB Insight('24.4.), State of Venture Q1’24 Report\\nhttps://www.cbinsights.com/research/report/venture-trends-q1-2024/\\n28.Stanford HAI('24.4.), Artificial Intelligence Index Report 2024\\n29.theverge.com('24.2.1.), Amazon left Roomba with a huge mess to clean up\",\n",
       "  '글로벌 Top 6 빅테크 기업 AI 투자 동향\\n16M\\n&\\nARun:AI\\n(모델최적화 )2024700-Nvidia\\n본사이스라엘⋅2018년\\x00설립된\\x00GPU\\x00가속/가상화를\\x00통한\\x00AI\\x00최적화\\x00\\n전문기업으로\\x00AI\\x00관련\\x00제품의\\x00최적화\\x00목적\\nDeci AI\\n(모델최적화 )2024300-Nvidia\\n본사이스라엘⋅2019년\\x00설립된\\x00딥러닝\\x00모델\\x00개발\\x00자동화,\\x00간소화\\x00\\n서비스로\\x00Nvidia의\\x00AI\\x00효율\\x00강화\\x00목적\\nOmniML\\n(모델최적화 )2023n/a-Nvidia\\n본사미국⋅2021년\\x00설립된\\x00저전력\\x00엣지\\x00컴퓨팅에서\\x00머신러닝\\x00\\n모델\\x00최적화\\x00기업으로,\\x00자사\\x00엣지\\x00컴퓨팅\\x00분야\\x00AI\\x00\\n역량\\x00강화\\x00목적\\nParabricks\\n(의료데이터 )2019n/a-Nvidia\\n본사미국⋅2016년\\x00설립된\\x00유전자\\x00데이터분석\\x00기업으로\\x00\\nNvidia의\\x00의료,\\x00생명과학\\x00분야\\x00강화를\\x00목적으로\\x00\\n인수되었으며,\\x00현재\\x00Nvidia\\x00제품군으로\\x00통합되어\\x00\\n제공\\x00중\\nAnimatico\\n(AI 아바타 )2022n/a-Nvidia\\n본사스위스⋅2019년\\x00설립된\\x00고객\\x00대응용\\x00AI\\x00아바타\\x00서비스로\\x00\\n기존\\x00Nvidia\\x00서비스에\\x00통합반영\\x00목적으로\\x00인수',\n",
       "  '캐피털 펀드로 2022년 설립 \\n⋅주요 AI투자 사례: Figure( 휴머노이드 로봇), Rightbot( 물류창고 로봇), \\nFlymingo( 영상인식 물류창고관리 솔루션 )\\nClimate Pledge\\nFund③CVC 5 4⋅기후 협약의 목표를 달성하기 위한 지속가능 , 탄소제로기술 개발을 위해 20억 \\n달러 규모로 조성된 투자 프로그램으로 2020년 설립\\n⋅주요 AI투자 사례: Glacier( 로봇폐기물 ), Pachama( 위성데이터 ), ION \\nEnergy( 전기차 배터리 관리시스템 )\\n기타 - 0.04 3⋅AWS Healthcare Accelerator, AWS Activate 43)',\n",
       "  '*자료원: Crunchbase(2024.05)\\n9) AI를 포함한 모든 산업에 대한 해당 빅테크의 투자 건수 포함구분투자건수 (전체)9) 투자건수 (AI) AI 투자 비중\\nM&A 지분투자 합계 M&A 비중 M&A 지분투자 합계 M&A 지분투자 합계\\nGoogle 263 1,387 1,650 16% 14 267 281 5% 19% 17%\\nMicrosoft 255 609 864 30% 12 179 191 5% 29% 22%\\nAmazon 97 338 435 22% 6 66 72 6% 20% 17%\\nApple 133 31 164 81% 25 2 27 19% 6% 16%\\nNVIDIA 25 94 119 21% 6 63 69 24% 67% 58%\\nMeta 101 34 135 75% 10 4 14 10% 12% 10%\\n평균 875 2,493 3,368 26% 74 581 655 8% 23% 19%\\nGoogle   MS   Amazon  Apple   NVIDIA   Meta Google   MS   Amazon  Apple   NVIDIA   Meta',\n",
       "  '글로벌 Top 6 빅테크 기업 AI 투자 동향\\n10[표 7] Microsoft 의 AI 투자 사례\\n17) Microsoft invests $1.5 billion in Abu Dhabi’s G42 to accelerate AI development and global \\nexpansion, Microsoft, 2024.4.15\\n18) Microsoft Makes High-Stakes Play in Tech Cold War With Emirati A.I. Deal, NY Times, 2024.4.16\\n19) Microsoft hires Inflection founders to run new consumer AI division, Techcrunch, 2024.3.19\\n20) https://www.weforum.org/agenda/2020/06/technology-pioneers-2020/  구\\n분대상 시기투자규모\\n($m)기업가치\\n($m)투자\\n조직국적 대상 기업 설명\\n지\\n분\\n투\\n자OpenAI\\n(생성AI)2019\\n202310,5009,500MS\\x00본사미국⋅생성AI\\x001위\\x00서비스\\x00ChatGPT\\x00개발사로,\\x002019년\\x00\\n5억\\x00달러\\x00투자를\\x00시작으로,\\x002023년\\x001월\\x00100억\\x00\\n달러\\x00투자\\nG42\\n(기업솔루션 )20241,500n/aMS\\x00본사UAE⋅아랍에미리트\\x00대형\\x00AI,\\x00클라우드\\x00컴퓨팅\\x00회사로\\x00\\nMS의\\x00중동아프리카\\x00지역\\x00사업\\x00확대\\x00목적\\x00투자17)\\n⋅중동에\\x00대한\\x00중국\\x00영향력\\x00확대\\x00견제를\\x00위한\\x00미국\\x00\\n차원의\\x00움직임도\\x00있음18)\\nCruise\\n(자율주행 )202166728,000MS\\x00본사미국⋅General\\x00Motors의\\x00자율주행\\x00자회사,\\x00Honda(27.5억\\x00\\n달러),\\x00소프트뱅크\\x00비전펀드(22.5억\\x00달러)\\x00등\\x00유치\\n⋅자율주행\\x00기술\\x00개발을\\x00통한\\x00투자수익\\nWayve\\n(자율주행 )2022\\n2024273n/aMS\\x00본사영국⋅2017년\\x00설립된\\x00자율주행용\\x00AI\\x00개발\\x00회사로\\x00\\nNVIDIA,\\x00Softbank도\\x00투자\\nInflection AI',\n",
       "  '비즈니스를 주요 수익원으로 하는 빅테크 기업(구글, MS, 아마존 , Nvidia) 과 달리 일반 소비자로부터 대부분의 매\\n출을 얻는 B2C 중심의 애플의 사업 구조상 불필요하기 때문\\n23) 투자대상 : 최신성을 고려해 2019 년 이후 투자 건 기준으로 빅테크의 투자금액 순으로 선정\\n    (단, 2019 년 이후 건이 없는 경우에는 그 이전 투자 건도 포함)\\n 투자금액 : 여러 투자자가 참여한 경우, 1/N로 나눠서 투자금액 추정',\n",
       "  'THE AI REPORT 2024-2 | 2024. 9. 9.\\n112.Apple 21)\\nAI 투자 현황\\n  ○ Apple 은 구글, MS, 아마존과 달리 별도의 CVC(기업 VC)나 스타트업 지원을 위한 Accelerator 조직을 운영하지 않아 \\n지분투자 건수는 다른 빅테크 대비 저조한 편이며 , 투자 형태 또한 투자 기업의 역량을 내재화하는 M&A 중심으로 진행\\n    - 이러한 M&A 중심의 투자는 B2C 중심의 애플의 사업구조 22)와 역량 독점을 통한 사업 전략에서 비롯됨\\n[그래프 9] Apple 의 AI 투자 건수 및 규모(’15~’24 년)\\n(단위: 건)\\n주요 지분투자 및 M&A 사례 23)\\n  ○ Apple 은 여러 투자자와 공동 투자를 진행하는 형식의 지분투자는 ’16년 중국 모빌리티 서비스 기업 Didi에 \\n6.43억 달러의 투자를 마지막으로 진행한 바가 없으며 , 자사 서비스 강화를 위한 M&A를 중심으로 투자 전개\\n    - M&A에서도 생성AI나 AI모델보다는 현재 캐시카우 역할을 하는 자사 서비스에 직접 도움되는 기업 중심으로 진행\\n    - 구체적으로 애플 서비스의 인터페이스 역할을 하는 Siri 강화를 목적으로 LaserLike( 검색), Vilynx( 검색/추천), \\nVoysis( 음성인식 )와 같은 기업을 인수했으며 , Apple Music 서비스 강화를 위해서 AI Music 과 Scout FM을 인수\\n21) Apple 은 별도의 투자조직이 없으므로 , 조직별 상세내역을 다루지 않음\\n22) 스타트업 투자는 신규 기업고객을 유치하는 B2B 마케팅 성격을 띠기도 하는데 , 클라우드 , 광고, 컴퓨팅 등의 B2B \\n비즈니스를 주요 수익원으로 하는 빅테크 기업(구글, MS, 아마존 , Nvidia) 과 달리 일반 소비자로부터 대부분의 매\\n출을 얻는 B2C 중심의 애플의 사업 구조상 불필요하기 때문\\n23) 투자대상 : 최신성을 고려해 2019 년 이후 투자 건 기준으로 빅테크의 투자금액 순으로 선정',\n",
       "  'THE AI REPORT 2024-2 | 2024. 9. 9.\\n15\\n주요 지분투자 및 M&A 사례 28)\\n  ○ NVIDIA 는 자사의 핵심 상품인 AI 하드웨어 강화를 위해 ’23년 이후 공격적인 투자를 단행하고 있으며 , 특히 \\nAI 모델 성능을 최적화 , 자동화 할 수 있는 Run: AI, Deci AI, OmniML 등의 기업들을 잇따라 인수합병 하여, \\n급변하는 AI 시장 내에서 해당 역량을 내부 경쟁력으로 확보\\n    - AI 서비스가 그 자체로 플랫폼화되고 , 산업별로 세분화되는 추세에 대응하기 위해서 Wavye( 자율주행 ), \\nRecursion Pharmaceuticals( 신약개발 ), Parabricks( 의료데이터 ) 등의 회사에도 투자 진행\\n[표 11] NVIDIA 의 AI 투자 사례\\n28) 투자대상 : 최신성을 고려해 2019 년 이후 투자 건 기준으로 빅테크의 투자금액 순으로 선정\\n 투자금액 : 여러 투자자가 참여한 경우, 1/N로 나눠서 투자금액 추정\\n29) Generative AI com pany Inflection AI raises $1.3bn from  M icrosoft, Bill Gates, Eric Schm idt, & Nvidia, DCD, 2023.6.30구\\n분대상 시기투자규모\\n($m)기업가치\\n($m)투자\\n조직국적 대상 기업 설명\\n지\\n분\\n투\\n자Wayve\\n(자율주행 )2024263n/aNvidia\\n본사영국⋅2017년\\x00설립된\\x00자율주행용\\x00AI\\x00개발\\x00회사로\\x00\\nMicrosoft,\\x00Softbank도\\x00투자\\nInflection AI\\n(생성AI)20232172,700Nvidia\\n본사미국⋅딥마인드\\x00공동창업자\\x00Mustafa\\x00Suleyman가\\x002022년\\x00\\n설립한\\x00개인용\\x00AI\\x00비서\\x00‘Pi’\\x00개발사\\n⋅2023년\\x00NVIDIA\\x00AI\\x00슈퍼컴퓨터\\x00개발\\x00참여29)\\nCoreWeave\\n(클라우드 )2023552,700Nvidia\\n본사미국⋅2017년\\x00설립된\\x00AI\\x00전문\\x00클라우드\\x00서비스로\\x00\\nNVIDIA의\\x00GPU\\x00활용하여\\x00구축\\nRecursion',\n",
       "  '기업, Synthesia, Twelve Labs 같은 영상 기반 AI 서비스 등에 투자\\n       ※ NVIDIA 는 지난 ’24년 3월 개최된 GTC 행사25)에서 발표한 휴머노이드 로봇용 AI 모델 서비스 Project GR00T 를 포함해 , \\n신약 개발을 위한 3D 단백질 분석 AI 서비스인 BioNeMo, 생성AI 모델 생성을 위한 NeMo, 데이터분석을 위한 RAPIDS, \\n3D 시뮬레이션을 위한 Omniverse, 의료영상분석과 스마트병원을 위한 Clara 등의 서비스를 제공26)\\n24) NVIDIA To Dom inate AI Share In 2024 W ith An Estimated $46 Billion In Data Center Revenue, wccftech, 2024.02.01\\n25) GPU Technology Conference, 2009 년부터 매년 개최되는 Nvidia 주최 글로벌 AI 컨퍼런스',\n",
       "  '글로벌 Top 6 빅테크 기업 AI 투자 동향\\n24구\\n분대상 시기투자규모\\n($m)기업가치\\n($m)투자\\n조직국적 대상 기업 설명\\nM\\n&\\nASnackable \\nAI\\n(오디오콘텐츠 )2023n/a-Amazon\\x00\\n본사미국⋅2018년\\x00설립된\\x00AI\\x00오디오\\x00콘텐츠\\x00분석\\x00기업으로\\x00\\nAmazon\\x00Music과\\x00팟캐스트\\x00강화\\x00목적\\nZoox\\n(자율주행 )20201,200-Amazon\\x00\\n본사미국⋅2014년\\x00설립된\\x00자율주행\\x00소프트웨어\\x00기업으로,\\x00\\nAmazon의\\x00자율주행\\x00물류\\x00시스템\\x00강화\\x00목적\\n⋅전자상거래\\x00기업으로\\x00최대\\x00규모의\\x00자율주행\\x00기업\\x00\\n인수이며,\\x00Amazon이\\x00부족한\\x00특허자산\\x00강화\\x00목적49)\\nBody Labs\\n(3D모델링 )201760-Amazon\\x00\\n본사미국⋅2013년\\x00설립된\\x00인체\\x003D\\x00스캐닝,\\x00모델링\\x00전문기업\\n으로\\x00Amazon\\x00전자상거래\\x00내\\x00의류\\x00측정\\x00서비스\\x00\\n도입으로\\x00경쟁력\\x00강화\\x00목적\\nharvest.ai\\n(콘텐츠보호 )201720-Amazon\\x00\\n본사미국⋅2014년\\x00설립된\\x00지적재산\\x00및\\x00비즈니스\\x00문서\\x00보호\\x00\\n기업으로\\x00AWS\\x00내\\x00보안기능\\x00강화\\x00목적',\n",
       "  'THE AI REPORT 2024-2 | 2024. 9. 9.\\n29③ AI 모델 최적화 및 개발 자동화⋅LLaMA 와 같은 AI 모델 역량 향상을 통한 \\n자사 AI 경쟁력 강화, 이를 통해 LLaMA \\n중심의 생태계를 형성하고 AI 분야 지배력 \\n향상\\n⋅B2C 서비스용 AI\\n⋅기기 인터페이스용 AI\\n⋅엣지 AI① Apple 생태계 내 AI 통합\\n(온디바이스 AI 구현)⋅아이폰 , 아이패드 , 맥 등 Apple 기기에 \\nAI 기능을 통합한 ‘애플 인텔리전스 ’를 \\n구현\\n⋅ChatGPT 를 Siri에 통합하는 등 AI 기업과 \\n협업을 확대해 Apple 만의 AI 생태계 구축\\n② 개인화된 맞춤형 AI 경험 제공⋅AI를 통해 자사 서비스의 사용성을 \\n높이고 , 고객에게 최적화된 경험을 \\n제공하기 위해 B2C 중심의 AI 투자 전개\\n⋅메시지 , 메모, 사진 앱 등 다양한 Apple \\n서비스에 생성 AI기능을 접목하여 맞춤형 \\nAI 경험을 제공하는 등 자사 서비스 강화\\n③ 엣지 AI 기술 강화⋅Xnor.ai 인수를 통해 엣지 컴퓨팅에서 \\nAI 기술을 강화하고 , 스마트 기기에서 \\nAI 성능을 극대화',\n",
       "  '글로벌 Top 6 빅테크 기업 AI 투자 동향\\n2Part 1 Top 6 빅테크 전체 AI 투자 현황 \\nTop 6 빅테크 R&D 분석\\n  ○ 선정된 6대 빅테크 R&D 합산 규모는 ’15년 510억 달러에서 ’23년 4배 이상 증가한 2,387 억 달러로 성장, \\n매출에서 차지하는 비중 또한 ’15년 10%에서 ’23년 14%로 증가해 AI를 포함한 IT시장을 선도하기 위해서 \\nR&D의 역할이 중요해지고 있음을 방증\\n    - 빅테크의 R&D 연간 규모(’19~’23 년 평균)로 보면 Amazon 이 연간 587억 달러로 가장 높은 수준이며 , \\nGoogle(340 억 달러), Meta(261 억 달러), Microsoft(245 억 달러) 순으로 나타남\\n    - 빅테크의 R&D 연간 지출 규모(’19~’21 년 평균)는 주요국의 1년 정부 과학기술 R&D 예산보다 큰 수준\\n       ※ ’19~21 년 평균 R&D 예산: Amazon(44.9$b) >  Google(28.4$b) > 일본(26.3$b) > 영국(17.5$b) > 캐나다 (10.6$b)\\n[그래프 1] 빅테크의 R&D 규모 비교\\n*자료원: 각사 SEC 자료 정리(2024), OECD(2024), EU(2024)(‘19-23 평균)',\n",
       "  'THE AI REPORT 2024-2 | 2024. 9. 9.\\n9\\n주요 지분투자 및 M&A 사례 13)\\n  ○ Microsoft 는 기존 캐시카우 역할을 하는 자사 서비스 역량 강화와 새로운 플랫폼으로 떠오르고 있는 생성AI를 \\n주축으로 하는 AI 플랫폼 시장에 공격적으로 진입\\n    - AI 플랫폼 시장 선점을 위해서 Open AI 투자(100억 달러)와 의료 분야 전문 AI 서비스 Nuance(197 억 달러) 단행\\n    - 이후 점점 중요해지는 AI 서비스 개발 역량 내재화를 위해서 ’24년 3월 구글 DeepMind 공동창업자 Mustafa \\nSuleyman 가 공동 창업한 생성AI 기업 Inflection AI를 6.2억 달러에 우회 인수 \\n참고\\n ⋅Microsoft 는 Mustafa Suleyman 를 Microsoft Copilot 조직의 CEO로 임명하고 , Inflection AI의 인공지능 개발자 \\n70명을 해당 조직으로 영입14)\\n ⋅빅테크 독점에 대한 규제 감독 강화에 따른 NVIDIA 의 ARM 인수 무산(400억 달러), Amazon 의 iRbot 인수 무산(14억 달러) \\n등이 이어지면서 , OpenAI 투자 건으로 조사를 받기 시작한 15) Microsoft 는 AI 내부 역량을 확보하기 위한 묘책으로 기존의 \\n인수합병 방식이 아닌, 6.5억 달러 규모의 Inflection AI 라이선스 구매라는 형식을 취함\\n  ⋅그러나 이 계약 이후 단순한 서비스 구매가 아니라 , 공동창업자 2명과 산하 AI 개발조직 70명이 Microsoft 로 넘어\\n오면서 , M&A 형식만 취하지 않았을 뿐 사실상 라이선스 금액으로 해당 기업 투자자들에게 인수대금을 지불하고 핵심\\n인력을 인수하는 Acqui-Hiring 16) 형식을 취하고 있어, 규제감독기관의 후속 조사와 규제 리스크가 있는 상황\\n    - M&A 분야에서 기업용 ERP 등을 제공하는 MS의 Dynamics 365 강화를 위해서 AI 활용한 지출내역 개선진단',\n",
       "  'THE AI REPORT 2024-2 | 2024. 9. 9.\\n19\\n주요 지분투자 및 M&A 사례 32)\\n  ○ Google 은 ’19년 이후 주로 생성 AI, AI칩, AI 기반 콘텐츠 제작, 데이터 분석 회사에 대한 투자를 확대\\n    - Google 의 ’19년 이후 가장 큰 투자는 Anthrophic( 생성AI, 23억 달러), SambaNova Systems(AI 칩, 1.65억 \\n달러), Glance( 콘텐츠 , 1.45억 달러), Lightmatter(AI 칩), Databricks( 데이터분석 )로 진행\\n       ※ 이 중 생성AI Claude3 개발사인 Anthrophic 에 대한 23억 달러 규모33)의 투자는 Google 이 인공지능 시장을 얼마나 \\n중요하게 보는지 보여주는 대목\\n    - 안드로이드 , 유튜브 , 딥마인드 등 M&A를 중요 전략 수단으로 사용해온 34) Google 은 인공지능 분야에서도 \\nPhotomath( 이미지인식 ), BreezonMeter( 기후정보 ), Alter(3D 아바타 ), Phiar( 증강현실 내비게이션 ) 등의 AI 기업 인수\\n[표 5] Google 의 AI 투자 사례\\n32) 투자대상 : 최신성을 고려해 2019 년 이후 투자 건 기준으로 빅테크의 투자금액 순으로 선정\\n 투자금액 : 여러 투자자가 참여한 경우, 1/N로 나눠서 투자금액 추정, \\n ‘15~’24 년 기준 M&A 투자 건의 62%, 지분투자의 13%는 금액이 공개되지 않음\\n33) 2015 년 이후 공개된 Google 의 지분투자와 M&A 투자건 중에서 가장 큰 규모\\n34) Google 이 핵심 서비스인 검색엔진 외에도 모바일 , 동영상 , 인공지능과 같은 영역에서 영향력을 갖게 된 것은 \\n안드로이드 (‘05년, 0.5억 달러), 유튜브 (‘06년, 16.5억 달러), DeepMind(’14 년, 약 5억 달러) 등 기업을 조기에 \\n발굴하고 , 과감하게 투자했기 때문',\n",
       "  'THE AI REPORT 2024-2 | 2024. 9. 9.\\n5\\nTop 6 빅테크 AI 투자 비중\\n  ○ ’15~’24 년 간 빅테크의 전체 산업 및 AI 투자활동 은 Google, Microsoft, Amazon 순으로 활발했으며 . 각 사의 \\n전체 투자 건 중 AI 투자 비중이 가장 높은 것은 NVIDIA 로 나타남\\n    - 전체 산업에 대한 투자활동을 보면, Google 이 1,650 건으로 가장 활발하고 , Microsoft(864 건), Amazon(435 건), \\nApple(164 건), Meta(135 건), NVIDIA(119 건) 순으로 높게 나타남\\n    - AI 투자활동 역시 Google(281 건), Microsoft(191 건), Amazon(73 건) 순으로 높게 나타남 \\n    - 빅테크 중에서 각 사의 전체 산업에 대한 투자 건 중에서 AI 투자 비중이 가장 높은 것은 NVIDIA(58%) 로 나타남\\n    - Apple 과 Meta는 자사의 전체 산업 투자 및 AI 투자에 있어서 M&A 비중이 높았으며 , 이는 다른 빅테크 대비 \\n상대적으로 기술, 인력 독점을 통한 내재화 전략을 추구해 왔음을 시사\\n       ※ 그러나 이러한 기술 독점 전략은 AI와 같은 급격한 기술변화에 대한 탐지와 대응 면에서 뒤쳐질 수 있는 리스크를 동반하고 \\n있으며 , 실제로 Meta와 Apple 은 AI 투자건수 면에서 빅테크 중에서 가장 낮은 수준을 기록하고 있음\\n[표 3] 빅테크 일반 투자 활동과 AI 투자 비중 (’15.01~’24.05)\\n*자료원: Crunchbase(2024.05)\\n9) AI를 포함한 모든 산업에 대한 해당 빅테크의 투자 건수 포함구분투자건수 (전체)9) 투자건수 (AI) AI 투자 비중\\nM&A 지분투자 합계 M&A 비중 M&A 지분투자 합계 M&A 지분투자 합계\\nGoogle 263 1,387 1,650 16% 14 267 281 5% 19% 17%'],\n",
       " 'uris': None,\n",
       " 'data': None,\n",
       " 'included': ['metadatas', 'documents']}"
      ]
     },
     "execution_count": 55,
     "metadata": {},
     "output_type": "execute_result"
    }
   ],
   "source": [
    "# 저장된 데이터 확인\n",
    "vector_store2.get()"
   ]
  },
  {
   "cell_type": "code",
   "execution_count": 57,
   "metadata": {},
   "outputs": [],
   "source": [
    "DB_PATH = \"./chroma_test2_db\"\n",
    "# 디스크에서 문서를 로드합니다.\n",
    "persist_db = Chroma(\n",
    "    persist_directory=DB_PATH,\n",
    "    embedding_function=embeddings,\n",
    "    collection_name=\"my_db\",\n",
    ")"
   ]
  },
  {
   "cell_type": "code",
   "execution_count": 58,
   "metadata": {},
   "outputs": [
    {
     "data": {
      "text/plain": [
       "{'ids': [],\n",
       " 'embeddings': None,\n",
       " 'metadatas': [],\n",
       " 'documents': [],\n",
       " 'uris': None,\n",
       " 'data': None,\n",
       " 'included': ['metadatas', 'documents']}"
      ]
     },
     "execution_count": 58,
     "metadata": {},
     "output_type": "execute_result"
    }
   ],
   "source": [
    "persist_db.get() # collection_name이게 기존 것이랑 다르면 아무것도 못가져옴"
   ]
  },
  {
   "cell_type": "code",
   "execution_count": 59,
   "metadata": {},
   "outputs": [],
   "source": [
    "DB_PATH = \"./chroma_test2_db\"\n",
    "# 디스크에서 문서를 로드합니다.\n",
    "persist_db = Chroma(\n",
    "    persist_directory=DB_PATH,\n",
    "    embedding_function=embeddings,\n",
    "    collection_name=\"chroma_db\",\n",
    ")"
   ]
  },
  {
   "cell_type": "code",
   "execution_count": 62,
   "metadata": {},
   "outputs": [
    {
     "data": {
      "text/plain": [
       "58"
      ]
     },
     "execution_count": 62,
     "metadata": {},
     "output_type": "execute_result"
    }
   ],
   "source": [
    "len(persist_db.get()['ids']) # 기존것 잘 가져온모습!\n",
    "# splitter로 나눠진 문서가 총 58개인데, 벡터화된것도 58개로 딱 맞음"
   ]
  },
  {
   "cell_type": "markdown",
   "metadata": {},
   "source": [
    "## only chorma + add_documents"
   ]
  },
  {
   "cell_type": "code",
   "execution_count": 29,
   "metadata": {},
   "outputs": [],
   "source": [
    "from langchain_chroma import Chroma\n",
    "\n",
    "# 이건 그냥 만들기만 한거네??\n",
    "vector_store = Chroma(\n",
    "    collection_name=\"onlyone_pdf\",\n",
    "    embedding_function=embeddings,\n",
    "    persist_directory=\"./chroma_test_db\",  # Where to save data locally, remove if not necessary\n",
    ")"
   ]
  },
  {
   "cell_type": "code",
   "execution_count": 28,
   "metadata": {},
   "outputs": [
    {
     "data": {
      "text/plain": [
       "<langchain_chroma.vectorstores.Chroma at 0x7f1ada8e8af0>"
      ]
     },
     "execution_count": 28,
     "metadata": {},
     "output_type": "execute_result"
    }
   ],
   "source": [
    "vector_store"
   ]
  },
  {
   "cell_type": "code",
   "execution_count": 30,
   "metadata": {},
   "outputs": [
    {
     "data": {
      "text/plain": [
       "[]"
      ]
     },
     "execution_count": 30,
     "metadata": {},
     "output_type": "execute_result"
    }
   ],
   "source": [
    "vector_store.similarity_search(\"Top 6 빅테크 알려줘\") # 문서 정보를 전혀 받지 못한 모습"
   ]
  },
  {
   "cell_type": "code",
   "execution_count": 33,
   "metadata": {},
   "outputs": [],
   "source": [
    "def add_pdf_to_chroma(pdf_path, vectorstore):\n",
    "    # PDF 로드\n",
    "    loader = PyPDFLoader(pdf_path)\n",
    "    documents = loader.load()\n",
    "    \n",
    "    # 텍스트 분할\n",
    "    text_splitter = RecursiveCharacterTextSplitter(chunk_size=1000, chunk_overlap=200)\n",
    "    splits = text_splitter.split_documents(documents)\n",
    "    \n",
    "    # ChromaDB에 추가\n",
    "    vectorstore.add_documents(splits)\n",
    "\n",
    "    print(f\"Added {pdf_path} to ChromaDB\")"
   ]
  },
  {
   "cell_type": "code",
   "execution_count": 37,
   "metadata": {},
   "outputs": [
    {
     "name": "stdout",
     "output_type": "stream",
     "text": [
      "Added /home/jun/my_project/langchain_tutorial/data/글로벌 Top 6 빅테크 기업 AI 투자 동향.pdf to ChromaDB\n"
     ]
    }
   ],
   "source": [
    "import os\n",
    "\n",
    "pdf_folder = \"/home/jun/my_project/langchain_tutorial/data\"\n",
    "for filename in os.listdir(pdf_folder):\n",
    "    if filename.endswith(\".pdf\"):\n",
    "        pdf_path = os.path.join(pdf_folder, filename)\n",
    "        add_pdf_to_chroma(pdf_path, vector_store)"
   ]
  },
  {
   "cell_type": "code",
   "execution_count": 38,
   "metadata": {},
   "outputs": [
    {
     "data": {
      "text/plain": [
       "[Document(metadata={'page': 20, 'source': '/home/jun/my_project/langchain_tutorial/data/글로벌 Top 6 빅테크 기업 AI 투자 동향.pdf'}, page_content='($m)투자\\n조직국적 대상 기업 설명\\n지\\n분\\n투\\n자Anthrophic\\n(생성AI)2023년\\n(3회)2,30018,400\\n35)Google미국⋅OpenAI\\x00출신이\\x00창업한\\x00생성AI\\x00Claude336)\\x00개발사로\\x00\\n생성AI\\x00역량\\x00강화\\x00목적\\n⋅Amazon도\\x002023.9월과\\x002024.3월에\\x00거쳐\\x0040억\\x00\\n달러\\x00투자\\x00발표\\nSambaNova\\n(하드웨어 )‘18-’21년\\n(4회)1654,425GV37)미국⋅자체\\x00제조\\x00AI\\x00칩과\\x00함께\\x00기업용\\x00AI\\x00플랫폼\\x00제공하며,\\x00\\nGV의\\x00AI\\x00하드웨어\\x00투자로선\\x00첫\\x00번째\\x00사례\\nGlance\\n(콘텐츠 )2020년145855Google인도⋅인도의\\x00스마트폰\\x00잠금화면에\\x00개인화된\\x00콘텐츠와\\x00숏폼\\x00\\n영상서비스\\x00Roposo를\\x00제공하는\\x00AI기반\\x00SW\\x00회사로\\x00\\n인도\\x00내\\x001.2억\\x00명\\x00사용자\\x00확보\\nLightmatter\\n(하드웨어 )‘19-’23년\\n(3회)821,045GV미국⋅저전력\\x00데이터센터용\\x00칩으로\\x00전기\\x00대신\\x00빛을\\x00사용\\n하는\\x00컴퓨팅\\x00제품을\\x00개발하는\\x00스타트업\\nDatabricks\\n(데이터분석 )2021년\\n2023년7242,500CaptialG미국⋅클라우드\\x00기반\\x00기업용\\x00AI\\x00데이터\\x00분석\\x00플랫폼\\n⋅2023년\\x0016억\\x00달러\\x00매출(YoY\\x00+50%)\\x00기록하며,\\x00AI와\\x00\\n데이터\\x00관리\\x00기술에\\x00집중\\x00투자'),\n",
       " Document(metadata={'page': 20, 'source': '/home/jun/my_project/langchain_tutorial/data/글로벌 Top 6 빅테크 기업 AI 투자 동향.pdf'}, page_content='($m)투자\\n조직국적 대상 기업 설명\\n지\\n분\\n투\\n자Anthrophic\\n(생성AI)2023년\\n(3회)2,30018,400\\n35)Google미국⋅OpenAI\\x00출신이\\x00창업한\\x00생성AI\\x00Claude336)\\x00개발사로\\x00\\n생성AI\\x00역량\\x00강화\\x00목적\\n⋅Amazon도\\x002023.9월과\\x002024.3월에\\x00거쳐\\x0040억\\x00\\n달러\\x00투자\\x00발표\\nSambaNova\\n(하드웨어 )‘18-’21년\\n(4회)1654,425GV37)미국⋅자체\\x00제조\\x00AI\\x00칩과\\x00함께\\x00기업용\\x00AI\\x00플랫폼\\x00제공하며,\\x00\\nGV의\\x00AI\\x00하드웨어\\x00투자로선\\x00첫\\x00번째\\x00사례\\nGlance\\n(콘텐츠 )2020년145855Google인도⋅인도의\\x00스마트폰\\x00잠금화면에\\x00개인화된\\x00콘텐츠와\\x00숏폼\\x00\\n영상서비스\\x00Roposo를\\x00제공하는\\x00AI기반\\x00SW\\x00회사로\\x00\\n인도\\x00내\\x001.2억\\x00명\\x00사용자\\x00확보\\nLightmatter\\n(하드웨어 )‘19-’23년\\n(3회)821,045GV미국⋅저전력\\x00데이터센터용\\x00칩으로\\x00전기\\x00대신\\x00빛을\\x00사용\\n하는\\x00컴퓨팅\\x00제품을\\x00개발하는\\x00스타트업\\nDatabricks\\n(데이터분석 )2021년\\n2023년7242,500CaptialG미국⋅클라우드\\x00기반\\x00기업용\\x00AI\\x00데이터\\x00분석\\x00플랫폼\\n⋅2023년\\x0016억\\x00달러\\x00매출(YoY\\x00+50%)\\x00기록하며,\\x00AI와\\x00\\n데이터\\x00관리\\x00기술에\\x00집중\\x00투자'),\n",
       " Document(metadata={'page': 20, 'source': '/home/jun/my_project/langchain_tutorial/data/글로벌 Top 6 빅테크 기업 AI 투자 동향.pdf'}, page_content='($m)투자\\n조직국적 대상 기업 설명\\n지\\n분\\n투\\n자Anthrophic\\n(생성AI)2023년\\n(3회)2,30018,400\\n35)Google미국⋅OpenAI\\x00출신이\\x00창업한\\x00생성AI\\x00Claude336)\\x00개발사로\\x00\\n생성AI\\x00역량\\x00강화\\x00목적\\n⋅Amazon도\\x002023.9월과\\x002024.3월에\\x00거쳐\\x0040억\\x00\\n달러\\x00투자\\x00발표\\nSambaNova\\n(하드웨어 )‘18-’21년\\n(4회)1654,425GV37)미국⋅자체\\x00제조\\x00AI\\x00칩과\\x00함께\\x00기업용\\x00AI\\x00플랫폼\\x00제공하며,\\x00\\nGV의\\x00AI\\x00하드웨어\\x00투자로선\\x00첫\\x00번째\\x00사례\\nGlance\\n(콘텐츠 )2020년145855Google인도⋅인도의\\x00스마트폰\\x00잠금화면에\\x00개인화된\\x00콘텐츠와\\x00숏폼\\x00\\n영상서비스\\x00Roposo를\\x00제공하는\\x00AI기반\\x00SW\\x00회사로\\x00\\n인도\\x00내\\x001.2억\\x00명\\x00사용자\\x00확보\\nLightmatter\\n(하드웨어 )‘19-’23년\\n(3회)821,045GV미국⋅저전력\\x00데이터센터용\\x00칩으로\\x00전기\\x00대신\\x00빛을\\x00사용\\n하는\\x00컴퓨팅\\x00제품을\\x00개발하는\\x00스타트업\\nDatabricks\\n(데이터분석 )2021년\\n2023년7242,500CaptialG미국⋅클라우드\\x00기반\\x00기업용\\x00AI\\x00데이터\\x00분석\\x00플랫폼\\n⋅2023년\\x0016억\\x00달러\\x00매출(YoY\\x00+50%)\\x00기록하며,\\x00AI와\\x00\\n데이터\\x00관리\\x00기술에\\x00집중\\x00투자'),\n",
       " Document(metadata={'page': 19, 'source': '/home/jun/my_project/langchain_tutorial/data/글로벌 Top 6 빅테크 기업 AI 투자 동향.pdf'}, page_content='⋅다른 조직과 달리 대상기업과 Google 내 AI전문가 멘토링 , 운영지원 포함\\n⋅주요 AI투자 사례: Lambda(AI GPU), Labelbox( 데이터 라벨링 ), \\nBenchSci( 생명과학 연구플랫폼 )\\nGoogle Assistant \\nInvestments②CVC 10 12⋅2018년 디지털비서 전문 VC로 출범\\n⋅초기 단계 스타트업 대상으로 자금 외에도 Google 조직과 연계, Google \\nCloud 등 Google 제품 크레딧 , 공동 마케팅 기회 제공\\n⋅주요 AI투자 사례: Wysa( 정신건강수면앱 ), Satisfi Labs(AI 고객센터 ), \\nInstreamatic(AI 오디오광고 )\\nGoogle for Startups ③Accelerator 7 9⋅2011년 극초기 단계 스타트업을 육성하는 엑셀러레이터로 출범\\n⋅주요 AI투자 사례: AgNext Technologies( 식품품질관리 ), Varuna( 수도 \\n관리시스템 ), OpenRisk Technologies Inc.(금융사이버위협 )\\n기타 - 2 7⋅Jigsaw(2 건), Google cloud(2 건), Google digital news initiative(2 건), \\nGoogle for startups black founders fund(1 건)')]"
      ]
     },
     "execution_count": 38,
     "metadata": {},
     "output_type": "execute_result"
    }
   ],
   "source": [
    "vector_store.similarity_search(\"goog e\") # 추가된 모습, 중복을 피할수가 없구나... 추가한만큼 다 중복되서 벡터화된다"
   ]
  },
  {
   "cell_type": "markdown",
   "metadata": {},
   "source": [
    "## 기존 파일과 같은 폴더에 있으면서, 새로운 문서만 추가하는 법!..\n",
    "너무 코드가 비효율적으로 밖에 안짜진다.. 그냥 수동으로 추가하는 게 더 낫나?"
   ]
  },
  {
   "cell_type": "code",
   "execution_count": null,
   "metadata": {},
   "outputs": [],
   "source": [
    "import os\n",
    "import hashlib\n",
    "from langchain.document_loaders import PyPDFLoader\n",
    "from langchain.text_splitter import RecursiveCharacterTextSplitter\n",
    "from langchain.embeddings import OpenAIEmbeddings\n",
    "from langchain.vectorstores import Chroma\n",
    "import time\n",
    "\n",
    "def get_file_hash(file_path):\n",
    "    with open(file_path, \"rb\") as f:\n",
    "        file_hash = hashlib.md5()\n",
    "        chunk = f.read(8192)\n",
    "        while chunk:\n",
    "            file_hash.update(chunk)\n",
    "            chunk = f.read(8192)\n",
    "    return file_hash.hexdigest()\n",
    "\n",
    "def process_new_pdfs(folder_path, db):\n",
    "    for filename in os.listdir(folder_path):\n",
    "        if filename.endswith(\".pdf\"):\n",
    "            file_path = os.path.join(folder_path, filename)\n",
    "            file_hash = get_file_hash(file_path)\n",
    "            \n",
    "            # 중복 확인\n",
    "            if not db.get(where={\"hash\": file_hash}):\n",
    "                loader = PyPDFLoader(file_path)\n",
    "                pages = loader.load_and_split()\n",
    "                \n",
    "                text_splitter = RecursiveCharacterTextSplitter(chunk_size=1000, chunk_overlap=200)\n",
    "                texts = text_splitter.split_documents(pages)\n",
    "                \n",
    "                embeddings = OpenAIEmbeddings()\n",
    "                db.add_documents(texts, metadatas=[{\"hash\": file_hash} for _ in texts])\n",
    "                print(f\"Added {filename} to the database.\")\n",
    "\n",
    "def main():\n",
    "    folder_path = \"path/to/your/pdf/folder\"\n",
    "    db = Chroma(persist_directory=\"path/to/chromadb\")\n",
    "\n",
    "if __name__ == \"__main__\":\n",
    "    main()"
   ]
  }
 ],
 "metadata": {
  "kernelspec": {
   "display_name": "chromarag",
   "language": "python",
   "name": "python3"
  },
  "language_info": {
   "codemirror_mode": {
    "name": "ipython",
    "version": 3
   },
   "file_extension": ".py",
   "mimetype": "text/x-python",
   "name": "python",
   "nbconvert_exporter": "python",
   "pygments_lexer": "ipython3",
   "version": "3.10.14"
  }
 },
 "nbformat": 4,
 "nbformat_minor": 2
}
